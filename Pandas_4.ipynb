{
  "nbformat": 4,
  "nbformat_minor": 0,
  "metadata": {
    "colab": {
      "name": "Pandas-4.ipynb",
      "provenance": [],
      "mount_file_id": "1Tuq27dWmAPFoqbixlG3ZkNOsYup-1K-o",
      "authorship_tag": "ABX9TyOdV5EcUUEBeWpvJbgG2YhF",
      "include_colab_link": true
    },
    "kernelspec": {
      "name": "python3",
      "display_name": "Python 3"
    },
    "language_info": {
      "name": "python"
    }
  },
  "cells": [
    {
      "cell_type": "markdown",
      "metadata": {
        "id": "view-in-github",
        "colab_type": "text"
      },
      "source": [
        "<a href=\"https://colab.research.google.com/github/rekuantsun/PTDL-Python/blob/main/Pandas_4.ipynb\" target=\"_parent\"><img src=\"https://colab.research.google.com/assets/colab-badge.svg\" alt=\"Open In Colab\"/></a>"
      ]
    },
    {
      "cell_type": "markdown",
      "source": [
        "**Câu 1:** Xác định các thư viện cần dùng cho quá trình phân tích thống kê mô tả và đưa vào mã lệnh (sử dụng Google Colab)"
      ],
      "metadata": {
        "id": "VgDaM3TEwaYu"
      }
    },
    {
      "cell_type": "code",
      "execution_count": 1,
      "metadata": {
        "id": "MTDV9MVrwTX9"
      },
      "outputs": [],
      "source": [
        "import math\n",
        "import numpy as np\n",
        "import scipy.stats as stats\n",
        "import pandas as pd\n",
        "import matplotlib.pyplot as plt\n",
        "import statistics as sta\n",
        "import seaborn as sns"
      ]
    },
    {
      "cell_type": "markdown",
      "source": [
        "**Câu 2:** Sử dụng tập dữ liệu Aircraft Wildlife Strikes, 1990-2015 để tiến hành phân tích thống kê\n",
        "mô tả."
      ],
      "metadata": {
        "id": "d2aSo_ktz5n2"
      }
    },
    {
      "cell_type": "code",
      "source": [
        "df = pd.read_csv('/content/drive/MyDrive/Học Lập Trình/Học kỳ 2/PTDL - Python /database.csv')"
      ],
      "metadata": {
        "colab": {
          "base_uri": "https://localhost:8080/"
        },
        "id": "9_j8y9faz9lO",
        "outputId": "2d15eab3-0642-47fa-a750-07033df492d0"
      },
      "execution_count": 2,
      "outputs": [
        {
          "output_type": "stream",
          "name": "stderr",
          "text": [
            "/usr/local/lib/python3.7/dist-packages/IPython/core/interactiveshell.py:2882: DtypeWarning: Columns (9,12,15,17) have mixed types.Specify dtype option on import or set low_memory=False.\n",
            "  exec(code_obj, self.user_global_ns, self.user_ns)\n"
          ]
        }
      ]
    },
    {
      "cell_type": "code",
      "source": [
        "df.head()"
      ],
      "metadata": {
        "colab": {
          "base_uri": "https://localhost:8080/",
          "height": 332
        },
        "id": "QqpekWTS4gne",
        "outputId": "c360eddc-98bf-4fe8-8be4-2a940755cb54"
      },
      "execution_count": 3,
      "outputs": [
        {
          "output_type": "execute_result",
          "data": {
            "text/plain": [
              "   Record ID  Incident Year  Incident Month  Incident Day Operator ID  \\\n",
              "0     127128           1990               1             1         DAL   \n",
              "1     129779           1990               1             1         HAL   \n",
              "2     129780           1990               1             2         UNK   \n",
              "3       2258           1990               1             3         MIL   \n",
              "4       2257           1990               1             3         MIL   \n",
              "\n",
              "          Operator   Aircraft Aircraft Type Aircraft Make Aircraft Model  ...  \\\n",
              "0  DELTA AIR LINES  B-757-200             A           148             26  ...   \n",
              "1     HAWAIIAN AIR       DC-9             A           583             90  ...   \n",
              "2          UNKNOWN    UNKNOWN           NaN           NaN            NaN  ...   \n",
              "3         MILITARY      A-10A             A           345            NaN  ...   \n",
              "4         MILITARY       F-16             A           561            NaN  ...   \n",
              "\n",
              "   Fuselage Strike  Fuselage Damage Landing Gear Strike  Landing Gear Damage  \\\n",
              "0                0                0                   0                    0   \n",
              "1                0                0                   0                    0   \n",
              "2                0                0                   0                    0   \n",
              "3                0                0                   0                    0   \n",
              "4                0                0                   0                    0   \n",
              "\n",
              "  Tail Strike Tail Damage  Lights Strike Lights Damage  Other Strike  \\\n",
              "0           1           1              0             0             0   \n",
              "1           0           0              0             0             1   \n",
              "2           0           0              0             0             0   \n",
              "3           0           0              0             0             0   \n",
              "4           0           0              0             0             0   \n",
              "\n",
              "  Other Damage  \n",
              "0            0  \n",
              "1            0  \n",
              "2            0  \n",
              "3            0  \n",
              "4            0  \n",
              "\n",
              "[5 rows x 66 columns]"
            ],
            "text/html": [
              "\n",
              "  <div id=\"df-e9d2f549-124e-49e7-9201-d9bf1364b4fe\">\n",
              "    <div class=\"colab-df-container\">\n",
              "      <div>\n",
              "<style scoped>\n",
              "    .dataframe tbody tr th:only-of-type {\n",
              "        vertical-align: middle;\n",
              "    }\n",
              "\n",
              "    .dataframe tbody tr th {\n",
              "        vertical-align: top;\n",
              "    }\n",
              "\n",
              "    .dataframe thead th {\n",
              "        text-align: right;\n",
              "    }\n",
              "</style>\n",
              "<table border=\"1\" class=\"dataframe\">\n",
              "  <thead>\n",
              "    <tr style=\"text-align: right;\">\n",
              "      <th></th>\n",
              "      <th>Record ID</th>\n",
              "      <th>Incident Year</th>\n",
              "      <th>Incident Month</th>\n",
              "      <th>Incident Day</th>\n",
              "      <th>Operator ID</th>\n",
              "      <th>Operator</th>\n",
              "      <th>Aircraft</th>\n",
              "      <th>Aircraft Type</th>\n",
              "      <th>Aircraft Make</th>\n",
              "      <th>Aircraft Model</th>\n",
              "      <th>...</th>\n",
              "      <th>Fuselage Strike</th>\n",
              "      <th>Fuselage Damage</th>\n",
              "      <th>Landing Gear Strike</th>\n",
              "      <th>Landing Gear Damage</th>\n",
              "      <th>Tail Strike</th>\n",
              "      <th>Tail Damage</th>\n",
              "      <th>Lights Strike</th>\n",
              "      <th>Lights Damage</th>\n",
              "      <th>Other Strike</th>\n",
              "      <th>Other Damage</th>\n",
              "    </tr>\n",
              "  </thead>\n",
              "  <tbody>\n",
              "    <tr>\n",
              "      <th>0</th>\n",
              "      <td>127128</td>\n",
              "      <td>1990</td>\n",
              "      <td>1</td>\n",
              "      <td>1</td>\n",
              "      <td>DAL</td>\n",
              "      <td>DELTA AIR LINES</td>\n",
              "      <td>B-757-200</td>\n",
              "      <td>A</td>\n",
              "      <td>148</td>\n",
              "      <td>26</td>\n",
              "      <td>...</td>\n",
              "      <td>0</td>\n",
              "      <td>0</td>\n",
              "      <td>0</td>\n",
              "      <td>0</td>\n",
              "      <td>1</td>\n",
              "      <td>1</td>\n",
              "      <td>0</td>\n",
              "      <td>0</td>\n",
              "      <td>0</td>\n",
              "      <td>0</td>\n",
              "    </tr>\n",
              "    <tr>\n",
              "      <th>1</th>\n",
              "      <td>129779</td>\n",
              "      <td>1990</td>\n",
              "      <td>1</td>\n",
              "      <td>1</td>\n",
              "      <td>HAL</td>\n",
              "      <td>HAWAIIAN AIR</td>\n",
              "      <td>DC-9</td>\n",
              "      <td>A</td>\n",
              "      <td>583</td>\n",
              "      <td>90</td>\n",
              "      <td>...</td>\n",
              "      <td>0</td>\n",
              "      <td>0</td>\n",
              "      <td>0</td>\n",
              "      <td>0</td>\n",
              "      <td>0</td>\n",
              "      <td>0</td>\n",
              "      <td>0</td>\n",
              "      <td>0</td>\n",
              "      <td>1</td>\n",
              "      <td>0</td>\n",
              "    </tr>\n",
              "    <tr>\n",
              "      <th>2</th>\n",
              "      <td>129780</td>\n",
              "      <td>1990</td>\n",
              "      <td>1</td>\n",
              "      <td>2</td>\n",
              "      <td>UNK</td>\n",
              "      <td>UNKNOWN</td>\n",
              "      <td>UNKNOWN</td>\n",
              "      <td>NaN</td>\n",
              "      <td>NaN</td>\n",
              "      <td>NaN</td>\n",
              "      <td>...</td>\n",
              "      <td>0</td>\n",
              "      <td>0</td>\n",
              "      <td>0</td>\n",
              "      <td>0</td>\n",
              "      <td>0</td>\n",
              "      <td>0</td>\n",
              "      <td>0</td>\n",
              "      <td>0</td>\n",
              "      <td>0</td>\n",
              "      <td>0</td>\n",
              "    </tr>\n",
              "    <tr>\n",
              "      <th>3</th>\n",
              "      <td>2258</td>\n",
              "      <td>1990</td>\n",
              "      <td>1</td>\n",
              "      <td>3</td>\n",
              "      <td>MIL</td>\n",
              "      <td>MILITARY</td>\n",
              "      <td>A-10A</td>\n",
              "      <td>A</td>\n",
              "      <td>345</td>\n",
              "      <td>NaN</td>\n",
              "      <td>...</td>\n",
              "      <td>0</td>\n",
              "      <td>0</td>\n",
              "      <td>0</td>\n",
              "      <td>0</td>\n",
              "      <td>0</td>\n",
              "      <td>0</td>\n",
              "      <td>0</td>\n",
              "      <td>0</td>\n",
              "      <td>0</td>\n",
              "      <td>0</td>\n",
              "    </tr>\n",
              "    <tr>\n",
              "      <th>4</th>\n",
              "      <td>2257</td>\n",
              "      <td>1990</td>\n",
              "      <td>1</td>\n",
              "      <td>3</td>\n",
              "      <td>MIL</td>\n",
              "      <td>MILITARY</td>\n",
              "      <td>F-16</td>\n",
              "      <td>A</td>\n",
              "      <td>561</td>\n",
              "      <td>NaN</td>\n",
              "      <td>...</td>\n",
              "      <td>0</td>\n",
              "      <td>0</td>\n",
              "      <td>0</td>\n",
              "      <td>0</td>\n",
              "      <td>0</td>\n",
              "      <td>0</td>\n",
              "      <td>0</td>\n",
              "      <td>0</td>\n",
              "      <td>0</td>\n",
              "      <td>0</td>\n",
              "    </tr>\n",
              "  </tbody>\n",
              "</table>\n",
              "<p>5 rows × 66 columns</p>\n",
              "</div>\n",
              "      <button class=\"colab-df-convert\" onclick=\"convertToInteractive('df-e9d2f549-124e-49e7-9201-d9bf1364b4fe')\"\n",
              "              title=\"Convert this dataframe to an interactive table.\"\n",
              "              style=\"display:none;\">\n",
              "        \n",
              "  <svg xmlns=\"http://www.w3.org/2000/svg\" height=\"24px\"viewBox=\"0 0 24 24\"\n",
              "       width=\"24px\">\n",
              "    <path d=\"M0 0h24v24H0V0z\" fill=\"none\"/>\n",
              "    <path d=\"M18.56 5.44l.94 2.06.94-2.06 2.06-.94-2.06-.94-.94-2.06-.94 2.06-2.06.94zm-11 1L8.5 8.5l.94-2.06 2.06-.94-2.06-.94L8.5 2.5l-.94 2.06-2.06.94zm10 10l.94 2.06.94-2.06 2.06-.94-2.06-.94-.94-2.06-.94 2.06-2.06.94z\"/><path d=\"M17.41 7.96l-1.37-1.37c-.4-.4-.92-.59-1.43-.59-.52 0-1.04.2-1.43.59L10.3 9.45l-7.72 7.72c-.78.78-.78 2.05 0 2.83L4 21.41c.39.39.9.59 1.41.59.51 0 1.02-.2 1.41-.59l7.78-7.78 2.81-2.81c.8-.78.8-2.07 0-2.86zM5.41 20L4 18.59l7.72-7.72 1.47 1.35L5.41 20z\"/>\n",
              "  </svg>\n",
              "      </button>\n",
              "      \n",
              "  <style>\n",
              "    .colab-df-container {\n",
              "      display:flex;\n",
              "      flex-wrap:wrap;\n",
              "      gap: 12px;\n",
              "    }\n",
              "\n",
              "    .colab-df-convert {\n",
              "      background-color: #E8F0FE;\n",
              "      border: none;\n",
              "      border-radius: 50%;\n",
              "      cursor: pointer;\n",
              "      display: none;\n",
              "      fill: #1967D2;\n",
              "      height: 32px;\n",
              "      padding: 0 0 0 0;\n",
              "      width: 32px;\n",
              "    }\n",
              "\n",
              "    .colab-df-convert:hover {\n",
              "      background-color: #E2EBFA;\n",
              "      box-shadow: 0px 1px 2px rgba(60, 64, 67, 0.3), 0px 1px 3px 1px rgba(60, 64, 67, 0.15);\n",
              "      fill: #174EA6;\n",
              "    }\n",
              "\n",
              "    [theme=dark] .colab-df-convert {\n",
              "      background-color: #3B4455;\n",
              "      fill: #D2E3FC;\n",
              "    }\n",
              "\n",
              "    [theme=dark] .colab-df-convert:hover {\n",
              "      background-color: #434B5C;\n",
              "      box-shadow: 0px 1px 3px 1px rgba(0, 0, 0, 0.15);\n",
              "      filter: drop-shadow(0px 1px 2px rgba(0, 0, 0, 0.3));\n",
              "      fill: #FFFFFF;\n",
              "    }\n",
              "  </style>\n",
              "\n",
              "      <script>\n",
              "        const buttonEl =\n",
              "          document.querySelector('#df-e9d2f549-124e-49e7-9201-d9bf1364b4fe button.colab-df-convert');\n",
              "        buttonEl.style.display =\n",
              "          google.colab.kernel.accessAllowed ? 'block' : 'none';\n",
              "\n",
              "        async function convertToInteractive(key) {\n",
              "          const element = document.querySelector('#df-e9d2f549-124e-49e7-9201-d9bf1364b4fe');\n",
              "          const dataTable =\n",
              "            await google.colab.kernel.invokeFunction('convertToInteractive',\n",
              "                                                     [key], {});\n",
              "          if (!dataTable) return;\n",
              "\n",
              "          const docLinkHtml = 'Like what you see? Visit the ' +\n",
              "            '<a target=\"_blank\" href=https://colab.research.google.com/notebooks/data_table.ipynb>data table notebook</a>'\n",
              "            + ' to learn more about interactive tables.';\n",
              "          element.innerHTML = '';\n",
              "          dataTable['output_type'] = 'display_data';\n",
              "          await google.colab.output.renderOutput(dataTable, element);\n",
              "          const docLink = document.createElement('div');\n",
              "          docLink.innerHTML = docLinkHtml;\n",
              "          element.appendChild(docLink);\n",
              "        }\n",
              "      </script>\n",
              "    </div>\n",
              "  </div>\n",
              "  "
            ]
          },
          "metadata": {},
          "execution_count": 3
        }
      ]
    },
    {
      "cell_type": "code",
      "source": [
        "df.columns"
      ],
      "metadata": {
        "colab": {
          "base_uri": "https://localhost:8080/"
        },
        "id": "uBIct6ZGHdI1",
        "outputId": "88e7eb87-78ee-4009-e98e-2e19e015d33e"
      },
      "execution_count": 4,
      "outputs": [
        {
          "output_type": "execute_result",
          "data": {
            "text/plain": [
              "Index(['Record ID', 'Incident Year', 'Incident Month', 'Incident Day',\n",
              "       'Operator ID', 'Operator', 'Aircraft', 'Aircraft Type', 'Aircraft Make',\n",
              "       'Aircraft Model', 'Aircraft Mass', 'Engine Make', 'Engine Model',\n",
              "       'Engines', 'Engine Type', 'Engine1 Position', 'Engine2 Position',\n",
              "       'Engine3 Position', 'Engine4 Position', 'Airport ID', 'Airport',\n",
              "       'State', 'FAA Region', 'Warning Issued', 'Flight Phase', 'Visibility',\n",
              "       'Precipitation', 'Height', 'Speed', 'Distance', 'Species ID',\n",
              "       'Species Name', 'Species Quantity', 'Flight Impact', 'Fatalities',\n",
              "       'Injuries', 'Aircraft Damage', 'Radome Strike', 'Radome Damage',\n",
              "       'Windshield Strike', 'Windshield Damage', 'Nose Strike', 'Nose Damage',\n",
              "       'Engine1 Strike', 'Engine1 Damage', 'Engine2 Strike', 'Engine2 Damage',\n",
              "       'Engine3 Strike', 'Engine3 Damage', 'Engine4 Strike', 'Engine4 Damage',\n",
              "       'Engine Ingested', 'Propeller Strike', 'Propeller Damage',\n",
              "       'Wing or Rotor Strike', 'Wing or Rotor Damage', 'Fuselage Strike',\n",
              "       'Fuselage Damage', 'Landing Gear Strike', 'Landing Gear Damage',\n",
              "       'Tail Strike', 'Tail Damage', 'Lights Strike', 'Lights Damage',\n",
              "       'Other Strike', 'Other Damage'],\n",
              "      dtype='object')"
            ]
          },
          "metadata": {},
          "execution_count": 4
        }
      ]
    },
    {
      "cell_type": "code",
      "source": [
        "df.info()"
      ],
      "metadata": {
        "colab": {
          "base_uri": "https://localhost:8080/"
        },
        "id": "J4kN0IWDvAMC",
        "outputId": "9ad634ef-c970-4864-9c9c-a4fdb4a2917b"
      },
      "execution_count": 5,
      "outputs": [
        {
          "output_type": "stream",
          "name": "stdout",
          "text": [
            "<class 'pandas.core.frame.DataFrame'>\n",
            "RangeIndex: 174104 entries, 0 to 174103\n",
            "Data columns (total 66 columns):\n",
            " #   Column                Non-Null Count   Dtype  \n",
            "---  ------                --------------   -----  \n",
            " 0   Record ID             174104 non-null  int64  \n",
            " 1   Incident Year         174104 non-null  int64  \n",
            " 2   Incident Month        174104 non-null  int64  \n",
            " 3   Incident Day          174104 non-null  int64  \n",
            " 4   Operator ID           174104 non-null  object \n",
            " 5   Operator              174104 non-null  object \n",
            " 6   Aircraft              174104 non-null  object \n",
            " 7   Aircraft Type         133074 non-null  object \n",
            " 8   Aircraft Make         131051 non-null  object \n",
            " 9   Aircraft Model        122439 non-null  object \n",
            " 10  Aircraft Mass         127320 non-null  float64\n",
            " 11  Engine Make           123434 non-null  float64\n",
            " 12  Engine Model          121988 non-null  object \n",
            " 13  Engines               127342 non-null  float64\n",
            " 14  Engine Type           127282 non-null  object \n",
            " 15  Engine1 Position      126193 non-null  object \n",
            " 16  Engine2 Position      118715 non-null  float64\n",
            " 17  Engine3 Position      11659 non-null   object \n",
            " 18  Engine4 Position      3092 non-null    float64\n",
            " 19  Airport ID            174104 non-null  object \n",
            " 20  Airport               173814 non-null  object \n",
            " 21  State                 152128 non-null  object \n",
            " 22  FAA Region            155202 non-null  object \n",
            " 23  Warning Issued        76418 non-null   object \n",
            " 24  Flight Phase          118802 non-null  object \n",
            " 25  Visibility            109933 non-null  object \n",
            " 26  Precipitation         88322 non-null   object \n",
            " 27  Height                103677 non-null  float64\n",
            " 28  Speed                 71258 non-null   float64\n",
            " 29  Distance              99713 non-null   float64\n",
            " 30  Species ID            174104 non-null  object \n",
            " 31  Species Name          174024 non-null  object \n",
            " 32  Species Quantity      169627 non-null  object \n",
            " 33  Flight Impact         99465 non-null   object \n",
            " 34  Fatalities            565 non-null     float64\n",
            " 35  Injuries              229 non-null     float64\n",
            " 36  Aircraft Damage       174104 non-null  int64  \n",
            " 37  Radome Strike         174104 non-null  int64  \n",
            " 38  Radome Damage         174104 non-null  int64  \n",
            " 39  Windshield Strike     174104 non-null  int64  \n",
            " 40  Windshield Damage     174104 non-null  int64  \n",
            " 41  Nose Strike           174104 non-null  int64  \n",
            " 42  Nose Damage           174104 non-null  int64  \n",
            " 43  Engine1 Strike        174104 non-null  int64  \n",
            " 44  Engine1 Damage        174104 non-null  int64  \n",
            " 45  Engine2 Strike        174104 non-null  int64  \n",
            " 46  Engine2 Damage        174104 non-null  int64  \n",
            " 47  Engine3 Strike        174104 non-null  int64  \n",
            " 48  Engine3 Damage        174104 non-null  int64  \n",
            " 49  Engine4 Strike        174104 non-null  int64  \n",
            " 50  Engine4 Damage        174104 non-null  int64  \n",
            " 51  Engine Ingested       174104 non-null  int64  \n",
            " 52  Propeller Strike      174104 non-null  int64  \n",
            " 53  Propeller Damage      174104 non-null  int64  \n",
            " 54  Wing or Rotor Strike  174104 non-null  int64  \n",
            " 55  Wing or Rotor Damage  174104 non-null  int64  \n",
            " 56  Fuselage Strike       174104 non-null  int64  \n",
            " 57  Fuselage Damage       174104 non-null  int64  \n",
            " 58  Landing Gear Strike   174104 non-null  int64  \n",
            " 59  Landing Gear Damage   174104 non-null  int64  \n",
            " 60  Tail Strike           174104 non-null  int64  \n",
            " 61  Tail Damage           174104 non-null  int64  \n",
            " 62  Lights Strike         174104 non-null  int64  \n",
            " 63  Lights Damage         174104 non-null  int64  \n",
            " 64  Other Strike          174104 non-null  int64  \n",
            " 65  Other Damage          174104 non-null  int64  \n",
            "dtypes: float64(10), int64(34), object(22)\n",
            "memory usage: 87.7+ MB\n"
          ]
        }
      ]
    },
    {
      "cell_type": "markdown",
      "source": [
        "**Câu 3:** Đối với các cột dữ liệu định lượng, hãy áp dụng các phép tính hướng tâm, phép tính phương sai - độ lệch chuẩn, các phép tính phân vị, cực đại - cực tiểu để tính các thông sô cơ bản của các cột dữ liệu định lượng này.\n",
        "\n",
        "**Bài làm:**"
      ],
      "metadata": {
        "id": "fvgy3-zJNZJQ"
      }
    },
    {
      "cell_type": "code",
      "source": [
        "# Lựa chọn các cột dữ liệu có kiểu dữ liệu định lượng\n",
        "df1 = pd.DataFrame(df, columns = ['Aircraft Mass','Engines','Engine2 Position','Engine4 Position','Engine Make','Height','Speed','Distance','Fatalities','Injuries'])\n",
        "df1.head(10)"
      ],
      "metadata": {
        "id": "Q7HD17hm7oh-",
        "colab": {
          "base_uri": "https://localhost:8080/",
          "height": 363
        },
        "outputId": "c719f7d1-b958-4e81-8779-e2b85ab18acb"
      },
      "execution_count": 6,
      "outputs": [
        {
          "output_type": "execute_result",
          "data": {
            "text/plain": [
              "   Aircraft Mass  Engines  Engine2 Position  Engine4 Position  Engine Make  \\\n",
              "0            4.0      2.0               1.0               NaN         34.0   \n",
              "1            4.0      2.0               5.0               NaN         34.0   \n",
              "2            NaN      NaN               NaN               NaN          NaN   \n",
              "3            3.0      2.0               NaN               NaN         22.0   \n",
              "4            NaN      NaN               NaN               NaN          NaN   \n",
              "5            4.0      2.0               5.0               NaN         34.0   \n",
              "6            NaN      NaN               NaN               NaN          NaN   \n",
              "7            NaN      NaN               NaN               NaN          NaN   \n",
              "8            NaN      NaN               NaN               NaN          NaN   \n",
              "9            3.0      2.0               4.0               NaN         31.0   \n",
              "\n",
              "   Height  Speed  Distance  Fatalities  Injuries  \n",
              "0     NaN    NaN       NaN         NaN       NaN  \n",
              "1     0.0    NaN       0.0         NaN       NaN  \n",
              "2     NaN    NaN       0.0         NaN       NaN  \n",
              "3   200.0  138.0       NaN         NaN       NaN  \n",
              "4   100.0  200.0       NaN         NaN       NaN  \n",
              "5     0.0    NaN       0.0         NaN       NaN  \n",
              "6     NaN    NaN       0.0         NaN       NaN  \n",
              "7     NaN    NaN       0.0         NaN       NaN  \n",
              "8     NaN    NaN       0.0         NaN       NaN  \n",
              "9     NaN    NaN       NaN         NaN       NaN  "
            ],
            "text/html": [
              "\n",
              "  <div id=\"df-4d0f62e9-04c5-45f3-9ee8-daf7a00cfc9f\">\n",
              "    <div class=\"colab-df-container\">\n",
              "      <div>\n",
              "<style scoped>\n",
              "    .dataframe tbody tr th:only-of-type {\n",
              "        vertical-align: middle;\n",
              "    }\n",
              "\n",
              "    .dataframe tbody tr th {\n",
              "        vertical-align: top;\n",
              "    }\n",
              "\n",
              "    .dataframe thead th {\n",
              "        text-align: right;\n",
              "    }\n",
              "</style>\n",
              "<table border=\"1\" class=\"dataframe\">\n",
              "  <thead>\n",
              "    <tr style=\"text-align: right;\">\n",
              "      <th></th>\n",
              "      <th>Aircraft Mass</th>\n",
              "      <th>Engines</th>\n",
              "      <th>Engine2 Position</th>\n",
              "      <th>Engine4 Position</th>\n",
              "      <th>Engine Make</th>\n",
              "      <th>Height</th>\n",
              "      <th>Speed</th>\n",
              "      <th>Distance</th>\n",
              "      <th>Fatalities</th>\n",
              "      <th>Injuries</th>\n",
              "    </tr>\n",
              "  </thead>\n",
              "  <tbody>\n",
              "    <tr>\n",
              "      <th>0</th>\n",
              "      <td>4.0</td>\n",
              "      <td>2.0</td>\n",
              "      <td>1.0</td>\n",
              "      <td>NaN</td>\n",
              "      <td>34.0</td>\n",
              "      <td>NaN</td>\n",
              "      <td>NaN</td>\n",
              "      <td>NaN</td>\n",
              "      <td>NaN</td>\n",
              "      <td>NaN</td>\n",
              "    </tr>\n",
              "    <tr>\n",
              "      <th>1</th>\n",
              "      <td>4.0</td>\n",
              "      <td>2.0</td>\n",
              "      <td>5.0</td>\n",
              "      <td>NaN</td>\n",
              "      <td>34.0</td>\n",
              "      <td>0.0</td>\n",
              "      <td>NaN</td>\n",
              "      <td>0.0</td>\n",
              "      <td>NaN</td>\n",
              "      <td>NaN</td>\n",
              "    </tr>\n",
              "    <tr>\n",
              "      <th>2</th>\n",
              "      <td>NaN</td>\n",
              "      <td>NaN</td>\n",
              "      <td>NaN</td>\n",
              "      <td>NaN</td>\n",
              "      <td>NaN</td>\n",
              "      <td>NaN</td>\n",
              "      <td>NaN</td>\n",
              "      <td>0.0</td>\n",
              "      <td>NaN</td>\n",
              "      <td>NaN</td>\n",
              "    </tr>\n",
              "    <tr>\n",
              "      <th>3</th>\n",
              "      <td>3.0</td>\n",
              "      <td>2.0</td>\n",
              "      <td>NaN</td>\n",
              "      <td>NaN</td>\n",
              "      <td>22.0</td>\n",
              "      <td>200.0</td>\n",
              "      <td>138.0</td>\n",
              "      <td>NaN</td>\n",
              "      <td>NaN</td>\n",
              "      <td>NaN</td>\n",
              "    </tr>\n",
              "    <tr>\n",
              "      <th>4</th>\n",
              "      <td>NaN</td>\n",
              "      <td>NaN</td>\n",
              "      <td>NaN</td>\n",
              "      <td>NaN</td>\n",
              "      <td>NaN</td>\n",
              "      <td>100.0</td>\n",
              "      <td>200.0</td>\n",
              "      <td>NaN</td>\n",
              "      <td>NaN</td>\n",
              "      <td>NaN</td>\n",
              "    </tr>\n",
              "    <tr>\n",
              "      <th>5</th>\n",
              "      <td>4.0</td>\n",
              "      <td>2.0</td>\n",
              "      <td>5.0</td>\n",
              "      <td>NaN</td>\n",
              "      <td>34.0</td>\n",
              "      <td>0.0</td>\n",
              "      <td>NaN</td>\n",
              "      <td>0.0</td>\n",
              "      <td>NaN</td>\n",
              "      <td>NaN</td>\n",
              "    </tr>\n",
              "    <tr>\n",
              "      <th>6</th>\n",
              "      <td>NaN</td>\n",
              "      <td>NaN</td>\n",
              "      <td>NaN</td>\n",
              "      <td>NaN</td>\n",
              "      <td>NaN</td>\n",
              "      <td>NaN</td>\n",
              "      <td>NaN</td>\n",
              "      <td>0.0</td>\n",
              "      <td>NaN</td>\n",
              "      <td>NaN</td>\n",
              "    </tr>\n",
              "    <tr>\n",
              "      <th>7</th>\n",
              "      <td>NaN</td>\n",
              "      <td>NaN</td>\n",
              "      <td>NaN</td>\n",
              "      <td>NaN</td>\n",
              "      <td>NaN</td>\n",
              "      <td>NaN</td>\n",
              "      <td>NaN</td>\n",
              "      <td>0.0</td>\n",
              "      <td>NaN</td>\n",
              "      <td>NaN</td>\n",
              "    </tr>\n",
              "    <tr>\n",
              "      <th>8</th>\n",
              "      <td>NaN</td>\n",
              "      <td>NaN</td>\n",
              "      <td>NaN</td>\n",
              "      <td>NaN</td>\n",
              "      <td>NaN</td>\n",
              "      <td>NaN</td>\n",
              "      <td>NaN</td>\n",
              "      <td>0.0</td>\n",
              "      <td>NaN</td>\n",
              "      <td>NaN</td>\n",
              "    </tr>\n",
              "    <tr>\n",
              "      <th>9</th>\n",
              "      <td>3.0</td>\n",
              "      <td>2.0</td>\n",
              "      <td>4.0</td>\n",
              "      <td>NaN</td>\n",
              "      <td>31.0</td>\n",
              "      <td>NaN</td>\n",
              "      <td>NaN</td>\n",
              "      <td>NaN</td>\n",
              "      <td>NaN</td>\n",
              "      <td>NaN</td>\n",
              "    </tr>\n",
              "  </tbody>\n",
              "</table>\n",
              "</div>\n",
              "      <button class=\"colab-df-convert\" onclick=\"convertToInteractive('df-4d0f62e9-04c5-45f3-9ee8-daf7a00cfc9f')\"\n",
              "              title=\"Convert this dataframe to an interactive table.\"\n",
              "              style=\"display:none;\">\n",
              "        \n",
              "  <svg xmlns=\"http://www.w3.org/2000/svg\" height=\"24px\"viewBox=\"0 0 24 24\"\n",
              "       width=\"24px\">\n",
              "    <path d=\"M0 0h24v24H0V0z\" fill=\"none\"/>\n",
              "    <path d=\"M18.56 5.44l.94 2.06.94-2.06 2.06-.94-2.06-.94-.94-2.06-.94 2.06-2.06.94zm-11 1L8.5 8.5l.94-2.06 2.06-.94-2.06-.94L8.5 2.5l-.94 2.06-2.06.94zm10 10l.94 2.06.94-2.06 2.06-.94-2.06-.94-.94-2.06-.94 2.06-2.06.94z\"/><path d=\"M17.41 7.96l-1.37-1.37c-.4-.4-.92-.59-1.43-.59-.52 0-1.04.2-1.43.59L10.3 9.45l-7.72 7.72c-.78.78-.78 2.05 0 2.83L4 21.41c.39.39.9.59 1.41.59.51 0 1.02-.2 1.41-.59l7.78-7.78 2.81-2.81c.8-.78.8-2.07 0-2.86zM5.41 20L4 18.59l7.72-7.72 1.47 1.35L5.41 20z\"/>\n",
              "  </svg>\n",
              "      </button>\n",
              "      \n",
              "  <style>\n",
              "    .colab-df-container {\n",
              "      display:flex;\n",
              "      flex-wrap:wrap;\n",
              "      gap: 12px;\n",
              "    }\n",
              "\n",
              "    .colab-df-convert {\n",
              "      background-color: #E8F0FE;\n",
              "      border: none;\n",
              "      border-radius: 50%;\n",
              "      cursor: pointer;\n",
              "      display: none;\n",
              "      fill: #1967D2;\n",
              "      height: 32px;\n",
              "      padding: 0 0 0 0;\n",
              "      width: 32px;\n",
              "    }\n",
              "\n",
              "    .colab-df-convert:hover {\n",
              "      background-color: #E2EBFA;\n",
              "      box-shadow: 0px 1px 2px rgba(60, 64, 67, 0.3), 0px 1px 3px 1px rgba(60, 64, 67, 0.15);\n",
              "      fill: #174EA6;\n",
              "    }\n",
              "\n",
              "    [theme=dark] .colab-df-convert {\n",
              "      background-color: #3B4455;\n",
              "      fill: #D2E3FC;\n",
              "    }\n",
              "\n",
              "    [theme=dark] .colab-df-convert:hover {\n",
              "      background-color: #434B5C;\n",
              "      box-shadow: 0px 1px 3px 1px rgba(0, 0, 0, 0.15);\n",
              "      filter: drop-shadow(0px 1px 2px rgba(0, 0, 0, 0.3));\n",
              "      fill: #FFFFFF;\n",
              "    }\n",
              "  </style>\n",
              "\n",
              "      <script>\n",
              "        const buttonEl =\n",
              "          document.querySelector('#df-4d0f62e9-04c5-45f3-9ee8-daf7a00cfc9f button.colab-df-convert');\n",
              "        buttonEl.style.display =\n",
              "          google.colab.kernel.accessAllowed ? 'block' : 'none';\n",
              "\n",
              "        async function convertToInteractive(key) {\n",
              "          const element = document.querySelector('#df-4d0f62e9-04c5-45f3-9ee8-daf7a00cfc9f');\n",
              "          const dataTable =\n",
              "            await google.colab.kernel.invokeFunction('convertToInteractive',\n",
              "                                                     [key], {});\n",
              "          if (!dataTable) return;\n",
              "\n",
              "          const docLinkHtml = 'Like what you see? Visit the ' +\n",
              "            '<a target=\"_blank\" href=https://colab.research.google.com/notebooks/data_table.ipynb>data table notebook</a>'\n",
              "            + ' to learn more about interactive tables.';\n",
              "          element.innerHTML = '';\n",
              "          dataTable['output_type'] = 'display_data';\n",
              "          await google.colab.output.renderOutput(dataTable, element);\n",
              "          const docLink = document.createElement('div');\n",
              "          docLink.innerHTML = docLinkHtml;\n",
              "          element.appendChild(docLink);\n",
              "        }\n",
              "      </script>\n",
              "    </div>\n",
              "  </div>\n",
              "  "
            ]
          },
          "metadata": {},
          "execution_count": 6
        }
      ]
    },
    {
      "cell_type": "code",
      "source": [
        "df1.describe()"
      ],
      "metadata": {
        "id": "I5TCfJlgmB3m",
        "outputId": "a48a0e9f-4ffa-4e58-dbf7-49ebf6214b24",
        "colab": {
          "base_uri": "https://localhost:8080/",
          "height": 300
        }
      },
      "execution_count": 14,
      "outputs": [
        {
          "output_type": "execute_result",
          "data": {
            "text/plain": [
              "       Aircraft Mass        Engines  Engine2 Position  Engine4 Position  \\\n",
              "count  127320.000000  127342.000000     118715.000000       3092.000000   \n",
              "mean        3.510611       2.057656          2.918570          2.058538   \n",
              "std         0.873783       0.469374          2.008204          1.441000   \n",
              "min         1.000000       1.000000          1.000000          1.000000   \n",
              "25%         3.000000       2.000000          1.000000          1.000000   \n",
              "50%         4.000000       2.000000          1.000000          1.000000   \n",
              "75%         4.000000       2.000000          5.000000          4.000000   \n",
              "max         5.000000       4.000000          7.000000          5.000000   \n",
              "\n",
              "         Engine Make         Height         Speed      Distance  Fatalities  \\\n",
              "count  123434.000000  103677.000000  71258.000000  99713.000000  565.000000   \n",
              "mean       21.306958     831.032283    141.925622      0.703738    0.046018   \n",
              "std        11.023161    1803.650833     46.905651      3.464467    0.435164   \n",
              "min         1.000000       0.000000      0.000000      0.000000    0.000000   \n",
              "25%        10.000000       0.000000    120.000000      0.000000    0.000000   \n",
              "50%        22.000000      50.000000    138.000000      0.000000    0.000000   \n",
              "75%        34.000000     800.000000    160.000000      0.000000    0.000000   \n",
              "max        92.000000   31300.000000   2500.000000    150.000000    8.000000   \n",
              "\n",
              "         Injuries  \n",
              "count  229.000000  \n",
              "mean     1.746725  \n",
              "std      6.571239  \n",
              "min      1.000000  \n",
              "25%      1.000000  \n",
              "50%      1.000000  \n",
              "75%      1.000000  \n",
              "max    100.000000  "
            ],
            "text/html": [
              "\n",
              "  <div id=\"df-3e815d09-4f88-469f-8331-0fbb1d53f704\">\n",
              "    <div class=\"colab-df-container\">\n",
              "      <div>\n",
              "<style scoped>\n",
              "    .dataframe tbody tr th:only-of-type {\n",
              "        vertical-align: middle;\n",
              "    }\n",
              "\n",
              "    .dataframe tbody tr th {\n",
              "        vertical-align: top;\n",
              "    }\n",
              "\n",
              "    .dataframe thead th {\n",
              "        text-align: right;\n",
              "    }\n",
              "</style>\n",
              "<table border=\"1\" class=\"dataframe\">\n",
              "  <thead>\n",
              "    <tr style=\"text-align: right;\">\n",
              "      <th></th>\n",
              "      <th>Aircraft Mass</th>\n",
              "      <th>Engines</th>\n",
              "      <th>Engine2 Position</th>\n",
              "      <th>Engine4 Position</th>\n",
              "      <th>Engine Make</th>\n",
              "      <th>Height</th>\n",
              "      <th>Speed</th>\n",
              "      <th>Distance</th>\n",
              "      <th>Fatalities</th>\n",
              "      <th>Injuries</th>\n",
              "    </tr>\n",
              "  </thead>\n",
              "  <tbody>\n",
              "    <tr>\n",
              "      <th>count</th>\n",
              "      <td>127320.000000</td>\n",
              "      <td>127342.000000</td>\n",
              "      <td>118715.000000</td>\n",
              "      <td>3092.000000</td>\n",
              "      <td>123434.000000</td>\n",
              "      <td>103677.000000</td>\n",
              "      <td>71258.000000</td>\n",
              "      <td>99713.000000</td>\n",
              "      <td>565.000000</td>\n",
              "      <td>229.000000</td>\n",
              "    </tr>\n",
              "    <tr>\n",
              "      <th>mean</th>\n",
              "      <td>3.510611</td>\n",
              "      <td>2.057656</td>\n",
              "      <td>2.918570</td>\n",
              "      <td>2.058538</td>\n",
              "      <td>21.306958</td>\n",
              "      <td>831.032283</td>\n",
              "      <td>141.925622</td>\n",
              "      <td>0.703738</td>\n",
              "      <td>0.046018</td>\n",
              "      <td>1.746725</td>\n",
              "    </tr>\n",
              "    <tr>\n",
              "      <th>std</th>\n",
              "      <td>0.873783</td>\n",
              "      <td>0.469374</td>\n",
              "      <td>2.008204</td>\n",
              "      <td>1.441000</td>\n",
              "      <td>11.023161</td>\n",
              "      <td>1803.650833</td>\n",
              "      <td>46.905651</td>\n",
              "      <td>3.464467</td>\n",
              "      <td>0.435164</td>\n",
              "      <td>6.571239</td>\n",
              "    </tr>\n",
              "    <tr>\n",
              "      <th>min</th>\n",
              "      <td>1.000000</td>\n",
              "      <td>1.000000</td>\n",
              "      <td>1.000000</td>\n",
              "      <td>1.000000</td>\n",
              "      <td>1.000000</td>\n",
              "      <td>0.000000</td>\n",
              "      <td>0.000000</td>\n",
              "      <td>0.000000</td>\n",
              "      <td>0.000000</td>\n",
              "      <td>1.000000</td>\n",
              "    </tr>\n",
              "    <tr>\n",
              "      <th>25%</th>\n",
              "      <td>3.000000</td>\n",
              "      <td>2.000000</td>\n",
              "      <td>1.000000</td>\n",
              "      <td>1.000000</td>\n",
              "      <td>10.000000</td>\n",
              "      <td>0.000000</td>\n",
              "      <td>120.000000</td>\n",
              "      <td>0.000000</td>\n",
              "      <td>0.000000</td>\n",
              "      <td>1.000000</td>\n",
              "    </tr>\n",
              "    <tr>\n",
              "      <th>50%</th>\n",
              "      <td>4.000000</td>\n",
              "      <td>2.000000</td>\n",
              "      <td>1.000000</td>\n",
              "      <td>1.000000</td>\n",
              "      <td>22.000000</td>\n",
              "      <td>50.000000</td>\n",
              "      <td>138.000000</td>\n",
              "      <td>0.000000</td>\n",
              "      <td>0.000000</td>\n",
              "      <td>1.000000</td>\n",
              "    </tr>\n",
              "    <tr>\n",
              "      <th>75%</th>\n",
              "      <td>4.000000</td>\n",
              "      <td>2.000000</td>\n",
              "      <td>5.000000</td>\n",
              "      <td>4.000000</td>\n",
              "      <td>34.000000</td>\n",
              "      <td>800.000000</td>\n",
              "      <td>160.000000</td>\n",
              "      <td>0.000000</td>\n",
              "      <td>0.000000</td>\n",
              "      <td>1.000000</td>\n",
              "    </tr>\n",
              "    <tr>\n",
              "      <th>max</th>\n",
              "      <td>5.000000</td>\n",
              "      <td>4.000000</td>\n",
              "      <td>7.000000</td>\n",
              "      <td>5.000000</td>\n",
              "      <td>92.000000</td>\n",
              "      <td>31300.000000</td>\n",
              "      <td>2500.000000</td>\n",
              "      <td>150.000000</td>\n",
              "      <td>8.000000</td>\n",
              "      <td>100.000000</td>\n",
              "    </tr>\n",
              "  </tbody>\n",
              "</table>\n",
              "</div>\n",
              "      <button class=\"colab-df-convert\" onclick=\"convertToInteractive('df-3e815d09-4f88-469f-8331-0fbb1d53f704')\"\n",
              "              title=\"Convert this dataframe to an interactive table.\"\n",
              "              style=\"display:none;\">\n",
              "        \n",
              "  <svg xmlns=\"http://www.w3.org/2000/svg\" height=\"24px\"viewBox=\"0 0 24 24\"\n",
              "       width=\"24px\">\n",
              "    <path d=\"M0 0h24v24H0V0z\" fill=\"none\"/>\n",
              "    <path d=\"M18.56 5.44l.94 2.06.94-2.06 2.06-.94-2.06-.94-.94-2.06-.94 2.06-2.06.94zm-11 1L8.5 8.5l.94-2.06 2.06-.94-2.06-.94L8.5 2.5l-.94 2.06-2.06.94zm10 10l.94 2.06.94-2.06 2.06-.94-2.06-.94-.94-2.06-.94 2.06-2.06.94z\"/><path d=\"M17.41 7.96l-1.37-1.37c-.4-.4-.92-.59-1.43-.59-.52 0-1.04.2-1.43.59L10.3 9.45l-7.72 7.72c-.78.78-.78 2.05 0 2.83L4 21.41c.39.39.9.59 1.41.59.51 0 1.02-.2 1.41-.59l7.78-7.78 2.81-2.81c.8-.78.8-2.07 0-2.86zM5.41 20L4 18.59l7.72-7.72 1.47 1.35L5.41 20z\"/>\n",
              "  </svg>\n",
              "      </button>\n",
              "      \n",
              "  <style>\n",
              "    .colab-df-container {\n",
              "      display:flex;\n",
              "      flex-wrap:wrap;\n",
              "      gap: 12px;\n",
              "    }\n",
              "\n",
              "    .colab-df-convert {\n",
              "      background-color: #E8F0FE;\n",
              "      border: none;\n",
              "      border-radius: 50%;\n",
              "      cursor: pointer;\n",
              "      display: none;\n",
              "      fill: #1967D2;\n",
              "      height: 32px;\n",
              "      padding: 0 0 0 0;\n",
              "      width: 32px;\n",
              "    }\n",
              "\n",
              "    .colab-df-convert:hover {\n",
              "      background-color: #E2EBFA;\n",
              "      box-shadow: 0px 1px 2px rgba(60, 64, 67, 0.3), 0px 1px 3px 1px rgba(60, 64, 67, 0.15);\n",
              "      fill: #174EA6;\n",
              "    }\n",
              "\n",
              "    [theme=dark] .colab-df-convert {\n",
              "      background-color: #3B4455;\n",
              "      fill: #D2E3FC;\n",
              "    }\n",
              "\n",
              "    [theme=dark] .colab-df-convert:hover {\n",
              "      background-color: #434B5C;\n",
              "      box-shadow: 0px 1px 3px 1px rgba(0, 0, 0, 0.15);\n",
              "      filter: drop-shadow(0px 1px 2px rgba(0, 0, 0, 0.3));\n",
              "      fill: #FFFFFF;\n",
              "    }\n",
              "  </style>\n",
              "\n",
              "      <script>\n",
              "        const buttonEl =\n",
              "          document.querySelector('#df-3e815d09-4f88-469f-8331-0fbb1d53f704 button.colab-df-convert');\n",
              "        buttonEl.style.display =\n",
              "          google.colab.kernel.accessAllowed ? 'block' : 'none';\n",
              "\n",
              "        async function convertToInteractive(key) {\n",
              "          const element = document.querySelector('#df-3e815d09-4f88-469f-8331-0fbb1d53f704');\n",
              "          const dataTable =\n",
              "            await google.colab.kernel.invokeFunction('convertToInteractive',\n",
              "                                                     [key], {});\n",
              "          if (!dataTable) return;\n",
              "\n",
              "          const docLinkHtml = 'Like what you see? Visit the ' +\n",
              "            '<a target=\"_blank\" href=https://colab.research.google.com/notebooks/data_table.ipynb>data table notebook</a>'\n",
              "            + ' to learn more about interactive tables.';\n",
              "          element.innerHTML = '';\n",
              "          dataTable['output_type'] = 'display_data';\n",
              "          await google.colab.output.renderOutput(dataTable, element);\n",
              "          const docLink = document.createElement('div');\n",
              "          docLink.innerHTML = docLinkHtml;\n",
              "          element.appendChild(docLink);\n",
              "        }\n",
              "      </script>\n",
              "    </div>\n",
              "  </div>\n",
              "  "
            ]
          },
          "metadata": {},
          "execution_count": 14
        }
      ]
    },
    {
      "cell_type": "code",
      "source": [
        "df1.boxplot('Aircraft Mass')"
      ],
      "metadata": {
        "id": "1q_-DC8B7wZv",
        "colab": {
          "base_uri": "https://localhost:8080/",
          "height": 282
        },
        "outputId": "13771722-1e3e-4eaf-e197-319f6f9656be"
      },
      "execution_count": 7,
      "outputs": [
        {
          "output_type": "execute_result",
          "data": {
            "text/plain": [
              "<matplotlib.axes._subplots.AxesSubplot at 0x7f6a2a1e5d10>"
            ]
          },
          "metadata": {},
          "execution_count": 7
        },
        {
          "output_type": "display_data",
          "data": {
            "text/plain": [
              "<Figure size 432x288 with 1 Axes>"
            ],
            "image/png": "[encoded data removed]"
          },
          "metadata": {
            "needs_background": "light"
          }
        }
      ]
    },
    {
      "cell_type": "code",
      "source": [
        "df1.boxplot('Engines')"
      ],
      "metadata": {
        "id": "9GcWjKr6EjB7",
        "colab": {
          "base_uri": "https://localhost:8080/",
          "height": 282
        },
        "outputId": "3ac58c72-26a6-4bec-c990-263aaf49b1c5"
      },
      "execution_count": 8,
      "outputs": [
        {
          "output_type": "execute_result",
          "data": {
            "text/plain": [
              "<matplotlib.axes._subplots.AxesSubplot at 0x7f6a29cb53d0>"
            ]
          },
          "metadata": {},
          "execution_count": 8
        },
        {
          "output_type": "display_data",
          "data": {
            "text/plain": [
              "<Figure size 432x288 with 1 Axes>"
            ],
            "image/png": "[encoded data removed]"
          },
          "metadata": {
            "needs_background": "light"
          }
        }
      ]
    },
    {
      "cell_type": "code",
      "source": [
        "df1.boxplot('Engine2 Position')"
      ],
      "metadata": {
        "colab": {
          "base_uri": "https://localhost:8080/",
          "height": 282
        },
        "id": "ORAPVEpRpn33",
        "outputId": "6ca702ea-1b7c-4bd7-f411-813143074665"
      },
      "execution_count": 9,
      "outputs": [
        {
          "output_type": "execute_result",
          "data": {
            "text/plain": [
              "<matplotlib.axes._subplots.AxesSubplot at 0x7f6a297a5c90>"
            ]
          },
          "metadata": {},
          "execution_count": 9
        },
        {
          "output_type": "display_data",
          "data": {
            "text/plain": [
              "<Figure size 432x288 with 1 Axes>"
            ],
            "image/png": "[encoded data removed]"
          },
          "metadata": {
            "needs_background": "light"
          }
        }
      ]
    },
    {
      "cell_type": "code",
      "source": [
        "df1.boxplot('Engine4 Position')"
      ],
      "metadata": {
        "colab": {
          "base_uri": "https://localhost:8080/",
          "height": 282
        },
        "id": "MeNCXnEipuU5",
        "outputId": "56cdaad1-be44-41c4-c696-7aa8d56fed90"
      },
      "execution_count": 10,
      "outputs": [
        {
          "output_type": "execute_result",
          "data": {
            "text/plain": [
              "<matplotlib.axes._subplots.AxesSubplot at 0x7f6a297583d0>"
            ]
          },
          "metadata": {},
          "execution_count": 10
        },
        {
          "output_type": "display_data",
          "data": {
            "text/plain": [
              "<Figure size 432x288 with 1 Axes>"
            ],
            "image/png": "[encoded data removed]"
          },
          "metadata": {
            "needs_background": "light"
          }
        }
      ]
    },
    {
      "cell_type": "code",
      "source": [
        "df1.boxplot('Engine Make')"
      ],
      "metadata": {
        "colab": {
          "base_uri": "https://localhost:8080/",
          "height": 282
        },
        "id": "EhtyhgqqNwq8",
        "outputId": "a61396ef-13e6-4749-82e1-a4a1c5ffea04"
      },
      "execution_count": 11,
      "outputs": [
        {
          "output_type": "execute_result",
          "data": {
            "text/plain": [
              "<matplotlib.axes._subplots.AxesSubplot at 0x7f6a29710cd0>"
            ]
          },
          "metadata": {},
          "execution_count": 11
        },
        {
          "output_type": "display_data",
          "data": {
            "text/plain": [
              "<Figure size 432x288 with 1 Axes>"
            ],
            "image/png": "[encoded data removed]"
          },
          "metadata": {
            "needs_background": "light"
          }
        }
      ]
    },
    {
      "cell_type": "code",
      "source": [
        "df1.boxplot('Height')"
      ],
      "metadata": {
        "colab": {
          "base_uri": "https://localhost:8080/",
          "height": 282
        },
        "id": "QJeis1FkiLmE",
        "outputId": "5166523e-7e4d-4a3e-d548-7b750dd4d1a7"
      },
      "execution_count": 12,
      "outputs": [
        {
          "output_type": "execute_result",
          "data": {
            "text/plain": [
              "<matplotlib.axes._subplots.AxesSubplot at 0x7f6a29611b10>"
            ]
          },
          "metadata": {},
          "execution_count": 12
        },
        {
          "output_type": "display_data",
          "data": {
            "text/plain": [
              "<Figure size 432x288 with 1 Axes>"
            ],
            "image/png": "[encoded data removed]"
          },
          "metadata": {
            "needs_background": "light"
          }
        }
      ]
    },
    {
      "cell_type": "code",
      "source": [
        "df1.boxplot('Speed')"
      ],
      "metadata": {
        "colab": {
          "base_uri": "https://localhost:8080/",
          "height": 282
        },
        "id": "2SKkWCH8oBhh",
        "outputId": "2a942e26-7677-4d52-bf9b-09cbecdd1955"
      },
      "execution_count": 13,
      "outputs": [
        {
          "output_type": "execute_result",
          "data": {
            "text/plain": [
              "<matplotlib.axes._subplots.AxesSubplot at 0x7f6a296497d0>"
            ]
          },
          "metadata": {},
          "execution_count": 13
        },
        {
          "output_type": "display_data",
          "data": {
            "text/plain": [
              "<Figure size 432x288 with 1 Axes>"
            ],
            "image/png": "[encoded data removed]"
          },
          "metadata": {
            "needs_background": "light"
          }
        }
      ]
    },
    {
      "cell_type": "code",
      "source": [
        "df1.boxplot('Distance')"
      ],
      "metadata": {
        "colab": {
          "base_uri": "https://localhost:8080/",
          "height": 282
        },
        "id": "eSK9IOpUvNXp",
        "outputId": "f1851b1c-736f-4b87-eb74-ff8a32c6a3de"
      },
      "execution_count": null,
      "outputs": [
        {
          "output_type": "execute_result",
          "data": {
            "text/plain": [
              "<matplotlib.axes._subplots.AxesSubplot at 0x7f80383f0510>"
            ]
          },
          "metadata": {},
          "execution_count": 14
        },
        {
          "output_type": "display_data",
          "data": {
            "text/plain": [
              "<Figure size 432x288 with 1 Axes>"
            ],
            "image/png": "[encoded data removed]"
          },
          "metadata": {
            "needs_background": "light"
          }
        }
      ]
    },
    {
      "cell_type": "code",
      "source": [
        "df1.boxplot('Fatalities')"
      ],
      "metadata": {
        "colab": {
          "base_uri": "https://localhost:8080/",
          "height": 282
        },
        "id": "gStGf6FdvXlg",
        "outputId": "124e3e3f-864a-4763-b250-42d01c65dde8"
      },
      "execution_count": null,
      "outputs": [
        {
          "output_type": "execute_result",
          "data": {
            "text/plain": [
              "<matplotlib.axes._subplots.AxesSubplot at 0x7f80382ea310>"
            ]
          },
          "metadata": {},
          "execution_count": 15
        },
        {
          "output_type": "display_data",
          "data": {
            "text/plain": [
              "<Figure size 432x288 with 1 Axes>"
            ],
            "image/png": "[encoded data removed]"
          },
          "metadata": {
            "needs_background": "light"
          }
        }
      ]
    },
    {
      "cell_type": "code",
      "source": [
        "df1.boxplot('Injuries')"
      ],
      "metadata": {
        "colab": {
          "base_uri": "https://localhost:8080/",
          "height": 282
        },
        "id": "eYeMwTJ4veqR",
        "outputId": "1e6ba259-2245-429d-df8c-7a4803e41ecd"
      },
      "execution_count": null,
      "outputs": [
        {
          "output_type": "execute_result",
          "data": {
            "text/plain": [
              "<matplotlib.axes._subplots.AxesSubplot at 0x7f8038329bd0>"
            ]
          },
          "metadata": {},
          "execution_count": 16
        },
        {
          "output_type": "display_data",
          "data": {
            "text/plain": [
              "<Figure size 432x288 with 1 Axes>"
            ],
            "image/png": "[encoded data removed]"
          },
          "metadata": {
            "needs_background": "light"
          }
        }
      ]
    },
    {
      "cell_type": "markdown",
      "source": [
        "**Nhận xét:**\n",
        "\n",
        "Các cột định lượng chứa giá trị ngoại lệ, bao gồm:\n",
        "\n",
        "- Aircraft Mass\n",
        "\n",
        "- Engines\n",
        "\n",
        "- Engine Make\n",
        "\n",
        "- Height\n",
        "\n",
        "- Speed\n",
        "\n",
        "- Distance\n",
        "\n",
        "- Fatalities\n",
        "\n",
        "- Injuries"
      ],
      "metadata": {
        "id": "g_C3FnaLoJRU"
      }
    },
    {
      "cell_type": "markdown",
      "source": [
        "**Câu 5:** Người ta thường sử dụng chỉ số z (hay z-score) để xác định giá trị ngoại lệ (outlier). Bạn\n",
        "hãy loại bỏ các hàng có chứa giá trị ngoại lệ ra khỏi dataframe.\n",
        "\n",
        "Gợi ý: sử dụng chỉ số z hoặc hàm tính phân vị (quantile)\n",
        "\n",
        "**Bài làm:**"
      ],
      "metadata": {
        "id": "GooWDoM2Q8Qh"
      }
    },
    {
      "cell_type": "code",
      "source": [
        "# Gộp các cột chứa giá trị ngoại lệ vào biến df2\n",
        "df2 = pd.DataFrame(df, columns = [\"Aircraft Mass\",\"Engines\",\"Engine Make\",\"Height\",\"Speed\",\"Distance\",\"Fatalities\",\"Injuries\"])"
      ],
      "metadata": {
        "id": "sHjW1SlLcLD1"
      },
      "execution_count": null,
      "outputs": []
    },
    {
      "cell_type": "code",
      "source": [
        "# Thay thế các giá trị nan bằng giá trị trung bình của các cột \"Engine Make\",\"Height\",\"Speed\"\n",
        "colname_df2= df2.columns \n",
        "for i in colname_df2:\n",
        "  df2[i] = df2[i].fillna(df2[i].mean())"
      ],
      "metadata": {
        "id": "FqSb-yB5RcLF"
      },
      "execution_count": null,
      "outputs": []
    },
    {
      "cell_type": "code",
      "source": [
        "# Sử dụng thư viện scipy để thực hiện tính toán giá trị zscore.\n",
        "df2_zscore = np.abs(stats.zscore(df2))\n",
        "# Loại bỏ giá trị ngoại biên\n",
        "df2_zscore = df2[(df2_zscore < 3).all(axis=1)]"
      ],
      "metadata": {
        "id": "1_0nE3zORzB5"
      },
      "execution_count": null,
      "outputs": []
    },
    {
      "cell_type": "markdown",
      "source": [
        "**Câu 6:** Thực hiện lại câu 3 – 4 với tập dữ liệu sau khi đã loại bỏ ngoại lệ.\n",
        "\n",
        "**Bài làm:**"
      ],
      "metadata": {
        "id": "J26St71VSi_p"
      }
    },
    {
      "cell_type": "markdown",
      "source": [
        "Mô tả các thông số cơ bản của tập dữ liệu định lượng sau khi đã loại bỏ giá trị ngoại lệ.\n"
      ],
      "metadata": {
        "id": "oHL21mrPSv4f"
      }
    },
    {
      "cell_type": "code",
      "source": [
        "df2_zscore.describe() "
      ],
      "metadata": {
        "id": "_Y518tqiq3-b",
        "colab": {
          "base_uri": "https://localhost:8080/",
          "height": 300
        },
        "outputId": "8ed292ae-58ba-45cb-bb48-8bf9e3f37d65"
      },
      "execution_count": null,
      "outputs": [
        {
          "output_type": "execute_result",
          "data": {
            "text/plain": [
              "       Aircraft Mass        Engines    Engine Make         Height  \\\n",
              "count  155406.000000  155406.000000  155406.000000  155406.000000   \n",
              "mean        3.606688       2.058889      21.696650     625.908708   \n",
              "std         0.513715       0.235242       8.959359     702.843576   \n",
              "min         2.000000       1.000000       1.000000       0.000000   \n",
              "25%         3.510611       2.000000      19.000000       2.000000   \n",
              "50%         4.000000       2.000000      21.306958     831.032283   \n",
              "75%         4.000000       2.057656      31.000000     831.032283   \n",
              "max         5.000000       3.000000      47.000000    5000.000000   \n",
              "\n",
              "               Speed       Distance     Fatalities       Injuries  \n",
              "count  155406.000000  155406.000000  155406.000000  155406.000000  \n",
              "mean      140.531162       0.400351       0.045854       1.746746  \n",
              "std        19.352776       0.748829       0.002740       0.002316  \n",
              "min        55.000000       0.000000       0.000000       1.746725  \n",
              "25%       141.925622       0.000000       0.046018       1.746725  \n",
              "50%       141.925622       0.000000       0.046018       1.746725  \n",
              "75%       141.925622       0.703738       0.046018       1.746725  \n",
              "max       230.000000       8.500000       0.046018       2.000000  "
            ],
            "text/html": [
              "\n",
              "  <div id=\"df-71f4b050-3320-4dc6-91f6-324930148e6a\">\n",
              "    <div class=\"colab-df-container\">\n",
              "      <div>\n",
              "<style scoped>\n",
              "    .dataframe tbody tr th:only-of-type {\n",
              "        vertical-align: middle;\n",
              "    }\n",
              "\n",
              "    .dataframe tbody tr th {\n",
              "        vertical-align: top;\n",
              "    }\n",
              "\n",
              "    .dataframe thead th {\n",
              "        text-align: right;\n",
              "    }\n",
              "</style>\n",
              "<table border=\"1\" class=\"dataframe\">\n",
              "  <thead>\n",
              "    <tr style=\"text-align: right;\">\n",
              "      <th></th>\n",
              "      <th>Aircraft Mass</th>\n",
              "      <th>Engines</th>\n",
              "      <th>Engine Make</th>\n",
              "      <th>Height</th>\n",
              "      <th>Speed</th>\n",
              "      <th>Distance</th>\n",
              "      <th>Fatalities</th>\n",
              "      <th>Injuries</th>\n",
              "    </tr>\n",
              "  </thead>\n",
              "  <tbody>\n",
              "    <tr>\n",
              "      <th>count</th>\n",
              "      <td>155406.000000</td>\n",
              "      <td>155406.000000</td>\n",
              "      <td>155406.000000</td>\n",
              "      <td>155406.000000</td>\n",
              "      <td>155406.000000</td>\n",
              "      <td>155406.000000</td>\n",
              "      <td>155406.000000</td>\n",
              "      <td>155406.000000</td>\n",
              "    </tr>\n",
              "    <tr>\n",
              "      <th>mean</th>\n",
              "      <td>3.606688</td>\n",
              "      <td>2.058889</td>\n",
              "      <td>21.696650</td>\n",
              "      <td>625.908708</td>\n",
              "      <td>140.531162</td>\n",
              "      <td>0.400351</td>\n",
              "      <td>0.045854</td>\n",
              "      <td>1.746746</td>\n",
              "    </tr>\n",
              "    <tr>\n",
              "      <th>std</th>\n",
              "      <td>0.513715</td>\n",
              "      <td>0.235242</td>\n",
              "      <td>8.959359</td>\n",
              "      <td>702.843576</td>\n",
              "      <td>19.352776</td>\n",
              "      <td>0.748829</td>\n",
              "      <td>0.002740</td>\n",
              "      <td>0.002316</td>\n",
              "    </tr>\n",
              "    <tr>\n",
              "      <th>min</th>\n",
              "      <td>2.000000</td>\n",
              "      <td>1.000000</td>\n",
              "      <td>1.000000</td>\n",
              "      <td>0.000000</td>\n",
              "      <td>55.000000</td>\n",
              "      <td>0.000000</td>\n",
              "      <td>0.000000</td>\n",
              "      <td>1.746725</td>\n",
              "    </tr>\n",
              "    <tr>\n",
              "      <th>25%</th>\n",
              "      <td>3.510611</td>\n",
              "      <td>2.000000</td>\n",
              "      <td>19.000000</td>\n",
              "      <td>2.000000</td>\n",
              "      <td>141.925622</td>\n",
              "      <td>0.000000</td>\n",
              "      <td>0.046018</td>\n",
              "      <td>1.746725</td>\n",
              "    </tr>\n",
              "    <tr>\n",
              "      <th>50%</th>\n",
              "      <td>4.000000</td>\n",
              "      <td>2.000000</td>\n",
              "      <td>21.306958</td>\n",
              "      <td>831.032283</td>\n",
              "      <td>141.925622</td>\n",
              "      <td>0.000000</td>\n",
              "      <td>0.046018</td>\n",
              "      <td>1.746725</td>\n",
              "    </tr>\n",
              "    <tr>\n",
              "      <th>75%</th>\n",
              "      <td>4.000000</td>\n",
              "      <td>2.057656</td>\n",
              "      <td>31.000000</td>\n",
              "      <td>831.032283</td>\n",
              "      <td>141.925622</td>\n",
              "      <td>0.703738</td>\n",
              "      <td>0.046018</td>\n",
              "      <td>1.746725</td>\n",
              "    </tr>\n",
              "    <tr>\n",
              "      <th>max</th>\n",
              "      <td>5.000000</td>\n",
              "      <td>3.000000</td>\n",
              "      <td>47.000000</td>\n",
              "      <td>5000.000000</td>\n",
              "      <td>230.000000</td>\n",
              "      <td>8.500000</td>\n",
              "      <td>0.046018</td>\n",
              "      <td>2.000000</td>\n",
              "    </tr>\n",
              "  </tbody>\n",
              "</table>\n",
              "</div>\n",
              "      <button class=\"colab-df-convert\" onclick=\"convertToInteractive('df-71f4b050-3320-4dc6-91f6-324930148e6a')\"\n",
              "              title=\"Convert this dataframe to an interactive table.\"\n",
              "              style=\"display:none;\">\n",
              "        \n",
              "  <svg xmlns=\"http://www.w3.org/2000/svg\" height=\"24px\"viewBox=\"0 0 24 24\"\n",
              "       width=\"24px\">\n",
              "    <path d=\"M0 0h24v24H0V0z\" fill=\"none\"/>\n",
              "    <path d=\"M18.56 5.44l.94 2.06.94-2.06 2.06-.94-2.06-.94-.94-2.06-.94 2.06-2.06.94zm-11 1L8.5 8.5l.94-2.06 2.06-.94-2.06-.94L8.5 2.5l-.94 2.06-2.06.94zm10 10l.94 2.06.94-2.06 2.06-.94-2.06-.94-.94-2.06-.94 2.06-2.06.94z\"/><path d=\"M17.41 7.96l-1.37-1.37c-.4-.4-.92-.59-1.43-.59-.52 0-1.04.2-1.43.59L10.3 9.45l-7.72 7.72c-.78.78-.78 2.05 0 2.83L4 21.41c.39.39.9.59 1.41.59.51 0 1.02-.2 1.41-.59l7.78-7.78 2.81-2.81c.8-.78.8-2.07 0-2.86zM5.41 20L4 18.59l7.72-7.72 1.47 1.35L5.41 20z\"/>\n",
              "  </svg>\n",
              "      </button>\n",
              "      \n",
              "  <style>\n",
              "    .colab-df-container {\n",
              "      display:flex;\n",
              "      flex-wrap:wrap;\n",
              "      gap: 12px;\n",
              "    }\n",
              "\n",
              "    .colab-df-convert {\n",
              "      background-color: #E8F0FE;\n",
              "      border: none;\n",
              "      border-radius: 50%;\n",
              "      cursor: pointer;\n",
              "      display: none;\n",
              "      fill: #1967D2;\n",
              "      height: 32px;\n",
              "      padding: 0 0 0 0;\n",
              "      width: 32px;\n",
              "    }\n",
              "\n",
              "    .colab-df-convert:hover {\n",
              "      background-color: #E2EBFA;\n",
              "      box-shadow: 0px 1px 2px rgba(60, 64, 67, 0.3), 0px 1px 3px 1px rgba(60, 64, 67, 0.15);\n",
              "      fill: #174EA6;\n",
              "    }\n",
              "\n",
              "    [theme=dark] .colab-df-convert {\n",
              "      background-color: #3B4455;\n",
              "      fill: #D2E3FC;\n",
              "    }\n",
              "\n",
              "    [theme=dark] .colab-df-convert:hover {\n",
              "      background-color: #434B5C;\n",
              "      box-shadow: 0px 1px 3px 1px rgba(0, 0, 0, 0.15);\n",
              "      filter: drop-shadow(0px 1px 2px rgba(0, 0, 0, 0.3));\n",
              "      fill: #FFFFFF;\n",
              "    }\n",
              "  </style>\n",
              "\n",
              "      <script>\n",
              "        const buttonEl =\n",
              "          document.querySelector('#df-71f4b050-3320-4dc6-91f6-324930148e6a button.colab-df-convert');\n",
              "        buttonEl.style.display =\n",
              "          google.colab.kernel.accessAllowed ? 'block' : 'none';\n",
              "\n",
              "        async function convertToInteractive(key) {\n",
              "          const element = document.querySelector('#df-71f4b050-3320-4dc6-91f6-324930148e6a');\n",
              "          const dataTable =\n",
              "            await google.colab.kernel.invokeFunction('convertToInteractive',\n",
              "                                                     [key], {});\n",
              "          if (!dataTable) return;\n",
              "\n",
              "          const docLinkHtml = 'Like what you see? Visit the ' +\n",
              "            '<a target=\"_blank\" href=https://colab.research.google.com/notebooks/data_table.ipynb>data table notebook</a>'\n",
              "            + ' to learn more about interactive tables.';\n",
              "          element.innerHTML = '';\n",
              "          dataTable['output_type'] = 'display_data';\n",
              "          await google.colab.output.renderOutput(dataTable, element);\n",
              "          const docLink = document.createElement('div');\n",
              "          docLink.innerHTML = docLinkHtml;\n",
              "          element.appendChild(docLink);\n",
              "        }\n",
              "      </script>\n",
              "    </div>\n",
              "  </div>\n",
              "  "
            ]
          },
          "metadata": {},
          "execution_count": 20
        }
      ]
    },
    {
      "cell_type": "code",
      "source": [
        "#Biểu đổ boxplot của cột Aircraft Mass sau khi loại bỏ giá trị ngoại biên\n",
        "df2_zscore.boxplot('Aircraft Mass')"
      ],
      "metadata": {
        "colab": {
          "base_uri": "https://localhost:8080/",
          "height": 282
        },
        "id": "apYtzgUGwf8p",
        "outputId": "4d319c57-47ae-4104-9192-e6c823d5e91a"
      },
      "execution_count": null,
      "outputs": [
        {
          "output_type": "execute_result",
          "data": {
            "text/plain": [
              "<matplotlib.axes._subplots.AxesSubplot at 0x7f80381e91d0>"
            ]
          },
          "metadata": {},
          "execution_count": 21
        },
        {
          "output_type": "display_data",
          "data": {
            "text/plain": [
              "<Figure size 432x288 with 1 Axes>"
            ],
            "image/png": "[encoded data removed]"
          },
          "metadata": {
            "needs_background": "light"
          }
        }
      ]
    },
    {
      "cell_type": "code",
      "source": [
        "#Biểu đồ boxplot của cột Engines sau khi loại bỏ giá trị ngoại biên\n",
        "df2_zscore.boxplot('Engines')"
      ],
      "metadata": {
        "colab": {
          "base_uri": "https://localhost:8080/",
          "height": 282
        },
        "id": "H9VLk7xgxgNi",
        "outputId": "ddb14a60-40fc-468b-b795-6ca00cf8b460"
      },
      "execution_count": null,
      "outputs": [
        {
          "output_type": "execute_result",
          "data": {
            "text/plain": [
              "<matplotlib.axes._subplots.AxesSubplot at 0x7f803a870090>"
            ]
          },
          "metadata": {},
          "execution_count": 22
        },
        {
          "output_type": "display_data",
          "data": {
            "text/plain": [
              "<Figure size 432x288 with 1 Axes>"
            ],
            "image/png": "[encoded data removed]"
          },
          "metadata": {
            "needs_background": "light"
          }
        }
      ]
    },
    {
      "cell_type": "code",
      "source": [
        "#Biểu đồ boxplot của cột Engine Make sau khi loại bỏ giá trị ngoại biên\n",
        "df2_zscore.boxplot('Engine Make')"
      ],
      "metadata": {
        "colab": {
          "base_uri": "https://localhost:8080/",
          "height": 282
        },
        "id": "61qDUcHQQGZP",
        "outputId": "e4a87077-7c81-465a-df8a-8320f63532b4"
      },
      "execution_count": null,
      "outputs": [
        {
          "output_type": "execute_result",
          "data": {
            "text/plain": [
              "<matplotlib.axes._subplots.AxesSubplot at 0x7f8037e8e710>"
            ]
          },
          "metadata": {},
          "execution_count": 23
        },
        {
          "output_type": "display_data",
          "data": {
            "text/plain": [
              "<Figure size 432x288 with 1 Axes>"
            ],
            "image/png": "[encoded data removed]"
          },
          "metadata": {
            "needs_background": "light"
          }
        }
      ]
    },
    {
      "cell_type": "code",
      "source": [
        "#Biểu đồ boxplot của cột Height sau khi loại bỏ giá trị ngoại biên\n",
        "df2_zscore.boxplot('Height')"
      ],
      "metadata": {
        "colab": {
          "base_uri": "https://localhost:8080/",
          "height": 282
        },
        "id": "KCDlMaNlTodt",
        "outputId": "678605cc-fabb-4c24-85ef-0e510e0dc3b1"
      },
      "execution_count": null,
      "outputs": [
        {
          "output_type": "execute_result",
          "data": {
            "text/plain": [
              "<matplotlib.axes._subplots.AxesSubplot at 0x7f8037e32390>"
            ]
          },
          "metadata": {},
          "execution_count": 24
        },
        {
          "output_type": "display_data",
          "data": {
            "text/plain": [
              "<Figure size 432x288 with 1 Axes>"
            ],
            "image/png": "[encoded data removed]"
          },
          "metadata": {
            "needs_background": "light"
          }
        }
      ]
    },
    {
      "cell_type": "code",
      "source": [
        "#Biểu đồ boxplot của cột Speed sau khi loại bỏ giá trị ngoại biên\n",
        "df2_zscore.boxplot('Speed')"
      ],
      "metadata": {
        "colab": {
          "base_uri": "https://localhost:8080/",
          "height": 282
        },
        "id": "AmXGga_GTtTJ",
        "outputId": "259b4266-fe59-440d-c349-a18ce4b76d57"
      },
      "execution_count": null,
      "outputs": [
        {
          "output_type": "execute_result",
          "data": {
            "text/plain": [
              "<matplotlib.axes._subplots.AxesSubplot at 0x7f8037db4a90>"
            ]
          },
          "metadata": {},
          "execution_count": 25
        },
        {
          "output_type": "display_data",
          "data": {
            "text/plain": [
              "<Figure size 432x288 with 1 Axes>"
            ],
            "image/png": "[encoded data removed]"
          },
          "metadata": {
            "needs_background": "light"
          }
        }
      ]
    },
    {
      "cell_type": "code",
      "source": [
        "# Biểu đồ boxplot của cột dữ liệu Distance sau khi loại bỏ giá trị ngoại biên\n",
        "df2_zscore.boxplot('Distance')"
      ],
      "metadata": {
        "colab": {
          "base_uri": "https://localhost:8080/",
          "height": 282
        },
        "id": "xzFlvGdUyjJy",
        "outputId": "90d176c2-6292-4b85-8c19-6d436249aece"
      },
      "execution_count": null,
      "outputs": [
        {
          "output_type": "execute_result",
          "data": {
            "text/plain": [
              "<matplotlib.axes._subplots.AxesSubplot at 0x7f8037cdec90>"
            ]
          },
          "metadata": {},
          "execution_count": 26
        },
        {
          "output_type": "display_data",
          "data": {
            "text/plain": [
              "<Figure size 432x288 with 1 Axes>"
            ],
            "image/png": "[encoded data removed]"
          },
          "metadata": {
            "needs_background": "light"
          }
        }
      ]
    },
    {
      "cell_type": "code",
      "source": [
        "# Biểu đồ boxplot của cột dữ liệu Fatalities sau khi loại bỏ giá trị ngoại biên\n",
        "df2_zscore.boxplot('Fatalities')"
      ],
      "metadata": {
        "colab": {
          "base_uri": "https://localhost:8080/",
          "height": 282
        },
        "id": "3rbTRQbuyxYO",
        "outputId": "19818001-d236-47b1-cbe1-215ef2802f57"
      },
      "execution_count": null,
      "outputs": [
        {
          "output_type": "execute_result",
          "data": {
            "text/plain": [
              "<matplotlib.axes._subplots.AxesSubplot at 0x7f80384f2bd0>"
            ]
          },
          "metadata": {},
          "execution_count": 27
        },
        {
          "output_type": "display_data",
          "data": {
            "text/plain": [
              "<Figure size 432x288 with 1 Axes>"
            ],
            "image/png": "[encoded data removed]"
          },
          "metadata": {
            "needs_background": "light"
          }
        }
      ]
    },
    {
      "cell_type": "code",
      "source": [
        "# Biểu đồ boxplot của cột dữ liệu Injuries sau khi loại bỏ giá trị ngoại biên\n",
        "df2_zscore.boxplot('Injuries')"
      ],
      "metadata": {
        "colab": {
          "base_uri": "https://localhost:8080/",
          "height": 282
        },
        "id": "dBlPX4cYy_6C",
        "outputId": "f404d827-0ec2-4bb1-e514-dd70cfa9f17a"
      },
      "execution_count": null,
      "outputs": [
        {
          "output_type": "execute_result",
          "data": {
            "text/plain": [
              "<matplotlib.axes._subplots.AxesSubplot at 0x7f803862f250>"
            ]
          },
          "metadata": {},
          "execution_count": 28
        },
        {
          "output_type": "display_data",
          "data": {
            "text/plain": [
              "<Figure size 432x288 with 1 Axes>"
            ],
            "image/png": "[encoded data removed]"
          },
          "metadata": {
            "needs_background": "light"
          }
        }
      ]
    },
    {
      "cell_type": "markdown",
      "source": [
        "**Câu 7:** Hãy tính độ tương quan (correlation) giữa các cột định lượng. (Hay xây dựng correlation matrix)\n",
        "\n",
        "**Bài làm:**"
      ],
      "metadata": {
        "id": "FTtB6774XW1a"
      }
    },
    {
      "cell_type": "code",
      "source": [
        "corr_matrix = df1.corr()\n",
        "print(corr_matrix)"
      ],
      "metadata": {
        "colab": {
          "base_uri": "https://localhost:8080/"
        },
        "id": "Rl9F9bJCTwoB",
        "outputId": "accd0841-acea-41d4-d9dd-6b1a038e54e3"
      },
      "execution_count": null,
      "outputs": [
        {
          "output_type": "stream",
          "name": "stdout",
          "text": [
            "                  Aircraft Mass   Engines  Engine2 Position  Engine4 Position  \\\n",
            "Aircraft Mass          1.000000  0.515278         -0.450428         -0.576765   \n",
            "Engines                0.515278  1.000000          0.204964               NaN   \n",
            "Engine2 Position      -0.450428  0.204964          1.000000          0.851701   \n",
            "Engine4 Position      -0.576765       NaN          0.851701          1.000000   \n",
            "Engine Make            0.184513  0.229766          0.271807         -0.565089   \n",
            "Height                 0.086614  0.048184         -0.073610         -0.074727   \n",
            "Speed                  0.431402  0.274281         -0.137423         -0.220360   \n",
            "Distance               0.078564  0.038374         -0.082867          0.023917   \n",
            "Fatalities            -0.444041 -0.168305         -0.572131               NaN   \n",
            "Injuries               0.227976  0.105028         -0.296665               NaN   \n",
            "\n",
            "                  Engine Make    Height     Speed  Distance  Fatalities  \\\n",
            "Aircraft Mass        0.184513  0.086614  0.431402  0.078564   -0.444041   \n",
            "Engines              0.229766  0.048184  0.274281  0.038374   -0.168305   \n",
            "Engine2 Position     0.271807 -0.073610 -0.137423 -0.082867   -0.572131   \n",
            "Engine4 Position    -0.565089 -0.074727 -0.220360  0.023917         NaN   \n",
            "Engine Make          1.000000  0.014429  0.087756 -0.001659    0.194832   \n",
            "Height               0.014429  1.000000  0.672248  0.856572    0.117793   \n",
            "Speed                0.087756  0.672248  1.000000  0.614562   -0.235384   \n",
            "Distance            -0.001659  0.856572  0.614562  1.000000    0.980543   \n",
            "Fatalities           0.194832  0.117793 -0.235384  0.980543    1.000000   \n",
            "Injuries             0.002458  0.075268  0.184517  0.066476         NaN   \n",
            "\n",
            "                  Injuries  \n",
            "Aircraft Mass     0.227976  \n",
            "Engines           0.105028  \n",
            "Engine2 Position -0.296665  \n",
            "Engine4 Position       NaN  \n",
            "Engine Make       0.002458  \n",
            "Height            0.075268  \n",
            "Speed             0.184517  \n",
            "Distance          0.066476  \n",
            "Fatalities             NaN  \n",
            "Injuries          1.000000  \n"
          ]
        }
      ]
    },
    {
      "cell_type": "markdown",
      "source": [
        "**Câu 8:** Từ correlation matrix, Hãy vẽ:\n",
        "- Heat map (biểu đồ nhiệt)\n",
        "- Pair plot (biểu đồ cặp)\n",
        "\n",
        "**Bài làm:**"
      ],
      "metadata": {
        "id": "Hq9nTeSgaPlD"
      }
    },
    {
      "cell_type": "code",
      "source": [
        "# Biểu đồ nhiệt từ bảng correlation (Heat map)\n",
        "sns.heatmap(corr_matrix, annot=True)\n",
        "plt.gcf().set_size_inches(15,8)"
      ],
      "metadata": {
        "colab": {
          "base_uri": "https://localhost:8080/",
          "height": 560
        },
        "id": "W1gVah1oYjBe",
        "outputId": "9b66e7f2-de77-462e-dbe2-0c946acaced5"
      },
      "execution_count": null,
      "outputs": [
        {
          "output_type": "display_data",
          "data": {
            "text/plain": [
              "<Figure size 1080x576 with 2 Axes>"
            ],
            "image/png": "[encoded data removed]"
          },
          "metadata": {
            "needs_background": "light"
          }
        }
      ]
    },
    {
      "cell_type": "code",
      "source": [
        "# Biểu đồ cặp từ bảng correlation (Pair plot)\n",
        "sns.pairplot(df1)\n",
        "plt.gcf().set_size_inches(20,8)"
      ],
      "metadata": {
        "colab": {
          "base_uri": "https://localhost:8080/",
          "height": 618
        },
        "id": "Cn1yAQ5iarSY",
        "outputId": "17591e30-ab7e-4ec8-948d-035a1ceab58a"
      },
      "execution_count": null,
      "outputs": [
        {
          "output_type": "display_data",
          "data": {
            "text/plain": [
              "<Figure size 1440x576 with 110 Axes>"
            ],
            "image/png": "[encoded data removed]"
          },
          "metadata": {
            "needs_background": "light"
          }
        }
      ]
    },
    {
      "cell_type": "markdown",
      "source": [
        "**Câu 9:** Đối với các cột dữ liệu định tính, hãy:\n",
        "- Vẽ biểu đồ cột dạng đứng\n",
        "- Vẽ biểu đồ cột dạng ngang\n",
        "- Vẽ biểu đồ đường tròn\n",
        "- Vẽ biểu đồ Pareto\n",
        "\n",
        "**Bài làm:**"
      ],
      "metadata": {
        "id": "JoMfgm1Jbwbi"
      }
    },
    {
      "cell_type": "markdown",
      "source": [
        "**Biểu đồ cột dạng đứng**\n",
        "\n",
        "Đại diện: Cột Incident Month"
      ],
      "metadata": {
        "id": "VyNeuZJsQ5h1"
      }
    },
    {
      "cell_type": "code",
      "source": [
        "x = dict(df[\"Incident Month\"].value_counts()).keys()\n",
        "y = dict(df[\"Incident Month\"].value_counts()).values()\n",
        "plt.bar(x,y)"
      ],
      "metadata": {
        "colab": {
          "base_uri": "https://localhost:8080/",
          "height": 282
        },
        "id": "nLBuZR1UPlBi",
        "outputId": "fb7dec3b-e5e9-41ab-ae25-fa9ec15e37fa"
      },
      "execution_count": null,
      "outputs": [
        {
          "output_type": "execute_result",
          "data": {
            "text/plain": [
              "<BarContainer object of 12 artists>"
            ]
          },
          "metadata": {},
          "execution_count": 32
        },
        {
          "output_type": "display_data",
          "data": {
            "text/plain": [
              "<Figure size 432x288 with 1 Axes>"
            ],
            "image/png": "[encoded data removed]"
          },
          "metadata": {
            "needs_background": "light"
          }
        }
      ]
    },
    {
      "cell_type": "markdown",
      "source": [
        "**Biểu đồ cột dạng ngang**\n",
        "\n",
        "Đại diện: Cột Incident Day"
      ],
      "metadata": {
        "id": "IZDuKIYEfZvU"
      }
    },
    {
      "cell_type": "code",
      "source": [
        "x = dict(df[\"Incident Day\"].value_counts()).keys()\n",
        "y = dict(df[\"Incident Day\"].value_counts()).values()\n",
        "plt.barh(list(x),list(y))"
      ],
      "metadata": {
        "colab": {
          "base_uri": "https://localhost:8080/",
          "height": 282
        },
        "id": "FTKvIUhrdsd4",
        "outputId": "5d997230-26cb-4edf-f348-9a35fc59d676"
      },
      "execution_count": null,
      "outputs": [
        {
          "output_type": "execute_result",
          "data": {
            "text/plain": [
              "<BarContainer object of 31 artists>"
            ]
          },
          "metadata": {},
          "execution_count": 33
        },
        {
          "output_type": "display_data",
          "data": {
            "text/plain": [
              "<Figure size 432x288 with 1 Axes>"
            ],
            "image/png": "[encoded data removed]"
          },
          "metadata": {
            "needs_background": "light"
          }
        }
      ]
    },
    {
      "cell_type": "markdown",
      "source": [
        "**Biểu đồ tròn**\n",
        "\n",
        "Đại diện: Cột Engine2 Position"
      ],
      "metadata": {
        "id": "rfo1TPHguRRv"
      }
    },
    {
      "cell_type": "code",
      "source": [
        "bdtron = df['Engine2 Position'].value_counts()\n",
        "bdtron "
      ],
      "metadata": {
        "colab": {
          "base_uri": "https://localhost:8080/"
        },
        "id": "3Anex2gbuW5M",
        "outputId": "3f833753-c66a-4b84-e43e-157aded51e1d"
      },
      "execution_count": null,
      "outputs": [
        {
          "output_type": "execute_result",
          "data": {
            "text/plain": [
              "1.0    60614\n",
              "5.0    35365\n",
              "4.0    13435\n",
              "6.0     9131\n",
              "3.0      168\n",
              "2.0        1\n",
              "7.0        1\n",
              "Name: Engine2 Position, dtype: int64"
            ]
          },
          "metadata": {},
          "execution_count": 34
        }
      ]
    },
    {
      "cell_type": "code",
      "source": [
        "plt.pie(bdtron,\n",
        "        autopct='%1.1f%%',\n",
        "        wedgeprops={'linewidth': 3.0, 'edgecolor': 'white'},\n",
        "        startangle=140)\n",
        "plt.axis('equal')\n",
        "plt.show()"
      ],
      "metadata": {
        "colab": {
          "base_uri": "https://localhost:8080/",
          "height": 247
        },
        "id": "0vzCohhAuzeL",
        "outputId": "804f0428-fdc9-4c29-bc3d-00e1ea81543e"
      },
      "execution_count": null,
      "outputs": [
        {
          "output_type": "display_data",
          "data": {
            "text/plain": [
              "<Figure size 432x288 with 1 Axes>"
            ],
            "image/png": "[encoded data removed]"
          },
          "metadata": {}
        }
      ]
    },
    {
      "cell_type": "markdown",
      "source": [
        "**Biểu đồ đường Pareto**\n",
        "\n",
        "Đại diện: Cột Engine Type"
      ],
      "metadata": {
        "id": "6M7rykwzw8Pj"
      }
    },
    {
      "cell_type": "code",
      "source": [
        "from matplotlib.ticker import PercentFormatter"
      ],
      "metadata": {
        "id": "Z8oXNURimo9m"
      },
      "execution_count": null,
      "outputs": []
    },
    {
      "cell_type": "code",
      "source": [
        "count_enginetype = dict(df['Engine Type'].value_counts()).values()\n",
        "\n",
        "pareto_df = pd.DataFrame({'count':count_enginetype})\n",
        "pareto_df.index = list(dict(df['Engine Type'].value_counts()).keys())\n",
        "\n",
        "pareto_df['cumperc'] = pareto_df['count'].cumsum()/pareto_df['count'].sum()*100\n",
        "print(pareto_df)"
      ],
      "metadata": {
        "id": "vMudp7TSvkhk",
        "colab": {
          "base_uri": "https://localhost:8080/"
        },
        "outputId": "669aef89-9fdf-4c60-e6fa-a22320e3426b"
      },
      "execution_count": null,
      "outputs": [
        {
          "output_type": "stream",
          "name": "stdout",
          "text": [
            "      count     cumperc\n",
            "D    104501   82.101947\n",
            "C     12065   91.580899\n",
            "A      8247   98.060213\n",
            "F      1940   99.584387\n",
            "B       386   99.887651\n",
            "A/C      71   99.943433\n",
            "B/D      61   99.991358\n",
            "c        10   99.999214\n",
            "X         1  100.000000\n"
          ]
        }
      ]
    },
    {
      "cell_type": "code",
      "source": [
        "color1 = 'steelblue'\n",
        "color2 = 'red'\n",
        "line_size = 4\n",
        "\n",
        "fig, ax = plt.subplots()\n",
        "ax.bar(pareto_df.index, pareto_df['count'], color=color1)\n",
        "\n",
        "ax2 = ax.twinx()\n",
        "ax2.plot(pareto_df.index, pareto_df['cumperc'], color=color2, marker=\"D\", ms=line_size)\n",
        "ax2.yaxis.set_major_formatter(PercentFormatter())\n",
        "\n",
        "ax.tick_params(axis='y', colors=color1)\n",
        "ax2.tick_params(axis='y', colors=color2)\n",
        "plt.show()"
      ],
      "metadata": {
        "colab": {
          "base_uri": "https://localhost:8080/",
          "height": 265
        },
        "id": "aoJKwuIskd7J",
        "outputId": "84f3b154-5402-4177-ee94-b46852f4f1bc"
      },
      "execution_count": null,
      "outputs": [
        {
          "output_type": "display_data",
          "data": {
            "text/plain": [
              "<Figure size 432x288 with 2 Axes>"
            ],
            "image/png": "[encoded data removed]"
          },
          "metadata": {
            "needs_background": "light"
          }
        }
      ]
    },
    {
      "cell_type": "code",
      "source": [
        ""
      ],
      "metadata": {
        "id": "siYmqdJ1nHfM"
      },
      "execution_count": null,
      "outputs": []
    }
  ]
}