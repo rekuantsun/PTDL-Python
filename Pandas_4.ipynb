{
  "nbformat": 4,
  "nbformat_minor": 0,
  "metadata": {
    "colab": {
      "name": "Pandas-4.ipynb",
      "provenance": [],
      "authorship_tag": "ABX9TyMvtEVKVbce8Jczl1HIcBpf",
      "include_colab_link": true
    },
    "kernelspec": {
      "name": "python3",
      "display_name": "Python 3"
    },
    "language_info": {
      "name": "python"
    }
  },
  "cells": [
    {
      "cell_type": "markdown",
      "metadata": {
        "id": "view-in-github",
        "colab_type": "text"
      },
      "source": [
        "<a href=\"https://colab.research.google.com/github/rekuantsun/PTDL-Python/blob/main/Pandas_4.ipynb\" target=\"_parent\"><img src=\"https://colab.research.google.com/assets/colab-badge.svg\" alt=\"Open In Colab\"/></a>"
      ]
    },
    {
      "cell_type": "markdown",
      "source": [
        "**Câu 1:** Xác định các thư viện cần dùng cho quá trình phân tích thống kê mô tả và đưa vào mã lệnh (sử dụng Google Colab)"
      ],
      "metadata": {
        "id": "VgDaM3TEwaYu"
      }
    },
    {
      "cell_type": "code",
      "execution_count": 42,
      "metadata": {
        "id": "MTDV9MVrwTX9"
      },
      "outputs": [],
      "source": [
        "import math\n",
        "import statistics\n",
        "import numpy as np\n",
        "import scipy.stats as stats\n",
        "import pandas as pd\n",
        "import matplotlib.pyplot as plt\n",
        "import statistics as sta"
      ]
    },
    {
      "cell_type": "markdown",
      "source": [
        "**Câu 2:** Sử dụng tập dữ liệu Aircraft Wildlife Strikes, 1990-2015 để tiến hành phân tích thống kê\n",
        "mô tả."
      ],
      "metadata": {
        "id": "d2aSo_ktz5n2"
      }
    },
    {
      "cell_type": "code",
      "source": [
        "from google.colab import drive\n",
        "drive.mount('/content/gdrive')\n",
        "df = pd.read_csv('/content/gdrive/MyDrive/Học Lập Trình/Học kỳ 2/PTDL - Python /database.csv')"
      ],
      "metadata": {
        "colab": {
          "base_uri": "https://localhost:8080/"
        },
        "id": "9_j8y9faz9lO",
        "outputId": "a3b6f883-9890-4aff-a350-4e4a9c004abd"
      },
      "execution_count": 43,
      "outputs": [
        {
          "output_type": "stream",
          "name": "stdout",
          "text": [
            "Drive already mounted at /content/gdrive; to attempt to forcibly remount, call drive.mount(\"/content/gdrive\", force_remount=True).\n"
          ]
        },
        {
          "output_type": "stream",
          "name": "stderr",
          "text": [
            "/usr/local/lib/python3.7/dist-packages/IPython/core/interactiveshell.py:2882: DtypeWarning: Columns (9,12,15,17) have mixed types.Specify dtype option on import or set low_memory=False.\n",
            "  exec(code_obj, self.user_global_ns, self.user_ns)\n"
          ]
        }
      ]
    },
    {
      "cell_type": "code",
      "source": [
        "df.head()"
      ],
      "metadata": {
        "colab": {
          "base_uri": "https://localhost:8080/",
          "height": 332
        },
        "id": "QqpekWTS4gne",
        "outputId": "e1f399c7-58be-42a5-ed98-df0c461e57dc"
      },
      "execution_count": 44,
      "outputs": [
        {
          "output_type": "execute_result",
          "data": {
            "text/plain": [
              "   Record ID  Incident Year  Incident Month  Incident Day Operator ID  \\\n",
              "0     127128           1990               1             1         DAL   \n",
              "1     129779           1990               1             1         HAL   \n",
              "2     129780           1990               1             2         UNK   \n",
              "3       2258           1990               1             3         MIL   \n",
              "4       2257           1990               1             3         MIL   \n",
              "\n",
              "          Operator   Aircraft Aircraft Type Aircraft Make Aircraft Model  ...  \\\n",
              "0  DELTA AIR LINES  B-757-200             A           148             26  ...   \n",
              "1     HAWAIIAN AIR       DC-9             A           583             90  ...   \n",
              "2          UNKNOWN    UNKNOWN           NaN           NaN            NaN  ...   \n",
              "3         MILITARY      A-10A             A           345            NaN  ...   \n",
              "4         MILITARY       F-16             A           561            NaN  ...   \n",
              "\n",
              "   Fuselage Strike  Fuselage Damage Landing Gear Strike  Landing Gear Damage  \\\n",
              "0                0                0                   0                    0   \n",
              "1                0                0                   0                    0   \n",
              "2                0                0                   0                    0   \n",
              "3                0                0                   0                    0   \n",
              "4                0                0                   0                    0   \n",
              "\n",
              "  Tail Strike Tail Damage  Lights Strike Lights Damage  Other Strike  \\\n",
              "0           1           1              0             0             0   \n",
              "1           0           0              0             0             1   \n",
              "2           0           0              0             0             0   \n",
              "3           0           0              0             0             0   \n",
              "4           0           0              0             0             0   \n",
              "\n",
              "  Other Damage  \n",
              "0            0  \n",
              "1            0  \n",
              "2            0  \n",
              "3            0  \n",
              "4            0  \n",
              "\n",
              "[5 rows x 66 columns]"
            ],
            "text/html": [
              "\n",
              "  <div id=\"df-f79124ed-a987-4eeb-8bd0-6cac51705df6\">\n",
              "    <div class=\"colab-df-container\">\n",
              "      <div>\n",
              "<style scoped>\n",
              "    .dataframe tbody tr th:only-of-type {\n",
              "        vertical-align: middle;\n",
              "    }\n",
              "\n",
              "    .dataframe tbody tr th {\n",
              "        vertical-align: top;\n",
              "    }\n",
              "\n",
              "    .dataframe thead th {\n",
              "        text-align: right;\n",
              "    }\n",
              "</style>\n",
              "<table border=\"1\" class=\"dataframe\">\n",
              "  <thead>\n",
              "    <tr style=\"text-align: right;\">\n",
              "      <th></th>\n",
              "      <th>Record ID</th>\n",
              "      <th>Incident Year</th>\n",
              "      <th>Incident Month</th>\n",
              "      <th>Incident Day</th>\n",
              "      <th>Operator ID</th>\n",
              "      <th>Operator</th>\n",
              "      <th>Aircraft</th>\n",
              "      <th>Aircraft Type</th>\n",
              "      <th>Aircraft Make</th>\n",
              "      <th>Aircraft Model</th>\n",
              "      <th>...</th>\n",
              "      <th>Fuselage Strike</th>\n",
              "      <th>Fuselage Damage</th>\n",
              "      <th>Landing Gear Strike</th>\n",
              "      <th>Landing Gear Damage</th>\n",
              "      <th>Tail Strike</th>\n",
              "      <th>Tail Damage</th>\n",
              "      <th>Lights Strike</th>\n",
              "      <th>Lights Damage</th>\n",
              "      <th>Other Strike</th>\n",
              "      <th>Other Damage</th>\n",
              "    </tr>\n",
              "  </thead>\n",
              "  <tbody>\n",
              "    <tr>\n",
              "      <th>0</th>\n",
              "      <td>127128</td>\n",
              "      <td>1990</td>\n",
              "      <td>1</td>\n",
              "      <td>1</td>\n",
              "      <td>DAL</td>\n",
              "      <td>DELTA AIR LINES</td>\n",
              "      <td>B-757-200</td>\n",
              "      <td>A</td>\n",
              "      <td>148</td>\n",
              "      <td>26</td>\n",
              "      <td>...</td>\n",
              "      <td>0</td>\n",
              "      <td>0</td>\n",
              "      <td>0</td>\n",
              "      <td>0</td>\n",
              "      <td>1</td>\n",
              "      <td>1</td>\n",
              "      <td>0</td>\n",
              "      <td>0</td>\n",
              "      <td>0</td>\n",
              "      <td>0</td>\n",
              "    </tr>\n",
              "    <tr>\n",
              "      <th>1</th>\n",
              "      <td>129779</td>\n",
              "      <td>1990</td>\n",
              "      <td>1</td>\n",
              "      <td>1</td>\n",
              "      <td>HAL</td>\n",
              "      <td>HAWAIIAN AIR</td>\n",
              "      <td>DC-9</td>\n",
              "      <td>A</td>\n",
              "      <td>583</td>\n",
              "      <td>90</td>\n",
              "      <td>...</td>\n",
              "      <td>0</td>\n",
              "      <td>0</td>\n",
              "      <td>0</td>\n",
              "      <td>0</td>\n",
              "      <td>0</td>\n",
              "      <td>0</td>\n",
              "      <td>0</td>\n",
              "      <td>0</td>\n",
              "      <td>1</td>\n",
              "      <td>0</td>\n",
              "    </tr>\n",
              "    <tr>\n",
              "      <th>2</th>\n",
              "      <td>129780</td>\n",
              "      <td>1990</td>\n",
              "      <td>1</td>\n",
              "      <td>2</td>\n",
              "      <td>UNK</td>\n",
              "      <td>UNKNOWN</td>\n",
              "      <td>UNKNOWN</td>\n",
              "      <td>NaN</td>\n",
              "      <td>NaN</td>\n",
              "      <td>NaN</td>\n",
              "      <td>...</td>\n",
              "      <td>0</td>\n",
              "      <td>0</td>\n",
              "      <td>0</td>\n",
              "      <td>0</td>\n",
              "      <td>0</td>\n",
              "      <td>0</td>\n",
              "      <td>0</td>\n",
              "      <td>0</td>\n",
              "      <td>0</td>\n",
              "      <td>0</td>\n",
              "    </tr>\n",
              "    <tr>\n",
              "      <th>3</th>\n",
              "      <td>2258</td>\n",
              "      <td>1990</td>\n",
              "      <td>1</td>\n",
              "      <td>3</td>\n",
              "      <td>MIL</td>\n",
              "      <td>MILITARY</td>\n",
              "      <td>A-10A</td>\n",
              "      <td>A</td>\n",
              "      <td>345</td>\n",
              "      <td>NaN</td>\n",
              "      <td>...</td>\n",
              "      <td>0</td>\n",
              "      <td>0</td>\n",
              "      <td>0</td>\n",
              "      <td>0</td>\n",
              "      <td>0</td>\n",
              "      <td>0</td>\n",
              "      <td>0</td>\n",
              "      <td>0</td>\n",
              "      <td>0</td>\n",
              "      <td>0</td>\n",
              "    </tr>\n",
              "    <tr>\n",
              "      <th>4</th>\n",
              "      <td>2257</td>\n",
              "      <td>1990</td>\n",
              "      <td>1</td>\n",
              "      <td>3</td>\n",
              "      <td>MIL</td>\n",
              "      <td>MILITARY</td>\n",
              "      <td>F-16</td>\n",
              "      <td>A</td>\n",
              "      <td>561</td>\n",
              "      <td>NaN</td>\n",
              "      <td>...</td>\n",
              "      <td>0</td>\n",
              "      <td>0</td>\n",
              "      <td>0</td>\n",
              "      <td>0</td>\n",
              "      <td>0</td>\n",
              "      <td>0</td>\n",
              "      <td>0</td>\n",
              "      <td>0</td>\n",
              "      <td>0</td>\n",
              "      <td>0</td>\n",
              "    </tr>\n",
              "  </tbody>\n",
              "</table>\n",
              "<p>5 rows × 66 columns</p>\n",
              "</div>\n",
              "      <button class=\"colab-df-convert\" onclick=\"convertToInteractive('df-f79124ed-a987-4eeb-8bd0-6cac51705df6')\"\n",
              "              title=\"Convert this dataframe to an interactive table.\"\n",
              "              style=\"display:none;\">\n",
              "        \n",
              "  <svg xmlns=\"http://www.w3.org/2000/svg\" height=\"24px\"viewBox=\"0 0 24 24\"\n",
              "       width=\"24px\">\n",
              "    <path d=\"M0 0h24v24H0V0z\" fill=\"none\"/>\n",
              "    <path d=\"M18.56 5.44l.94 2.06.94-2.06 2.06-.94-2.06-.94-.94-2.06-.94 2.06-2.06.94zm-11 1L8.5 8.5l.94-2.06 2.06-.94-2.06-.94L8.5 2.5l-.94 2.06-2.06.94zm10 10l.94 2.06.94-2.06 2.06-.94-2.06-.94-.94-2.06-.94 2.06-2.06.94z\"/><path d=\"M17.41 7.96l-1.37-1.37c-.4-.4-.92-.59-1.43-.59-.52 0-1.04.2-1.43.59L10.3 9.45l-7.72 7.72c-.78.78-.78 2.05 0 2.83L4 21.41c.39.39.9.59 1.41.59.51 0 1.02-.2 1.41-.59l7.78-7.78 2.81-2.81c.8-.78.8-2.07 0-2.86zM5.41 20L4 18.59l7.72-7.72 1.47 1.35L5.41 20z\"/>\n",
              "  </svg>\n",
              "      </button>\n",
              "      \n",
              "  <style>\n",
              "    .colab-df-container {\n",
              "      display:flex;\n",
              "      flex-wrap:wrap;\n",
              "      gap: 12px;\n",
              "    }\n",
              "\n",
              "    .colab-df-convert {\n",
              "      background-color: #E8F0FE;\n",
              "      border: none;\n",
              "      border-radius: 50%;\n",
              "      cursor: pointer;\n",
              "      display: none;\n",
              "      fill: #1967D2;\n",
              "      height: 32px;\n",
              "      padding: 0 0 0 0;\n",
              "      width: 32px;\n",
              "    }\n",
              "\n",
              "    .colab-df-convert:hover {\n",
              "      background-color: #E2EBFA;\n",
              "      box-shadow: 0px 1px 2px rgba(60, 64, 67, 0.3), 0px 1px 3px 1px rgba(60, 64, 67, 0.15);\n",
              "      fill: #174EA6;\n",
              "    }\n",
              "\n",
              "    [theme=dark] .colab-df-convert {\n",
              "      background-color: #3B4455;\n",
              "      fill: #D2E3FC;\n",
              "    }\n",
              "\n",
              "    [theme=dark] .colab-df-convert:hover {\n",
              "      background-color: #434B5C;\n",
              "      box-shadow: 0px 1px 3px 1px rgba(0, 0, 0, 0.15);\n",
              "      filter: drop-shadow(0px 1px 2px rgba(0, 0, 0, 0.3));\n",
              "      fill: #FFFFFF;\n",
              "    }\n",
              "  </style>\n",
              "\n",
              "      <script>\n",
              "        const buttonEl =\n",
              "          document.querySelector('#df-f79124ed-a987-4eeb-8bd0-6cac51705df6 button.colab-df-convert');\n",
              "        buttonEl.style.display =\n",
              "          google.colab.kernel.accessAllowed ? 'block' : 'none';\n",
              "\n",
              "        async function convertToInteractive(key) {\n",
              "          const element = document.querySelector('#df-f79124ed-a987-4eeb-8bd0-6cac51705df6');\n",
              "          const dataTable =\n",
              "            await google.colab.kernel.invokeFunction('convertToInteractive',\n",
              "                                                     [key], {});\n",
              "          if (!dataTable) return;\n",
              "\n",
              "          const docLinkHtml = 'Like what you see? Visit the ' +\n",
              "            '<a target=\"_blank\" href=https://colab.research.google.com/notebooks/data_table.ipynb>data table notebook</a>'\n",
              "            + ' to learn more about interactive tables.';\n",
              "          element.innerHTML = '';\n",
              "          dataTable['output_type'] = 'display_data';\n",
              "          await google.colab.output.renderOutput(dataTable, element);\n",
              "          const docLink = document.createElement('div');\n",
              "          docLink.innerHTML = docLinkHtml;\n",
              "          element.appendChild(docLink);\n",
              "        }\n",
              "      </script>\n",
              "    </div>\n",
              "  </div>\n",
              "  "
            ]
          },
          "metadata": {},
          "execution_count": 44
        }
      ]
    },
    {
      "cell_type": "markdown",
      "source": [
        "**Câu 3:** Đối với các cột dữ liệu định lượng, hãy áp dụng các phép tính hướng tâm, phép tính phương sai - độ lệch chuẩn, các phép tính phân vị, cực đại - cực tiểu để tính các thông sô cơ bản của các cột dữ liệu định lượng này."
      ],
      "metadata": {
        "id": "fvgy3-zJNZJQ"
      }
    },
    {
      "cell_type": "code",
      "source": [
        "df1 = pd.DataFrame(df, columns = ['Incident Month','Incident Day','Engine Make','Height','Speed'])\n",
        "df1.head(10)"
      ],
      "metadata": {
        "id": "Q7HD17hm7oh-",
        "colab": {
          "base_uri": "https://localhost:8080/",
          "height": 363
        },
        "outputId": "952ed745-1217-4bec-b626-796a259e4925"
      },
      "execution_count": 45,
      "outputs": [
        {
          "output_type": "execute_result",
          "data": {
            "text/plain": [
              "   Incident Month  Incident Day  Engine Make  Height  Speed\n",
              "0               1             1         34.0     NaN    NaN\n",
              "1               1             1         34.0     0.0    NaN\n",
              "2               1             2          NaN     NaN    NaN\n",
              "3               1             3         22.0   200.0  138.0\n",
              "4               1             3          NaN   100.0  200.0\n",
              "5               1             4         34.0     0.0    NaN\n",
              "6               1             5          NaN     NaN    NaN\n",
              "7               1             5          NaN     NaN    NaN\n",
              "8               1             6          NaN     NaN    NaN\n",
              "9               1             7         31.0     NaN    NaN"
            ],
            "text/html": [
              "\n",
              "  <div id=\"df-c65068ed-cfa5-4681-995c-42fd1371ac78\">\n",
              "    <div class=\"colab-df-container\">\n",
              "      <div>\n",
              "<style scoped>\n",
              "    .dataframe tbody tr th:only-of-type {\n",
              "        vertical-align: middle;\n",
              "    }\n",
              "\n",
              "    .dataframe tbody tr th {\n",
              "        vertical-align: top;\n",
              "    }\n",
              "\n",
              "    .dataframe thead th {\n",
              "        text-align: right;\n",
              "    }\n",
              "</style>\n",
              "<table border=\"1\" class=\"dataframe\">\n",
              "  <thead>\n",
              "    <tr style=\"text-align: right;\">\n",
              "      <th></th>\n",
              "      <th>Incident Month</th>\n",
              "      <th>Incident Day</th>\n",
              "      <th>Engine Make</th>\n",
              "      <th>Height</th>\n",
              "      <th>Speed</th>\n",
              "    </tr>\n",
              "  </thead>\n",
              "  <tbody>\n",
              "    <tr>\n",
              "      <th>0</th>\n",
              "      <td>1</td>\n",
              "      <td>1</td>\n",
              "      <td>34.0</td>\n",
              "      <td>NaN</td>\n",
              "      <td>NaN</td>\n",
              "    </tr>\n",
              "    <tr>\n",
              "      <th>1</th>\n",
              "      <td>1</td>\n",
              "      <td>1</td>\n",
              "      <td>34.0</td>\n",
              "      <td>0.0</td>\n",
              "      <td>NaN</td>\n",
              "    </tr>\n",
              "    <tr>\n",
              "      <th>2</th>\n",
              "      <td>1</td>\n",
              "      <td>2</td>\n",
              "      <td>NaN</td>\n",
              "      <td>NaN</td>\n",
              "      <td>NaN</td>\n",
              "    </tr>\n",
              "    <tr>\n",
              "      <th>3</th>\n",
              "      <td>1</td>\n",
              "      <td>3</td>\n",
              "      <td>22.0</td>\n",
              "      <td>200.0</td>\n",
              "      <td>138.0</td>\n",
              "    </tr>\n",
              "    <tr>\n",
              "      <th>4</th>\n",
              "      <td>1</td>\n",
              "      <td>3</td>\n",
              "      <td>NaN</td>\n",
              "      <td>100.0</td>\n",
              "      <td>200.0</td>\n",
              "    </tr>\n",
              "    <tr>\n",
              "      <th>5</th>\n",
              "      <td>1</td>\n",
              "      <td>4</td>\n",
              "      <td>34.0</td>\n",
              "      <td>0.0</td>\n",
              "      <td>NaN</td>\n",
              "    </tr>\n",
              "    <tr>\n",
              "      <th>6</th>\n",
              "      <td>1</td>\n",
              "      <td>5</td>\n",
              "      <td>NaN</td>\n",
              "      <td>NaN</td>\n",
              "      <td>NaN</td>\n",
              "    </tr>\n",
              "    <tr>\n",
              "      <th>7</th>\n",
              "      <td>1</td>\n",
              "      <td>5</td>\n",
              "      <td>NaN</td>\n",
              "      <td>NaN</td>\n",
              "      <td>NaN</td>\n",
              "    </tr>\n",
              "    <tr>\n",
              "      <th>8</th>\n",
              "      <td>1</td>\n",
              "      <td>6</td>\n",
              "      <td>NaN</td>\n",
              "      <td>NaN</td>\n",
              "      <td>NaN</td>\n",
              "    </tr>\n",
              "    <tr>\n",
              "      <th>9</th>\n",
              "      <td>1</td>\n",
              "      <td>7</td>\n",
              "      <td>31.0</td>\n",
              "      <td>NaN</td>\n",
              "      <td>NaN</td>\n",
              "    </tr>\n",
              "  </tbody>\n",
              "</table>\n",
              "</div>\n",
              "      <button class=\"colab-df-convert\" onclick=\"convertToInteractive('df-c65068ed-cfa5-4681-995c-42fd1371ac78')\"\n",
              "              title=\"Convert this dataframe to an interactive table.\"\n",
              "              style=\"display:none;\">\n",
              "        \n",
              "  <svg xmlns=\"http://www.w3.org/2000/svg\" height=\"24px\"viewBox=\"0 0 24 24\"\n",
              "       width=\"24px\">\n",
              "    <path d=\"M0 0h24v24H0V0z\" fill=\"none\"/>\n",
              "    <path d=\"M18.56 5.44l.94 2.06.94-2.06 2.06-.94-2.06-.94-.94-2.06-.94 2.06-2.06.94zm-11 1L8.5 8.5l.94-2.06 2.06-.94-2.06-.94L8.5 2.5l-.94 2.06-2.06.94zm10 10l.94 2.06.94-2.06 2.06-.94-2.06-.94-.94-2.06-.94 2.06-2.06.94z\"/><path d=\"M17.41 7.96l-1.37-1.37c-.4-.4-.92-.59-1.43-.59-.52 0-1.04.2-1.43.59L10.3 9.45l-7.72 7.72c-.78.78-.78 2.05 0 2.83L4 21.41c.39.39.9.59 1.41.59.51 0 1.02-.2 1.41-.59l7.78-7.78 2.81-2.81c.8-.78.8-2.07 0-2.86zM5.41 20L4 18.59l7.72-7.72 1.47 1.35L5.41 20z\"/>\n",
              "  </svg>\n",
              "      </button>\n",
              "      \n",
              "  <style>\n",
              "    .colab-df-container {\n",
              "      display:flex;\n",
              "      flex-wrap:wrap;\n",
              "      gap: 12px;\n",
              "    }\n",
              "\n",
              "    .colab-df-convert {\n",
              "      background-color: #E8F0FE;\n",
              "      border: none;\n",
              "      border-radius: 50%;\n",
              "      cursor: pointer;\n",
              "      display: none;\n",
              "      fill: #1967D2;\n",
              "      height: 32px;\n",
              "      padding: 0 0 0 0;\n",
              "      width: 32px;\n",
              "    }\n",
              "\n",
              "    .colab-df-convert:hover {\n",
              "      background-color: #E2EBFA;\n",
              "      box-shadow: 0px 1px 2px rgba(60, 64, 67, 0.3), 0px 1px 3px 1px rgba(60, 64, 67, 0.15);\n",
              "      fill: #174EA6;\n",
              "    }\n",
              "\n",
              "    [theme=dark] .colab-df-convert {\n",
              "      background-color: #3B4455;\n",
              "      fill: #D2E3FC;\n",
              "    }\n",
              "\n",
              "    [theme=dark] .colab-df-convert:hover {\n",
              "      background-color: #434B5C;\n",
              "      box-shadow: 0px 1px 3px 1px rgba(0, 0, 0, 0.15);\n",
              "      filter: drop-shadow(0px 1px 2px rgba(0, 0, 0, 0.3));\n",
              "      fill: #FFFFFF;\n",
              "    }\n",
              "  </style>\n",
              "\n",
              "      <script>\n",
              "        const buttonEl =\n",
              "          document.querySelector('#df-c65068ed-cfa5-4681-995c-42fd1371ac78 button.colab-df-convert');\n",
              "        buttonEl.style.display =\n",
              "          google.colab.kernel.accessAllowed ? 'block' : 'none';\n",
              "\n",
              "        async function convertToInteractive(key) {\n",
              "          const element = document.querySelector('#df-c65068ed-cfa5-4681-995c-42fd1371ac78');\n",
              "          const dataTable =\n",
              "            await google.colab.kernel.invokeFunction('convertToInteractive',\n",
              "                                                     [key], {});\n",
              "          if (!dataTable) return;\n",
              "\n",
              "          const docLinkHtml = 'Like what you see? Visit the ' +\n",
              "            '<a target=\"_blank\" href=https://colab.research.google.com/notebooks/data_table.ipynb>data table notebook</a>'\n",
              "            + ' to learn more about interactive tables.';\n",
              "          element.innerHTML = '';\n",
              "          dataTable['output_type'] = 'display_data';\n",
              "          await google.colab.output.renderOutput(dataTable, element);\n",
              "          const docLink = document.createElement('div');\n",
              "          docLink.innerHTML = docLinkHtml;\n",
              "          element.appendChild(docLink);\n",
              "        }\n",
              "      </script>\n",
              "    </div>\n",
              "  </div>\n",
              "  "
            ]
          },
          "metadata": {},
          "execution_count": 45
        }
      ]
    },
    {
      "cell_type": "code",
      "source": [
        "df.boxplot('Incident Year')"
      ],
      "metadata": {
        "id": "1q_-DC8B7wZv",
        "colab": {
          "base_uri": "https://localhost:8080/",
          "height": 282
        },
        "outputId": "e6ed0a17-9567-4ab5-f63d-fc0fe94273f6"
      },
      "execution_count": 46,
      "outputs": [
        {
          "output_type": "execute_result",
          "data": {
            "text/plain": [
              "<matplotlib.axes._subplots.AxesSubplot at 0x7f78aef55450>"
            ]
          },
          "metadata": {},
          "execution_count": 46
        },
        {
          "output_type": "display_data",
          "data": {
            "text/plain": [
              "<Figure size 432x288 with 1 Axes>"
            ],
            "image/png": "[encoded data removed]"
          },
          "metadata": {
            "needs_background": "light"
          }
        }
      ]
    },
    {
      "cell_type": "code",
      "source": [
        "df.boxplot('Incident Month')"
      ],
      "metadata": {
        "id": "9GcWjKr6EjB7",
        "colab": {
          "base_uri": "https://localhost:8080/",
          "height": 282
        },
        "outputId": "3265a43f-90bb-4934-8d15-fe39ec94e558"
      },
      "execution_count": 47,
      "outputs": [
        {
          "output_type": "execute_result",
          "data": {
            "text/plain": [
              "<matplotlib.axes._subplots.AxesSubplot at 0x7f78adf32350>"
            ]
          },
          "metadata": {},
          "execution_count": 47
        },
        {
          "output_type": "display_data",
          "data": {
            "text/plain": [
              "<Figure size 432x288 with 1 Axes>"
            ],
            "image/png": "[encoded data removed]"
          },
          "metadata": {
            "needs_background": "light"
          }
        }
      ]
    },
    {
      "cell_type": "code",
      "source": [
        "df.boxplot('Engine Make')"
      ],
      "metadata": {
        "colab": {
          "base_uri": "https://localhost:8080/",
          "height": 282
        },
        "id": "EhtyhgqqNwq8",
        "outputId": "9b27c8c9-5942-4a80-a75e-d7a8ac9de830"
      },
      "execution_count": 48,
      "outputs": [
        {
          "output_type": "execute_result",
          "data": {
            "text/plain": [
              "<matplotlib.axes._subplots.AxesSubplot at 0x7f78ae437150>"
            ]
          },
          "metadata": {},
          "execution_count": 48
        },
        {
          "output_type": "display_data",
          "data": {
            "text/plain": [
              "<Figure size 432x288 with 1 Axes>"
            ],
            "image/png": "[encoded data removed]"
          },
          "metadata": {
            "needs_background": "light"
          }
        }
      ]
    },
    {
      "cell_type": "code",
      "source": [
        "df.boxplot('Height')"
      ],
      "metadata": {
        "colab": {
          "base_uri": "https://localhost:8080/",
          "height": 282
        },
        "id": "QJeis1FkiLmE",
        "outputId": "a30720f4-6cdf-4770-d923-a68b404603c3"
      },
      "execution_count": 49,
      "outputs": [
        {
          "output_type": "execute_result",
          "data": {
            "text/plain": [
              "<matplotlib.axes._subplots.AxesSubplot at 0x7f78ae0530d0>"
            ]
          },
          "metadata": {},
          "execution_count": 49
        },
        {
          "output_type": "display_data",
          "data": {
            "text/plain": [
              "<Figure size 432x288 with 1 Axes>"
            ],
            "image/png": "[encoded data removed]"
          },
          "metadata": {
            "needs_background": "light"
          }
        }
      ]
    },
    {
      "cell_type": "code",
      "source": [
        "df.boxplot('Speed')"
      ],
      "metadata": {
        "colab": {
          "base_uri": "https://localhost:8080/",
          "height": 282
        },
        "id": "2SKkWCH8oBhh",
        "outputId": "9ae5a1d4-9ce1-47f5-d15c-cf70dd277029"
      },
      "execution_count": 50,
      "outputs": [
        {
          "output_type": "execute_result",
          "data": {
            "text/plain": [
              "<matplotlib.axes._subplots.AxesSubplot at 0x7f78ae0788d0>"
            ]
          },
          "metadata": {},
          "execution_count": 50
        },
        {
          "output_type": "display_data",
          "data": {
            "text/plain": [
              "<Figure size 432x288 with 1 Axes>"
            ],
            "image/png": "[encoded data removed]"
          },
          "metadata": {
            "needs_background": "light"
          }
        }
      ]
    },
    {
      "cell_type": "markdown",
      "source": [
        "**Nhận xét:**\n",
        "\n",
        "Các cột định lượng chứa giá trị ngoại lệ, bao gồm:\n",
        "\n",
        "- Engine Make\n",
        "\n",
        "- Height\n",
        "\n",
        "- Speed"
      ],
      "metadata": {
        "id": "g_C3FnaLoJRU"
      }
    },
    {
      "cell_type": "markdown",
      "source": [
        "**Loại bỏ giá trị ngoại biên cột Engine Make**"
      ],
      "metadata": {
        "id": "f3q2p6jibD5O"
      }
    },
    {
      "cell_type": "code",
      "source": [
        "#Giá trị giới hạn\n",
        "upper_limit = df['Engine Make'].mean() + 3*df['Engine Make'].std()\n",
        "lower_limit = df['Engine Make'].mean() - 3*df['Engine Make'].std()\n",
        "\n",
        "print(\"Giá trị giới hạn lớn nhất của Engine Make\",upper_limit)\n",
        "print(\"Giá trị giới hạn nhỏ nhất của Engine Make\",lower_limit)"
      ],
      "metadata": {
        "colab": {
          "base_uri": "https://localhost:8080/"
        },
        "id": "02XjUHHToD6I",
        "outputId": "2564923e-810b-4a27-cd96-92a109e4da79"
      },
      "execution_count": 51,
      "outputs": [
        {
          "output_type": "stream",
          "name": "stdout",
          "text": [
            "Giá trị giới hạn lớn nhất của Engine Make 54.3764418583599\n",
            "Giá trị giới hạn nhỏ nhất của Engine Make -11.762526729627137\n"
          ]
        }
      ]
    },
    {
      "cell_type": "code",
      "source": [
        "#Loại bỏ ngoại biên\n",
        "new_df = df[(df['Engine Make'] < 8.80) & (df['Engine Make'] > 5.11)]"
      ],
      "metadata": {
        "id": "hwTYyUDqSdIy"
      },
      "execution_count": 58,
      "outputs": []
    },
    {
      "cell_type": "code",
      "source": [
        "df['Engine Make'] = np.where(\n",
        "    df['Engine Make']>upper_limit,\n",
        "    upper_limit,\n",
        "    np.where(\n",
        "        df['Engine Make']<lower_limit,\n",
        "        lower_limit,\n",
        "        df['Engine Make']\n",
        "    )\n",
        ")"
      ],
      "metadata": {
        "id": "q5obFBo3VdS9"
      },
      "execution_count": 59,
      "outputs": []
    },
    {
      "cell_type": "code",
      "source": [
        "#Cột Engine Make sau khi loại bỏ giá trị ngoại biên\n",
        "df.boxplot(column='Engine Make')"
      ],
      "metadata": {
        "colab": {
          "base_uri": "https://localhost:8080/",
          "height": 282
        },
        "id": "A51m74j3VlGn",
        "outputId": "a7cadf1c-8829-49d3-cc45-e144594970f2"
      },
      "execution_count": 60,
      "outputs": [
        {
          "output_type": "execute_result",
          "data": {
            "text/plain": [
              "<matplotlib.axes._subplots.AxesSubplot at 0x7f78ade16f50>"
            ]
          },
          "metadata": {},
          "execution_count": 60
        },
        {
          "output_type": "display_data",
          "data": {
            "text/plain": [
              "<Figure size 432x288 with 1 Axes>"
            ],
            "image/png": "[encoded data removed]"
          },
          "metadata": {
            "needs_background": "light"
          }
        }
      ]
    },
    {
      "cell_type": "markdown",
      "source": [
        "**Loại bỏ giá trị ngoại biên cột Height**"
      ],
      "metadata": {
        "id": "G-zRFD4da7q1"
      }
    },
    {
      "cell_type": "code",
      "source": [
        "#Giá trị giới hạn\n",
        "upper_limit = df['Height'].mean() + 3*df['Height'].std()\n",
        "lower_limit = df['Height'].mean() - 3*df['Height'].std()\n",
        "\n",
        "print(\"Giá trị giới hạn lớn nhất của Height\",upper_limit)\n",
        "print(\"Giá trị giới hạn nhỏ nhất của Height\",lower_limit)"
      ],
      "metadata": {
        "id": "HhCO-NQzVqnn",
        "colab": {
          "base_uri": "https://localhost:8080/"
        },
        "outputId": "778988e1-ece6-40da-dc5c-766b29946320"
      },
      "execution_count": 61,
      "outputs": [
        {
          "output_type": "stream",
          "name": "stdout",
          "text": [
            "Giá trị giới hạn lớn nhất của Height 6241.9847819184715\n",
            "Giá trị giới hạn nhỏ nhất của Height -4579.920216007035\n"
          ]
        }
      ]
    },
    {
      "cell_type": "code",
      "source": [
        "#Loại bỏ ngoại biên\n",
        "new_df = df[(df['Height'] < 6241.98) & (df['Height'] > -4579.92)]"
      ],
      "metadata": {
        "id": "SetphurGa30G"
      },
      "execution_count": 62,
      "outputs": []
    },
    {
      "cell_type": "code",
      "source": [
        "df['Height'] = np.where(\n",
        "    df['Height']>upper_limit,\n",
        "    upper_limit,\n",
        "    np.where(\n",
        "        df['Height']<lower_limit,\n",
        "        lower_limit,\n",
        "        df['Height']\n",
        "    )\n",
        ")"
      ],
      "metadata": {
        "id": "HfUhOQr6baxF"
      },
      "execution_count": 64,
      "outputs": []
    },
    {
      "cell_type": "code",
      "source": [
        "#Cột Height sau khi loại bỏ giá trị ngoại biên\n",
        "df.boxplot(column='Height')"
      ],
      "metadata": {
        "colab": {
          "base_uri": "https://localhost:8080/",
          "height": 282
        },
        "id": "n8NBExeebjxT",
        "outputId": "25023324-2399-4c0f-ab51-66fe48fcef66"
      },
      "execution_count": 65,
      "outputs": [
        {
          "output_type": "execute_result",
          "data": {
            "text/plain": [
              "<matplotlib.axes._subplots.AxesSubplot at 0x7f78add9a510>"
            ]
          },
          "metadata": {},
          "execution_count": 65
        },
        {
          "output_type": "display_data",
          "data": {
            "text/plain": [
              "<Figure size 432x288 with 1 Axes>"
            ],
            "image/png": "[encoded data removed]"
          },
          "metadata": {
            "needs_background": "light"
          }
        }
      ]
    },
    {
      "cell_type": "markdown",
      "source": [
        "**Loại bỏ giá trị ngoại biên cột Speed**"
      ],
      "metadata": {
        "id": "FoSQmPPYbxjX"
      }
    },
    {
      "cell_type": "code",
      "source": [
        "#Giá trị giới hạn\n",
        "upper_limit = df['Speed'].mean() + 3*df['Speed'].std()\n",
        "lower_limit = df['Speed'].mean() - 3*df['Speed'].std()\n",
        "\n",
        "print(\"Giá trị giới hạn lớn nhất của Speed\",upper_limit)\n",
        "print(\"Giá trị giới hạn nhỏ nhất của Speed\",lower_limit)"
      ],
      "metadata": {
        "colab": {
          "base_uri": "https://localhost:8080/"
        },
        "id": "5slQ7r6XbuIV",
        "outputId": "8b2af7e9-5f43-4fd8-d19a-24b3983b1b9a"
      },
      "execution_count": 67,
      "outputs": [
        {
          "output_type": "stream",
          "name": "stdout",
          "text": [
            "Giá trị giới hạn lớn nhất của Speed 282.6425767312467\n",
            "Giá trị giới hạn nhỏ nhất của Speed 1.208668041270073\n"
          ]
        }
      ]
    },
    {
      "cell_type": "code",
      "source": [
        "#Loại bỏ ngoại biên\n",
        "new_df = df[(df['Speed'] < 6241.98) & (df['Speed'] > -4579.92)]"
      ],
      "metadata": {
        "id": "idbcptwKb5Tm"
      },
      "execution_count": 68,
      "outputs": []
    },
    {
      "cell_type": "code",
      "source": [
        "df['Speed'] = np.where(\n",
        "    df['Speed']>upper_limit,\n",
        "    upper_limit,\n",
        "    np.where(\n",
        "        df['Speed']<lower_limit,\n",
        "        lower_limit,\n",
        "        df['Speed']\n",
        "    )\n",
        ")"
      ],
      "metadata": {
        "id": "yYFImLQYb9Bm"
      },
      "execution_count": 69,
      "outputs": []
    },
    {
      "cell_type": "code",
      "source": [
        "#Cột Height sau khi loại bỏ giá trị ngoại biên\n",
        "df.boxplot(column='Speed')"
      ],
      "metadata": {
        "colab": {
          "base_uri": "https://localhost:8080/",
          "height": 282
        },
        "id": "AeEYL4cab-b-",
        "outputId": "fad45c49-fad7-40b3-c3bd-a81b679e626c"
      },
      "execution_count": 70,
      "outputs": [
        {
          "output_type": "execute_result",
          "data": {
            "text/plain": [
              "<matplotlib.axes._subplots.AxesSubplot at 0x7f78adfb2390>"
            ]
          },
          "metadata": {},
          "execution_count": 70
        },
        {
          "output_type": "display_data",
          "data": {
            "text/plain": [
              "<Figure size 432x288 with 1 Axes>"
            ],
            "image/png": "[encoded data removed]"
          },
          "metadata": {
            "needs_background": "light"
          }
        }
      ]
    },
    {
      "cell_type": "code",
      "source": [
        ""
      ],
      "metadata": {
        "id": "sHjW1SlLcLD1"
      },
      "execution_count": null,
      "outputs": []
    }
  ]
}