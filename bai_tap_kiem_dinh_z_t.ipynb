{
  "nbformat": 4,
  "nbformat_minor": 0,
  "metadata": {
    "colab": {
      "name": "bai-tap-kiem-dinh-z-t.ipynb",
      "provenance": [],
      "authorship_tag": "ABX9TyMvSQ0+ZLtlBcjSlqskJ4Wo",
      "include_colab_link": true
    },
    "kernelspec": {
      "name": "python3",
      "display_name": "Python 3"
    },
    "language_info": {
      "name": "python"
    }
  },
  "cells": [
    {
      "cell_type": "markdown",
      "metadata": {
        "id": "view-in-github",
        "colab_type": "text"
      },
      "source": [
        "<a href=\"https://colab.research.google.com/github/rekuantsun/PTDL-Python/blob/main/bai_tap_kiem_dinh_z_t.ipynb\" target=\"_parent\"><img src=\"https://colab.research.google.com/assets/colab-badge.svg\" alt=\"Open In Colab\"/></a>"
      ]
    },
    {
      "cell_type": "markdown",
      "source": [
        "XÂY DỰNG CHƯƠNG TRÌNH KIỂM ĐỊNH Z (HOẶC T) CHO CÁC BÀI TẬP SAU\n",
        "\n",
        "Gợi ý:\n",
        "\n",
        "- Số liệu được sinh ngẫu nhiên theo phân phối chuẩn\n",
        "- Sử dụng gói phần mềm statsmodels để tiến hành kiểm định\n",
        "- Đối với các bài tập kiểm định giả thuyết thì sinh viên cần phát biểu các giả thuyết (bằng tiếng Việt) $H_{0}$ và $H_{a}$ trước khi lập trình kiểm định"
      ],
      "metadata": {
        "id": "hk88FDny3Jeb"
      }
    },
    {
      "cell_type": "code",
      "source": [
        "#Các thư viện cần thiết\n",
        "import numpy as np\n",
        "import pandas as pd\n",
        "import random\n",
        "from scipy import stats\n",
        "from statsmodels.stats.weightstats import ztest\n",
        "import warnings\n",
        "import matplotlib.pyplot as plt\n",
        "import seaborn as sns\n",
        "import math\n",
        "%matplotlib inline"
      ],
      "metadata": {
        "id": "-ffIZp7d3Y_A"
      },
      "execution_count": 4,
      "outputs": []
    },
    {
      "cell_type": "markdown",
      "source": [
        "Bài 1: You’re a Q/C inspector for Gallo. The sample standard deviation for 2-liter bottles is .05 liters.  A random sample of 100 bottles showed sasmple mean = 1.99 liters.  What is the 90%  confidence interval estimate of the true mean amount in 2-liter bottles? "
      ],
      "metadata": {
        "id": "VOty2a7U3L8Q"
      }
    },
    {
      "cell_type": "code",
      "source": [
        "# Tính sai số chuẩn:\n",
        "std_err = 0.05 / (math.sqrt(0.05))\n",
        "stats.t.interval(alpha=0.90, df=99, loc=1.99, scale=std_err)"
      ],
      "metadata": {
        "colab": {
          "base_uri": "https://localhost:8080/"
        },
        "id": "MdYVUlh8pRyl",
        "outputId": "516746ec-8a5c-4dea-d7cb-b4a261ca9f47"
      },
      "execution_count": 7,
      "outputs": [
        {
          "output_type": "execute_result",
          "data": {
            "text/plain": [
              "(1.6187252505952614, 2.3612747494047386)"
            ]
          },
          "metadata": {},
          "execution_count": 7
        }
      ]
    },
    {
      "cell_type": "markdown",
      "source": [
        "Bài 2: You’re a time study analyst in manufacturing. You’ve recorded the following task times (min.): 3.6, 4.2, 4.0, 3.5, 3.8, 3.1. What is the 90% confidence interval estimate of the population mean task time?"
      ],
      "metadata": {
        "id": "fV50iNS9sjYS"
      }
    },
    {
      "cell_type": "code",
      "source": [
        "data = [3.6, 4.2, 4.0, 3.5, 3.8, 3.1]\n",
        "stats.t.interval(alpha=0.9, df=len(data)-1, loc=np.mean(data), scale=stats.sem(data))"
      ],
      "metadata": {
        "colab": {
          "base_uri": "https://localhost:8080/"
        },
        "id": "YpWLT5aZrMKL",
        "outputId": "8887da75-818a-4d1c-9bd8-f96cbf3fae8f"
      },
      "execution_count": 8,
      "outputs": [
        {
          "output_type": "execute_result",
          "data": {
            "text/plain": [
              "(3.3792758632100677, 4.020724136789934)"
            ]
          },
          "metadata": {},
          "execution_count": 8
        }
      ]
    },
    {
      "cell_type": "markdown",
      "source": [
        "Bài 3: Does an average box of cereal contain 368 grams of cereal? A random sample of 25 boxes had  x¯¯¯  = 372.5. The company has specified  σ  to be 25 grams. Test at the .05 level of significance."
      ],
      "metadata": {
        "id": "pflc1UL5uJOb"
      }
    },
    {
      "cell_type": "markdown",
      "source": [
        "Giả thuyết gốc: trung bình một hộp cốm có 368g\n",
        "\n",
        "$$H_{0}: \\mu = 368 $$\n",
        "\n",
        "Giả thuyết thay thế: một hộp cốm không phải là 368g\n",
        "\n",
        "$$H_{a}: \\mu \\neq 368 $$"
      ],
      "metadata": {
        "id": "Gl0fVrDNuT3b"
      }
    },
    {
      "cell_type": "code",
      "source": [
        "#Tạo mẫu ngẫu nhiên 25 phần tử với trung bình mẫu là 372.5 và độ lệch chuẩn là 25\n",
        "samples = np.random.normal(372.5, 25, 25)\n",
        "print(samples[:10])"
      ],
      "metadata": {
        "id": "KHnwsw08uCXm",
        "colab": {
          "base_uri": "https://localhost:8080/"
        },
        "outputId": "2061e402-c63a-46e4-f3f8-aaf1ddaeb923"
      },
      "execution_count": 19,
      "outputs": [
        {
          "output_type": "stream",
          "name": "stdout",
          "text": [
            "[372.53160617 367.38424233 370.09283471 356.96055532 380.04411197\n",
            " 377.90049074 398.70119283 348.5263486  401.05107304 364.53569823]\n"
          ]
        }
      ]
    },
    {
      "cell_type": "code",
      "source": [
        "#Thông số\n",
        "null_mean = 368 \n",
        "alpha = 0.05"
      ],
      "metadata": {
        "id": "xqyJeHvWnUqs"
      },
      "execution_count": 10,
      "outputs": []
    },
    {
      "cell_type": "code",
      "source": [
        "# Kiểm định z:\n",
        "ztest_Score, p_value= ztest(samples, value = null_mean, alternative='two-sided')\n",
        "print(p_value)\n",
        "if(p_value <  alpha):\n",
        "  print(\"Có bằng chứng để bác bỏ giả thuyết H0\")\n",
        "else:\n",
        "  print(\"Chưa có bằng chứng để bác bỏ giả thuyết H0\")"
      ],
      "metadata": {
        "colab": {
          "base_uri": "https://localhost:8080/"
        },
        "id": "AbA19BWonjMQ",
        "outputId": "b014234b-a2c9-47ea-b629-79cb4c109b0a"
      },
      "execution_count": 12,
      "outputs": [
        {
          "output_type": "stream",
          "name": "stdout",
          "text": [
            "0.04530532071892537\n",
            "Có bằng chứng để bác bỏ giả thuyết H0\n"
          ]
        }
      ]
    },
    {
      "cell_type": "markdown",
      "source": [
        "Bài 4: You’re a Q/C inspector. You want to find out if a new machine is making electrical cords to customer specification: average breaking strength of 70 lb. with  = 3.5 lb. You take a sample of 36 cords & compute a sample mean of 69.7 lb. At the .05 level of significance, is there evidence that the machine is not meeting the average breaking strength?\n",
        "\n",
        "Xây dựng giả thuyết:\n",
        "\n",
        "$$H_{0}: \\mu = 70 $$\n",
        "\n",
        "Giả thuyết thay thế:\n",
        "\n",
        "$$H_{a}: \\mu \\neq 70 $$\n"
      ],
      "metadata": {
        "id": "gxQUrnwU5MGY"
      }
    },
    {
      "cell_type": "code",
      "source": [
        "#Sinh ngẫu nhiên một mẫu 36 phần tử có trung bình mẫu là 69.75, độ lệch chuẩn là 3.5\n",
        "samples = np.random.normal(69.7, 3.5, 36)\n",
        "print(samples[:10])"
      ],
      "metadata": {
        "colab": {
          "base_uri": "https://localhost:8080/"
        },
        "id": "Z99ej5LKnoL8",
        "outputId": "fccf43be-3c45-4f96-deb2-b6294f67d199"
      },
      "execution_count": 13,
      "outputs": [
        {
          "output_type": "stream",
          "name": "stdout",
          "text": [
            "[67.91875425 66.8047337  68.7848604  70.2054423  70.49715441 62.17803833\n",
            " 66.34349265 69.23598189 68.50632407 75.77236286]\n"
          ]
        }
      ]
    },
    {
      "cell_type": "code",
      "source": [
        "#Xác định các thông số\n",
        "null_mean = 70 \n",
        "alpha = 0.05"
      ],
      "metadata": {
        "id": "uUlozaeZ5bmQ"
      },
      "execution_count": 14,
      "outputs": []
    },
    {
      "cell_type": "code",
      "source": [
        "#Kiểm định z\n",
        "ztest_Score, p_value = ztest(samples, value = null_mean, alternative = \"two-sided\")\n",
        "if(p_value <  alpha):\n",
        "  print(\"Có bằng chứng để bác bỏ giả thuyết H0.\")\n",
        "else:\n",
        "  print(\"Chưa có bằng chứng để bác bỏ giả thuyết H0.\")\n"
      ],
      "metadata": {
        "colab": {
          "base_uri": "https://localhost:8080/"
        },
        "id": "o6qDDT-c5ct1",
        "outputId": "d033fe4b-b052-486d-dbee-3103404a1d29"
      },
      "execution_count": 15,
      "outputs": [
        {
          "output_type": "stream",
          "name": "stdout",
          "text": [
            "Có bằng chứng để bác bỏ giả thuyết H0.\n"
          ]
        }
      ]
    },
    {
      "cell_type": "markdown",
      "source": [
        "Bài 5: Does an average box of cereal contain more than 368 grams of cereal? A random sample of 25 boxes showed \n",
        " = 372.5. The company has specified  to be 25 grams. Test at the .05 level of significance.\n",
        "\n",
        "Xây dựng giả thuyết:\n",
        "\n",
        "$$H_{0}: \\mu = 368 $$\n",
        "\n",
        "Giả thuyết thay thế:\n",
        "\n",
        "$$H_{a}: \\mu \\neq 368 $$\n"
      ],
      "metadata": {
        "id": "za2ja1sL5wzX"
      }
    },
    {
      "cell_type": "code",
      "source": [
        "#Sinh ngẫu nhiên một mẫu 25 phần tử có trung bình mẫu là 372.5, độ lệch chuẩn là 3.5\n",
        "samples = np.random.normal(372.5, 3.5, 25)\n",
        "print(samples[:10])"
      ],
      "metadata": {
        "colab": {
          "base_uri": "https://localhost:8080/"
        },
        "id": "NNQUeCj25e1O",
        "outputId": "353c2be1-51ac-4871-e4c1-32e0dde24f20"
      },
      "execution_count": 16,
      "outputs": [
        {
          "output_type": "stream",
          "name": "stdout",
          "text": [
            "[371.05595256 371.25953788 377.67437316 379.29336041 375.12343095\n",
            " 378.20926831 375.00421967 374.00796457 376.89423423 375.65313397]\n"
          ]
        }
      ]
    },
    {
      "cell_type": "code",
      "source": [
        "#Xác định các thông số\n",
        "null_mean = 368 \n",
        "alpha = 0.05"
      ],
      "metadata": {
        "id": "yhmspHO958b2"
      },
      "execution_count": 17,
      "outputs": []
    },
    {
      "cell_type": "code",
      "source": [
        "#Kiểm định z\n",
        "ztest_Score, p_value = ztest(samples, value = null_mean, alternative= \"larger\")\n",
        "if(p_value <  alpha):\n",
        "  print(\"Có bằng chứng để bác bỏ giả thuyết H0.\")\n",
        "else:\n",
        "  print(\"Chưa có bằng chứng để bác bỏ giả thuyết H0.\")"
      ],
      "metadata": {
        "colab": {
          "base_uri": "https://localhost:8080/"
        },
        "id": "k0LRk1CM5-AK",
        "outputId": "4fd38a4d-f737-4042-f4e3-c864a21f2de2"
      },
      "execution_count": 18,
      "outputs": [
        {
          "output_type": "stream",
          "name": "stdout",
          "text": [
            "Có bằng chứng để bác bỏ giả thuyết H0.\n"
          ]
        }
      ]
    },
    {
      "cell_type": "markdown",
      "source": [
        "Bài 6: You’re an analyst for Ford. You want to find out if the average miles per gallon of Escorts is at least 32 mpg. Similar models have a standard deviation of 3.8 mpg. You take a sample of 60 Escorts & compute a sample mean of 30.7 mpg. At the .01 level of significance, is there evidence that the miles per gallon is less than 32?\n",
        "\n",
        "Xây dựng giả thuyết:\n",
        "\n",
        "$$H_{0}: \\mu = 32 $$\n",
        "\n",
        "Giả thuyết thay thế:\n",
        "\n",
        "$$H_{a}: \\mu \\neq 32 $$\n"
      ],
      "metadata": {
        "id": "tLPqsx876Nx8"
      }
    },
    {
      "cell_type": "code",
      "source": [
        "#Sinh ngẫu nhiên một mẫu 60 phần tử có trung bình mẫu là 30.7, độ lệch chuẩn là 3.8\n",
        "samples = np.random.normal(30.7, 3.8, 60)\n",
        "print(samples[:10])\n"
      ],
      "metadata": {
        "colab": {
          "base_uri": "https://localhost:8080/"
        },
        "id": "O7afy5D05_ni",
        "outputId": "13a1d472-7374-4391-90f7-70aab90ddc63"
      },
      "execution_count": 20,
      "outputs": [
        {
          "output_type": "stream",
          "name": "stdout",
          "text": [
            "[37.27644962 31.07579266 28.38912203 29.06203063 25.23981274 28.61898028\n",
            " 34.15225251 23.14245109 31.25178716 26.41051604]\n"
          ]
        }
      ]
    },
    {
      "cell_type": "code",
      "source": [
        "#Xác định các thông số\n",
        "null_mean = 32\n",
        "alpha = 0.01"
      ],
      "metadata": {
        "id": "rkwdoRvt6YXl"
      },
      "execution_count": 21,
      "outputs": []
    },
    {
      "cell_type": "code",
      "source": [
        "#Kiểm định z\n",
        "ztest_Score, p_value = ztest(samples, value = null_mean, alternative= \"larger\")\n",
        "if(p_value <  alpha):\n",
        "  print(\"Có bằng chứng để bác bỏ giả thuyết H0.\")\n",
        "else:\n",
        "  print(\"Chưa có bằng chứng để bác bỏ giả thuyết H0.\")"
      ],
      "metadata": {
        "colab": {
          "base_uri": "https://localhost:8080/"
        },
        "id": "tM1hxQtX6aBX",
        "outputId": "1c96c7e4-3680-4894-8197-17aec20f4c99"
      },
      "execution_count": 22,
      "outputs": [
        {
          "output_type": "stream",
          "name": "stdout",
          "text": [
            "Chưa có bằng chứng để bác bỏ giả thuyết H0.\n"
          ]
        }
      ]
    },
    {
      "cell_type": "markdown",
      "source": [
        "Bài 7: Does an average box of cereal contain 368 grams of cereal? A random sample of 25 boxes showed \n",
        " = 372.5. The company has specified σ to be 15 grams. Find the p-Value.\n",
        "\n",
        " Xây dựng giả thuyết:\n",
        "\n",
        "$$H_{0}: \\mu = 368 $$\n",
        "\n",
        "Giả thuyết thay thế:\n",
        "\n",
        "$$H_{a}: \\mu \\neq 368 $$"
      ],
      "metadata": {
        "id": "pT1ozqgh6dEn"
      }
    },
    {
      "cell_type": "code",
      "source": [
        "#Sinh ngẫu nhiên một mẫu 25 phần tử có trung bình mẫu là 372.5, độ lệch chuẩn là 15\n",
        "samples = np.random.normal(372.5, 15, 25)\n",
        "print(samples[:10])"
      ],
      "metadata": {
        "colab": {
          "base_uri": "https://localhost:8080/"
        },
        "id": "AaNrPyIT6bgK",
        "outputId": "b07d4c74-640d-4703-c33a-0867b478be52"
      },
      "execution_count": 23,
      "outputs": [
        {
          "output_type": "stream",
          "name": "stdout",
          "text": [
            "[354.29508284 347.24885643 369.35637095 373.71221849 371.98456489\n",
            " 385.39085455 374.80796333 361.8745026  357.44681589 380.5129646 ]\n"
          ]
        }
      ]
    },
    {
      "cell_type": "code",
      "source": [
        "#Xác định các thông số\n",
        "null_mean = 368"
      ],
      "metadata": {
        "id": "tK1h-4rp6lW-"
      },
      "execution_count": 24,
      "outputs": []
    },
    {
      "cell_type": "code",
      "source": [
        "#Tìm p_value\n",
        "ztest_Score, p_value = ztest(samples, value = null_mean, alternative= \"two-sided\")\n",
        "\n",
        "print(\"p_value:\", p_value)"
      ],
      "metadata": {
        "colab": {
          "base_uri": "https://localhost:8080/"
        },
        "id": "TpkA_LPP6mqA",
        "outputId": "92dc97fc-963d-49f9-bf31-a531e7d5fa84"
      },
      "execution_count": 25,
      "outputs": [
        {
          "output_type": "stream",
          "name": "stdout",
          "text": [
            "p_value: 0.2832880690399896\n"
          ]
        }
      ]
    },
    {
      "cell_type": "markdown",
      "source": [
        "BBài 8: Does an average box of cereal contain more than 368 grams of cereal? A random sample of 25 boxes showed \n",
        " = 372.5. The company has specified σ to be 15 grams. Find the p-Value.\n",
        "\n",
        "Xây dựng giả thuyết:\n",
        "\n",
        "$$H_{0}: \\mu = 368 $$\n",
        "\n",
        "Giả thuyết thay thế:\n",
        "\n",
        "$$H_{a}: \\mu > 368 $$"
      ],
      "metadata": {
        "id": "g81W_zCE6rLQ"
      }
    },
    {
      "cell_type": "code",
      "source": [
        "#Sinh ngẫu nhiên một mẫu 25 phần tử có trung bình mẫu là 372.5, độ lệch chuẩn là 15\n",
        "samples = np.random.normal(372.5, 15, 25)\n",
        "print(samples[:10])"
      ],
      "metadata": {
        "colab": {
          "base_uri": "https://localhost:8080/"
        },
        "id": "A9oE5-Bb6o-z",
        "outputId": "c8a4eb5b-c8a8-4cc8-c86f-41e6076ab637"
      },
      "execution_count": 28,
      "outputs": [
        {
          "output_type": "stream",
          "name": "stdout",
          "text": [
            "[346.95463343 356.21133702 375.83151478 379.78063957 363.88216483\n",
            " 374.52012133 381.66174578 411.74232528 371.9111688  358.58265589]\n"
          ]
        }
      ]
    },
    {
      "cell_type": "code",
      "source": [
        "#Xác định các thông số\n",
        "null_mean = 368"
      ],
      "metadata": {
        "id": "R_r7KsX97NMf"
      },
      "execution_count": 30,
      "outputs": []
    },
    {
      "cell_type": "code",
      "source": [
        "#Tìm p_value\n",
        "ztest_Score, p_value = ztest(samples, value = null_mean, alternative= \"larger\")\n",
        "\n",
        "print(\"p_value:\", p_value)"
      ],
      "metadata": {
        "colab": {
          "base_uri": "https://localhost:8080/"
        },
        "id": "4sPBrXFx7Oeu",
        "outputId": "a94f6f1f-fbc9-4951-9b70-748c14c8fbf9"
      },
      "execution_count": 31,
      "outputs": [
        {
          "output_type": "stream",
          "name": "stdout",
          "text": [
            "p_value: 0.12560792088675948\n"
          ]
        }
      ]
    },
    {
      "cell_type": "markdown",
      "source": [
        "Bài 9: You’re an analyst for Ford. You want to find out if the average miles per gallon of Escorts is less than 32 mpg. Similar models have a standard deviation of 3.8 mpg. You take a sample of 60 Escorts & compute a sample mean of 30.7 mpg. What is the value of the observed level of significance (p-Value)?\n",
        "\n",
        "\n",
        "Xây dựng giả thuyết:\n",
        "\n",
        "$$H_{0}: \\mu = 32 $$\n",
        "\n",
        "Giả thuyết thay thế:\n",
        "\n",
        "$$H_{a}: \\mu < 32 $$"
      ],
      "metadata": {
        "id": "rkajxIRe7Z9A"
      }
    },
    {
      "cell_type": "code",
      "source": [
        "#Sinh ngẫu nhiên một mẫu 60 phần tử có trung bình mẫu là 30.7, độ lệch chuẩn là 3.8\n",
        "samples = np.random.normal(30.7, 3.8, 60)\n",
        "print(samples[:10])"
      ],
      "metadata": {
        "colab": {
          "base_uri": "https://localhost:8080/"
        },
        "id": "EF1K1iI_7VDi",
        "outputId": "93e3f044-1422-4c4c-ce1e-1d1fc3bcdfa6"
      },
      "execution_count": 32,
      "outputs": [
        {
          "output_type": "stream",
          "name": "stdout",
          "text": [
            "[35.72501928 29.7196321  33.51172013 26.68924999 31.77009494 38.40650893\n",
            " 32.88902242 26.07728371 28.82077646 38.95523857]\n"
          ]
        }
      ]
    },
    {
      "cell_type": "code",
      "source": [
        "#Xác định các thông số\n",
        "null_mean = 32"
      ],
      "metadata": {
        "id": "2AQgDVPJ7kor"
      },
      "execution_count": 33,
      "outputs": []
    },
    {
      "cell_type": "code",
      "source": [
        "#thông số nhỏ nên có thể sử dụng kiểm định t\n",
        "#Kiểm định t:\n",
        "t_test, p_value = stats.ttest_1samp(samples, null_mean)\n",
        "print(\"p_value:\", p_value)"
      ],
      "metadata": {
        "colab": {
          "base_uri": "https://localhost:8080/"
        },
        "id": "61AaQYcU7l_U",
        "outputId": "b018085c-7810-48e3-cfbc-9ef33e544118"
      },
      "execution_count": 34,
      "outputs": [
        {
          "output_type": "stream",
          "name": "stdout",
          "text": [
            "p_value: 0.04999360108356113\n"
          ]
        }
      ]
    },
    {
      "cell_type": "markdown",
      "source": [
        "Bài 10: Does an average box of cereal contain 368 grams of cereal? A random sample of 36 boxes had a mean of 372.5 and a standard deviation of 12 grams. Test at the .05 level of significance.\n",
        "\n",
        "Xây dựng giả thuyết:\n",
        "\n",
        "$$H_{0}: \\mu = 368 $$\n",
        "\n",
        "Giả thuyết thay thế:\n",
        "\n",
        "$$H_{a}: \\mu \\neq 368 $$"
      ],
      "metadata": {
        "id": "MZ2mY7Lm7pa3"
      }
    },
    {
      "cell_type": "code",
      "source": [
        "#Sinh ngẫu nhiên một mẫu 36 phần tử có trung bình mẫu là 372.5, độ lệch chuẩn là 12\n",
        "samples = np.random.normal(372.5, 12, 36)\n",
        "print(samples[:10])"
      ],
      "metadata": {
        "colab": {
          "base_uri": "https://localhost:8080/"
        },
        "id": "bLrVjQ4t7nO2",
        "outputId": "6729e5ea-f5ef-4ecb-cfd4-70980466e3c5"
      },
      "execution_count": 35,
      "outputs": [
        {
          "output_type": "stream",
          "name": "stdout",
          "text": [
            "[368.00957896 386.27651626 357.39416331 373.24275433 344.08443028\n",
            " 372.51731514 365.30555895 372.39994679 383.89797306 361.51227655]\n"
          ]
        }
      ]
    },
    {
      "cell_type": "code",
      "source": [
        "#Xác định các thông số\n",
        "null_mean = 32 \n",
        "alpha = 0.05"
      ],
      "metadata": {
        "id": "GxC3qclJ7xkN"
      },
      "execution_count": 36,
      "outputs": []
    },
    {
      "cell_type": "code",
      "source": [
        "#Kiểm định z\n",
        "ztest_Score, p_value = ztest(samples, value = null_mean, alternative= \"two-sided\")\n",
        "if(p_value <  alpha):\n",
        "  print(\"Có bằng chứng để bác bỏ giả thuyết H0.\")\n",
        "else:\n",
        "  print(\"Chưa có bằng chứng để bác bỏ giả thuyết H0.\")"
      ],
      "metadata": {
        "colab": {
          "base_uri": "https://localhost:8080/"
        },
        "id": "bJNu_3F07zAD",
        "outputId": "20e80757-bcc4-4d44-9df9-55984601c02d"
      },
      "execution_count": 37,
      "outputs": [
        {
          "output_type": "stream",
          "name": "stdout",
          "text": [
            "Có bằng chứng để bác bỏ giả thuyết H0.\n"
          ]
        }
      ]
    },
    {
      "cell_type": "markdown",
      "source": [
        "Bài 11: You work for the FTC. A manufacturer of detergent claims that the mean weight of detergent is 3.25 lb. You take a random sample of 64 containers. You calculate the sample average to be 3.238 lb. with a standard deviation of .117 lb. At the .01 level of significance, is the manufacturer correct?\n",
        "\n",
        "Xây dựng giả thuyết:\n",
        "\n",
        "$$H_{0}: \\mu = 3,25 $$\n",
        "\n",
        "Giả thuyết thay thế:\n",
        "\n",
        "$$H_{a}: \\mu \\neq 3,25 $$"
      ],
      "metadata": {
        "id": "0FbbYD1c72ho"
      }
    },
    {
      "cell_type": "code",
      "source": [
        "#Sinh ngẫu nhiên một mẫu 64 phần tử có trung bình mẫu là 3.238, độ lệch chuẩn là 0.117\n",
        "samples = np.random.normal(3.238, 0.117, 63)\n",
        "print(samples[:10])"
      ],
      "metadata": {
        "colab": {
          "base_uri": "https://localhost:8080/"
        },
        "id": "pDBgMk2L70XH",
        "outputId": "39a8d554-6c71-4d70-843f-8538dbeaa840"
      },
      "execution_count": 38,
      "outputs": [
        {
          "output_type": "stream",
          "name": "stdout",
          "text": [
            "[3.19193069 3.37731279 3.38288195 3.25199735 3.30232732 3.1262016\n",
            " 3.10751413 3.23921648 3.35150259 3.21164037]\n"
          ]
        }
      ]
    },
    {
      "cell_type": "code",
      "source": [
        "#Xác định các thông số\n",
        "null_mean = 3.25\n",
        "alpha = 0.01"
      ],
      "metadata": {
        "id": "zWjln5NR797X"
      },
      "execution_count": 39,
      "outputs": []
    },
    {
      "cell_type": "code",
      "source": [
        "#Kiểm định z\n",
        "ztest_Score, p_value = ztest(samples, value = null_mean, alternative= \"two-sided\")\n",
        "if(p_value <  alpha):\n",
        "  print(\"Có bằng chứng để bác bỏ giả thuyết H0.\")\n",
        "else:\n",
        "  print(\"Chưa có bằng chứng để bác bỏ giả thuyết H0.\")"
      ],
      "metadata": {
        "colab": {
          "base_uri": "https://localhost:8080/"
        },
        "id": "U9gJi4Qc7_PY",
        "outputId": "793be318-2d59-40a6-8ae7-1b6eae3ac337"
      },
      "execution_count": 40,
      "outputs": [
        {
          "output_type": "stream",
          "name": "stdout",
          "text": [
            "Chưa có bằng chứng để bác bỏ giả thuyết H0.\n"
          ]
        }
      ]
    },
    {
      "cell_type": "markdown",
      "source": [
        "Bài 12: Is the average capacity of batteries less than 140 ampere-hours? A random sample of 20 batteries had a mean of 138.47 and a standard deviation of 2.66. Assume a normal distribution. Test at the .05 level of significance.\n",
        "\n",
        "Xây dựng giả thuyết:\n",
        "\n",
        "$$H_{0}: \\mu = 140 $$\n",
        "\n",
        "Giả thuyết thay thế:\n",
        "\n",
        "$$H_{a}: \\mu < 140 $$"
      ],
      "metadata": {
        "id": "ydmlHTjQ8BTB"
      }
    },
    {
      "cell_type": "code",
      "source": [
        "#Sinh ngẫu nhiên một mẫu 20 phần tử có trung bình mẫu là 138,47 ; độ lệch chuẩn là 2,26  \n",
        "samples = np.random.normal(138.47,2.26,20)\n",
        "print(samples[:10])"
      ],
      "metadata": {
        "colab": {
          "base_uri": "https://localhost:8080/"
        },
        "id": "jWttbmsy8ApV",
        "outputId": "d0af2492-e8d0-461c-eec6-38abf8cc3966"
      },
      "execution_count": 41,
      "outputs": [
        {
          "output_type": "stream",
          "name": "stdout",
          "text": [
            "[139.78370626 141.16437905 136.85598135 138.77541924 138.03260739\n",
            " 137.54636074 136.41517504 132.87528523 135.30210489 136.98864731]\n"
          ]
        }
      ]
    },
    {
      "cell_type": "code",
      "source": [
        "#Xác định các thông số\n",
        "null_mean = 140 \n",
        "alpha = 0.05"
      ],
      "metadata": {
        "id": "H6j0slNZ8MKB"
      },
      "execution_count": 42,
      "outputs": []
    },
    {
      "cell_type": "code",
      "source": [
        "#Kiểm định z\n",
        "ztest_Score, p_value = ztest(samples, value = null_mean, alternative= \"larger\")\n",
        "if(p_value <  alpha):\n",
        "  print(\"Có bằng chứng để bác bỏ giả thuyết H0.\")\n",
        "else:\n",
        "  print(\"Chưa có bằng chứng để bác bỏ giả thuyết H0.\")"
      ],
      "metadata": {
        "colab": {
          "base_uri": "https://localhost:8080/"
        },
        "id": "dJi7VHGf8NfM",
        "outputId": "57af3bc6-5a0f-446f-bb57-a5de36735eb2"
      },
      "execution_count": 43,
      "outputs": [
        {
          "output_type": "stream",
          "name": "stdout",
          "text": [
            "Chưa có bằng chứng để bác bỏ giả thuyết H0.\n"
          ]
        }
      ]
    },
    {
      "cell_type": "markdown",
      "source": [
        "Bài 13: You’re a marketing analyst for Wal-Mart. Wal-Mart had teddy bears on sale last week. The weekly sales of bears sold in 10 stores was: 8 11 0 4 7 8 10 5 8 3. At the .05 level of significance, is there evidence that the average bear sales per store is more than 5?\n",
        "\n",
        "Xây dựng giả thuyết:\n",
        "\n",
        "$$H_{0}: \\mu = 368 $$\n",
        "\n",
        "Giả thuyết thay thế:\n",
        "\n",
        "$$H_{a}: \\mu > 368 $$"
      ],
      "metadata": {
        "id": "staRVIzs8SJP"
      }
    },
    {
      "cell_type": "code",
      "source": [
        "samples = np.array([8,11, 0, 4, 7, 8, 10, 5, 8, 3])"
      ],
      "metadata": {
        "id": "5GrBWkBG8QHo"
      },
      "execution_count": 44,
      "outputs": []
    },
    {
      "cell_type": "code",
      "source": [
        "#Xác định các thông số\n",
        "null_mean = 5 \n",
        "alpha = 0.05"
      ],
      "metadata": {
        "id": "LobYp40_8cGb"
      },
      "execution_count": 45,
      "outputs": []
    },
    {
      "cell_type": "code",
      "source": [
        "#Kiểm định z\n",
        "ztest_Score, p_value = ztest(samples, value = null_mean, alternative= \"larger\")\n",
        "if(p_value <  alpha):\n",
        "  print(\"Có bằng chứng để bác bỏ giả thuyết H0.\")\n",
        "else:\n",
        "  print(\"Chưa có bằng chứng để bác bỏ giả thuyết H0.\")"
      ],
      "metadata": {
        "colab": {
          "base_uri": "https://localhost:8080/"
        },
        "id": "diAgLGWF8dcI",
        "outputId": "cd59c435-e1fe-4b12-dbcb-77414a80dfc9"
      },
      "execution_count": 46,
      "outputs": [
        {
          "output_type": "stream",
          "name": "stdout",
          "text": [
            "Chưa có bằng chứng để bác bỏ giả thuyết H0.\n"
          ]
        }
      ]
    },
    {
      "cell_type": "code",
      "source": [
        ""
      ],
      "metadata": {
        "id": "Pc7NuHwA8fM_"
      },
      "execution_count": null,
      "outputs": []
    }
  ]
}