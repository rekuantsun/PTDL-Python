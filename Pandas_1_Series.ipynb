{
  "nbformat": 4,
  "nbformat_minor": 0,
  "metadata": {
    "colab": {
      "name": "Pandas-1-Series.ipynb",
      "provenance": [],
      "authorship_tag": "ABX9TyPkkzncew+yAf9cdGkiaSvv",
      "include_colab_link": true
    },
    "kernelspec": {
      "name": "python3",
      "display_name": "Python 3"
    },
    "language_info": {
      "name": "python"
    }
  },
  "cells": [
    {
      "cell_type": "markdown",
      "metadata": {
        "id": "view-in-github",
        "colab_type": "text"
      },
      "source": [
        "<a href=\"https://colab.research.google.com/github/rekuantsun/PTDL-Python/blob/main/Pandas_1_Series.ipynb\" target=\"_parent\"><img src=\"https://colab.research.google.com/assets/colab-badge.svg\" alt=\"Open In Colab\"/></a>"
      ]
    },
    {
      "cell_type": "markdown",
      "source": [
        "Câu 1: Khởi tạo 1 Series với giá trị rỗng\n",
        "\n",
        "class pandas.Series(data=None, index=None, dtype=None, name=None, copy=False, fastpath=False)"
      ],
      "metadata": {
        "id": "L5cVjHJ5CgoE"
      }
    },
    {
      "cell_type": "code",
      "execution_count": 1,
      "metadata": {
        "id": "N9yaYwVACEGX"
      },
      "outputs": [],
      "source": [
        "import numpy as np\n",
        "import pandas as pd"
      ]
    },
    {
      "cell_type": "code",
      "source": [
        "pd.Series()"
      ],
      "metadata": {
        "colab": {
          "base_uri": "https://localhost:8080/"
        },
        "id": "p_Ui8ykNCmFj",
        "outputId": "83db08a8-1b78-4092-bacd-70c7d065439f"
      },
      "execution_count": 2,
      "outputs": [
        {
          "output_type": "stream",
          "name": "stderr",
          "text": [
            "/usr/local/lib/python3.7/dist-packages/ipykernel_launcher.py:1: DeprecationWarning: The default dtype for empty Series will be 'object' instead of 'float64' in a future version. Specify a dtype explicitly to silence this warning.\n",
            "  \"\"\"Entry point for launching an IPython kernel.\n"
          ]
        },
        {
          "output_type": "execute_result",
          "data": {
            "text/plain": [
              "Series([], dtype: float64)"
            ]
          },
          "metadata": {},
          "execution_count": 2
        }
      ]
    },
    {
      "cell_type": "markdown",
      "source": [
        "Câu 2: Giả sử có 1 vector hàng a có kích thước (1x7) được biểu diễn trong NumPy, hãy tạo 1 series tương ứng với các giá trị được sinh ngẫu nhiên.\n",
        "\n",
        "- hàm random.randint(low, high=None, size=None, dtype=int) : sinh giá trị ngẫu nhiên là số nguyên"
      ],
      "metadata": {
        "id": "05f3zvDDCptj"
      }
    },
    {
      "cell_type": "code",
      "source": [
        "a = np.random.randint(1,10,7)\n",
        "print(\"Vector hang co kich thuoc ngau nhien: \",a)\n",
        "aa = pd.Series(a)\n",
        "print(\"Series tuong ung: \")\n",
        "print(aa)"
      ],
      "metadata": {
        "colab": {
          "base_uri": "https://localhost:8080/"
        },
        "id": "xghr7XOrCswY",
        "outputId": "bb7fca9b-2207-4dd0-a111-a17fb2486cc0"
      },
      "execution_count": 3,
      "outputs": [
        {
          "output_type": "stream",
          "name": "stdout",
          "text": [
            "Vector hang co kich thuoc ngau nhien:  [6 6 1 5 3 1 7]\n",
            "Series tuong ung: \n",
            "0    6\n",
            "1    6\n",
            "2    1\n",
            "3    5\n",
            "4    3\n",
            "5    1\n",
            "6    7\n",
            "dtype: int64\n"
          ]
        }
      ]
    },
    {
      "cell_type": "markdown",
      "source": [
        "Câu 3: Giả sử có 1 vector hàng a có kích thước (1x7), hãy nhập các giá trị cho 7 phần tử này từ bàn phím và tạo series tương ứng."
      ],
      "metadata": {
        "id": "669CwO9RCzrE"
      }
    },
    {
      "cell_type": "code",
      "source": [
        "a = np.array([int(input(f\"nhap phan tu thu {i+1}: \")) for i in range(7)])\n",
        "print(\"Phan tu da nhap: \",a)\n",
        "print(\"series cua 7 phan tu bat ky: \")\n",
        "print(pd.Series(a))"
      ],
      "metadata": {
        "colab": {
          "base_uri": "https://localhost:8080/"
        },
        "id": "BnJdQMX4C1oM",
        "outputId": "71a03dbc-fb07-438d-a9ae-783553ef2ee7"
      },
      "execution_count": 4,
      "outputs": [
        {
          "output_type": "stream",
          "name": "stdout",
          "text": [
            "nhap phan tu thu 1: 2\n",
            "nhap phan tu thu 2: 5\n",
            "nhap phan tu thu 3: 7\n",
            "nhap phan tu thu 4: 9\n",
            "nhap phan tu thu 5: 1\n",
            "nhap phan tu thu 6: 5\n",
            "nhap phan tu thu 7: 7\n",
            "Phan tu da nhap:  [2 5 7 9 1 5 7]\n",
            "series cua 7 phan tu bat ky: \n",
            "0    2\n",
            "1    5\n",
            "2    7\n",
            "3    9\n",
            "4    1\n",
            "5    5\n",
            "6    7\n",
            "dtype: int64\n"
          ]
        }
      ]
    },
    {
      "cell_type": "markdown",
      "source": [
        "Câu 4: Giả sử có 1 vector cột có kích thước (7x1) được biểu diễn trong NumPy, hãy tạo Series tương ứng"
      ],
      "metadata": {
        "id": "ZIQkdKxADCSk"
      }
    },
    {
      "cell_type": "code",
      "source": [
        "a = np.random.randint(1,10,[7,1])\n",
        "print(\"vector cot: \")\n",
        "print(a)\n",
        "#dùng hàm reshape để đổi hàng và cột vì series chỉ nhận dữ liệu 1 chiều\n",
        "aa = a.reshape(7,)\n",
        "print(\"series tuong ung\")\n",
        "print(pd.Series(aa))"
      ],
      "metadata": {
        "colab": {
          "base_uri": "https://localhost:8080/"
        },
        "id": "EuMAPUpDDDNM",
        "outputId": "eb37269e-40fa-447d-bfa9-75ca0f31c7e5"
      },
      "execution_count": 5,
      "outputs": [
        {
          "output_type": "stream",
          "name": "stdout",
          "text": [
            "vector cot: \n",
            "[[3]\n",
            " [8]\n",
            " [3]\n",
            " [1]\n",
            " [9]\n",
            " [9]\n",
            " [8]]\n",
            "series tuong ung\n",
            "0    3\n",
            "1    8\n",
            "2    3\n",
            "3    1\n",
            "4    9\n",
            "5    9\n",
            "6    8\n",
            "dtype: int64\n"
          ]
        }
      ]
    },
    {
      "cell_type": "markdown",
      "source": [
        "Câu 5: Chuyển đổi dữ liệu, hãy thực hiện các yêu cầu sau:\n",
        "\n",
        "- Chuyển 1 list thành 1 series\n",
        "- Chuyển 1 tuple thành 1 series\n",
        "- Chuyển 1 dictionary thành 1 series"
      ],
      "metadata": {
        "id": "Ns9XDZjXDFQ8"
      }
    },
    {
      "cell_type": "code",
      "source": [
        "l1 = [1,2,3,4]\n",
        "print(\"list :\",l1)\n",
        "print(\"chuyen list thanh series: \")\n",
        "print(pd.Series(l1))"
      ],
      "metadata": {
        "colab": {
          "base_uri": "https://localhost:8080/"
        },
        "id": "xH2I0uY0DNNO",
        "outputId": "bfe695e5-6c3b-488c-cb49-6b90480e793b"
      },
      "execution_count": 6,
      "outputs": [
        {
          "output_type": "stream",
          "name": "stdout",
          "text": [
            "list : [1, 2, 3, 4]\n",
            "chuyen list thanh series: \n",
            "0    1\n",
            "1    2\n",
            "2    3\n",
            "3    4\n",
            "dtype: int64\n"
          ]
        }
      ]
    },
    {
      "cell_type": "code",
      "source": [
        "t1 = (1,3,4,5)\n",
        "print(\"tuple: \",t1)\n",
        "print(\"chuyen tuple thanh series: \")\n",
        "print(pd.Series(t1))"
      ],
      "metadata": {
        "colab": {
          "base_uri": "https://localhost:8080/"
        },
        "id": "5L3dWFTHDQat",
        "outputId": "8dd324ca-3ea5-4a8f-efac-b09640f02aba"
      },
      "execution_count": 7,
      "outputs": [
        {
          "output_type": "stream",
          "name": "stdout",
          "text": [
            "tuple:  (1, 3, 4, 5)\n",
            "chuyen tuple thanh series: \n",
            "0    1\n",
            "1    3\n",
            "2    4\n",
            "3    5\n",
            "dtype: int64\n"
          ]
        }
      ]
    },
    {
      "cell_type": "code",
      "source": [
        "d1 = {\"year\": 2003 , \"age\":18 }\n",
        "print(\"dictionary: \",d1)\n",
        "print(\"chuyen dict thanh series: \")\n",
        "print(pd.Series(d1))"
      ],
      "metadata": {
        "colab": {
          "base_uri": "https://localhost:8080/"
        },
        "id": "N2zIUCnpDToE",
        "outputId": "67b82725-fba9-41dc-9ad1-d593cea284ac"
      },
      "execution_count": 8,
      "outputs": [
        {
          "output_type": "stream",
          "name": "stdout",
          "text": [
            "dictionary:  {'year': 2003, 'age': 18}\n",
            "chuyen dict thanh series: \n",
            "year    2003\n",
            "age       18\n",
            "dtype: int64\n"
          ]
        }
      ]
    },
    {
      "cell_type": "markdown",
      "source": [
        "Câu 6: Mỗi phần tử của series đều gắn liền với các chỉ số (index) tương ứng, hãy tạo một series có kích thước (1x20) với giá trị ngẫu nhiên:\n",
        "\n",
        "Xuất series ra màn hình\n",
        "Xuất các chỉ số của series ra màn hình\n",
        "Thay đổi cách đánh chỉ số mặc định của series từ đánh chỉ số bằng số nguyên sang các kiểu đánh chỉ số bằng label và in kết quả ra màn hình"
      ],
      "metadata": {
        "id": "FC20dQ7QDVyd"
      }
    },
    {
      "cell_type": "code",
      "source": [
        "x = pd.Series(np.random.randint(1,20,[20]))\n",
        "print(x)"
      ],
      "metadata": {
        "colab": {
          "base_uri": "https://localhost:8080/"
        },
        "id": "3cIcDrPHDXtu",
        "outputId": "ac1d0e77-8c7b-46a9-9026-c14b5661fa7e"
      },
      "execution_count": 9,
      "outputs": [
        {
          "output_type": "stream",
          "name": "stdout",
          "text": [
            "0     13\n",
            "1     10\n",
            "2      8\n",
            "3     15\n",
            "4      3\n",
            "5     10\n",
            "6     19\n",
            "7     19\n",
            "8     13\n",
            "9      5\n",
            "10    11\n",
            "11     8\n",
            "12     9\n",
            "13    13\n",
            "14    14\n",
            "15     5\n",
            "16    10\n",
            "17     9\n",
            "18     1\n",
            "19     2\n",
            "dtype: int64\n"
          ]
        }
      ]
    },
    {
      "cell_type": "code",
      "source": [
        "print(\"chi so cua series: \",x.index)"
      ],
      "metadata": {
        "colab": {
          "base_uri": "https://localhost:8080/"
        },
        "id": "2AAW3F7FDa3N",
        "outputId": "047c37e6-a1b7-454e-edd0-11742142738d"
      },
      "execution_count": 10,
      "outputs": [
        {
          "output_type": "stream",
          "name": "stdout",
          "text": [
            "chi so cua series:  RangeIndex(start=0, stop=20, step=1)\n"
          ]
        }
      ]
    },
    {
      "cell_type": "code",
      "source": [
        "print(x)\n",
        "l1 = ['a','b','c','d','e','f','g','h','l','m','n','i','j','k','o','p','q','t','u','w']\n",
        "x.index=l1\n",
        "print(\"Thay doi cach danh chi so: \")\n",
        "print(x)"
      ],
      "metadata": {
        "colab": {
          "base_uri": "https://localhost:8080/"
        },
        "id": "SyRhP1w1DdiF",
        "outputId": "fb7d6032-6684-448d-b06b-e8d3a5e79b33"
      },
      "execution_count": 11,
      "outputs": [
        {
          "output_type": "stream",
          "name": "stdout",
          "text": [
            "0     13\n",
            "1     10\n",
            "2      8\n",
            "3     15\n",
            "4      3\n",
            "5     10\n",
            "6     19\n",
            "7     19\n",
            "8     13\n",
            "9      5\n",
            "10    11\n",
            "11     8\n",
            "12     9\n",
            "13    13\n",
            "14    14\n",
            "15     5\n",
            "16    10\n",
            "17     9\n",
            "18     1\n",
            "19     2\n",
            "dtype: int64\n",
            "Thay doi cach danh chi so: \n",
            "a    13\n",
            "b    10\n",
            "c     8\n",
            "d    15\n",
            "e     3\n",
            "f    10\n",
            "g    19\n",
            "h    19\n",
            "l    13\n",
            "m     5\n",
            "n    11\n",
            "i     8\n",
            "j     9\n",
            "k    13\n",
            "o    14\n",
            "p     5\n",
            "q    10\n",
            "t     9\n",
            "u     1\n",
            "w     2\n",
            "dtype: int64\n"
          ]
        }
      ]
    },
    {
      "cell_type": "markdown",
      "source": [
        "Câu 7: Giả sử có series có kích thước (1x10), giá trị ngẫu nhiên, index được đánh từ ‘a’ trở đi, hãy:\n",
        "\n",
        "- Trích xuất các phần tử của Series có chỉ số là ‘a’, ‘c’, ‘e’\n",
        "- Trích xuất các phần tử của Series có chỉ số từ 3 đến 6"
      ],
      "metadata": {
        "id": "aD-nM3nVDeZr"
      }
    },
    {
      "cell_type": "code",
      "source": [
        "b = pd.Series(np.random.randint(1,10,[10]))\n",
        "l2 = ['a','b','c','d','e','f','g','h','i','j']\n",
        "b.index = l2\n",
        "print(b)\n",
        "print(\"chi so a: \",b.loc['a'])\n",
        "print(\"chi so c: \",b.loc['c'])\n",
        "print(\"chi so e: \",b.loc['e'])"
      ],
      "metadata": {
        "colab": {
          "base_uri": "https://localhost:8080/"
        },
        "id": "qRJNgr3tDjSl",
        "outputId": "b78181a3-5ee9-4032-8c5b-2da28806b38d"
      },
      "execution_count": 12,
      "outputs": [
        {
          "output_type": "stream",
          "name": "stdout",
          "text": [
            "a    8\n",
            "b    1\n",
            "c    6\n",
            "d    9\n",
            "e    5\n",
            "f    2\n",
            "g    3\n",
            "h    4\n",
            "i    4\n",
            "j    5\n",
            "dtype: int64\n",
            "chi so a:  8\n",
            "chi so c:  6\n",
            "chi so e:  5\n"
          ]
        }
      ]
    },
    {
      "cell_type": "code",
      "source": [
        "print(b)\n",
        "print(\"chi so tu 3 den 6: \")\n",
        "print(b.iloc[3:7])"
      ],
      "metadata": {
        "colab": {
          "base_uri": "https://localhost:8080/"
        },
        "id": "F7goS1PSDlGm",
        "outputId": "b2648d34-f78c-4453-bbb8-9e7078054df3"
      },
      "execution_count": 13,
      "outputs": [
        {
          "output_type": "stream",
          "name": "stdout",
          "text": [
            "a    8\n",
            "b    1\n",
            "c    6\n",
            "d    9\n",
            "e    5\n",
            "f    2\n",
            "g    3\n",
            "h    4\n",
            "i    4\n",
            "j    5\n",
            "dtype: int64\n",
            "chi so tu 3 den 6: \n",
            "d    9\n",
            "e    5\n",
            "f    2\n",
            "g    3\n",
            "dtype: int64\n"
          ]
        }
      ]
    }
  ]
}