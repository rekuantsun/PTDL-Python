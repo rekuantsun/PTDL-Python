{
  "nbformat": 4,
  "nbformat_minor": 0,
  "metadata": {
    "colab": {
      "name": "bttl_10/3.ipynb",
      "provenance": [],
      "authorship_tag": "ABX9TyM/Jd5pf2G4bt1Rdmz2/z5c",
      "include_colab_link": true
    },
    "kernelspec": {
      "name": "python3",
      "display_name": "Python 3"
    },
    "language_info": {
      "name": "python"
    }
  },
  "cells": [
    {
      "cell_type": "markdown",
      "metadata": {
        "id": "view-in-github",
        "colab_type": "text"
      },
      "source": [
        "<a href=\"https://colab.research.google.com/github/rekuantsun/PTDL-Python/blob/main/bttl_10_3.ipynb\" target=\"_parent\"><img src=\"https://colab.research.google.com/assets/colab-badge.svg\" alt=\"Open In Colab\"/></a>"
      ]
    },
    {
      "cell_type": "markdown",
      "source": [
        "Hãy cho biết thư viện nào tính toán ước lượng khoảng?\n",
        "\n",
        "- Đó là thư viện scipy.stats để tính toán khoảng tin cậy cho trung bình tổng thể\n",
        "- Sử dụng hàm t.interval() khi đang làm việc với một mẫu nhỏ (n <30)\n",
        "\n",
        "Ví dụ sau đây cho thấy cách tính khoảng tin cậy cho chiều cao trung bình của quần thể thực của một loài thực vật nhất định, sử dụng một mẫu gồm 15 cây:"
      ],
      "metadata": {
        "id": "Te0dYL_m83Zb"
      }
    },
    {
      "cell_type": "code",
      "source": [
        "import numpy as np\n",
        "import scipy.stats as st\n",
        "#np.mean : Tính giá trị trung bình cộng\n",
        "#st.sem : Tính sai số chuẩn của giá trị trung bình.\n",
        "#Khoảng tin cậy 95% cho chiều cao trung bình của tổng thể là"
      ],
      "metadata": {
        "id": "Tsq2EYMo8z-z"
      },
      "execution_count": 2,
      "outputs": []
    },
    {
      "cell_type": "code",
      "source": [
        "#xác định dữ liệu mẫu \n",
        "data = [12, 12, 13, 13, 15, 16, 17, 22, 23, 25, 26, 27, 28, 28, 29]"
      ],
      "metadata": {
        "id": "iUmKq4JZ9H_v"
      },
      "execution_count": 3,
      "outputs": []
    },
    {
      "cell_type": "markdown",
      "source": [
        "Bạn sẽ nhận thấy rằng mức độ tin cậy càng lớn thì khoảng tin cậy càng rộng."
      ],
      "metadata": {
        "id": "tTGmj2N89Qfs"
      }
    },
    {
      "cell_type": "code",
      "source": [
        "#tạo khoảng tin cậy 95% cho trọng lượng trung bình của tổng thể\n",
        "st.t.interval(alpha=0.95, df=len(data)-1, loc=np.mean(data), scale=st.sem(data))"
      ],
      "metadata": {
        "colab": {
          "base_uri": "https://localhost:8080/"
        },
        "id": "gx6s-ibA9NL9",
        "outputId": "d6ef0643-eeb9-4341-bffd-881fa7371509"
      },
      "execution_count": 4,
      "outputs": [
        {
          "output_type": "execute_result",
          "data": {
            "text/plain": [
              "(16.75776979778498, 24.042230202215016)"
            ]
          },
          "metadata": {},
          "execution_count": 4
        }
      ]
    },
    {
      "cell_type": "code",
      "source": [
        "#tạo khoảng tin cậy 99% cho trọng lượng trung bình của tổng thể\n",
        "st.t.interval(alpha=0.99, df=len(data)-1, loc=np.mean(data), scale=st.sem(data))"
      ],
      "metadata": {
        "colab": {
          "base_uri": "https://localhost:8080/"
        },
        "id": "2KLgH24z9TFD",
        "outputId": "e6ed7550-0f9e-4999-a8b5-bb0ff6b0b20e"
      },
      "execution_count": 5,
      "outputs": [
        {
          "output_type": "execute_result",
          "data": {
            "text/plain": [
              "(15.3447902793728, 25.455209720627195)"
            ]
          },
          "metadata": {},
          "execution_count": 5
        }
      ]
    },
    {
      "cell_type": "markdown",
      "source": [
        "- Sử dụng hàm t.norm.interval() khi chúng ta đang làm việc với các mẫu lớn hơn (n≥30)"
      ],
      "metadata": {
        "id": "d0muzErF9YyM"
      }
    },
    {
      "cell_type": "code",
      "source": [
        "import numpy as np\n",
        "import scipy.stats as st"
      ],
      "metadata": {
        "id": "35yyLSPv9cDT"
      },
      "execution_count": 6,
      "outputs": []
    },
    {
      "cell_type": "code",
      "source": [
        "#xác định dữ liệu mẫu  \n",
        "data = [12, 12, 13, 13, 15, 16, 17, 22, 23, 25, 26, 27, 28, 28, 29,33,22,11,45,23,12,34,65,23,64,86,34,12,35,98]"
      ],
      "metadata": {
        "id": "SdTUUTE29g_0"
      },
      "execution_count": 7,
      "outputs": []
    },
    {
      "cell_type": "code",
      "source": [
        "#tạo khoảng tin cậy 95% cho trọng lượng trung bình của tổng thể\n",
        "st.norm.interval(alpha=0.95, loc=np.mean(data), scale=st.sem(data))"
      ],
      "metadata": {
        "colab": {
          "base_uri": "https://localhost:8080/"
        },
        "id": "-ZX58zQ_9j09",
        "outputId": "ce5712a8-2c00-4a7a-9de3-40a6b5b5f368"
      },
      "execution_count": 8,
      "outputs": [
        {
          "output_type": "execute_result",
          "data": {
            "text/plain": [
              "(22.353431282811485, 37.84656871718852)"
            ]
          },
          "metadata": {},
          "execution_count": 8
        }
      ]
    },
    {
      "cell_type": "markdown",
      "source": [
        "Và tương tự như phân phối, mức độ tin cậy lớn hơn dẫn đến khoảng tin cậy rộng hơn."
      ],
      "metadata": {
        "id": "SwsIazW59n_q"
      }
    },
    {
      "cell_type": "code",
      "source": [
        "#tạo khoảng tin cậy 99% cho trọng lượng trung bình của tổng thể\n",
        "st.t.interval(alpha=0.99, df=len(data)-1, loc=np.mean(data), scale=st.sem(data))"
      ],
      "metadata": {
        "colab": {
          "base_uri": "https://localhost:8080/"
        },
        "id": "iJl2VwMS9ld7",
        "outputId": "60c5c85a-0c78-4d52-e176-808ea77de21e"
      },
      "execution_count": 9,
      "outputs": [
        {
          "output_type": "execute_result",
          "data": {
            "text/plain": [
              "(19.205650418937253, 40.99434958106275)"
            ]
          },
          "metadata": {},
          "execution_count": 9
        }
      ]
    }
  ]
}