{
  "nbformat": 4,
  "nbformat_minor": 0,
  "metadata": {
    "colab": {
      "name": "Numpy-3-apply_along_axis().ipynb",
      "provenance": [],
      "authorship_tag": "ABX9TyPKhQKenDvdRE3uvcOvrPCs",
      "include_colab_link": true
    },
    "kernelspec": {
      "name": "python3",
      "display_name": "Python 3"
    },
    "language_info": {
      "name": "python"
    }
  },
  "cells": [
    {
      "cell_type": "markdown",
      "metadata": {
        "id": "view-in-github",
        "colab_type": "text"
      },
      "source": [
        "<a href=\"https://colab.research.google.com/github/rekuantsun/PTDL-Python/blob/main/Numpy_3_apply_along_axis().ipynb\" target=\"_parent\"><img src=\"https://colab.research.google.com/assets/colab-badge.svg\" alt=\"Open In Colab\"/></a>"
      ]
    },
    {
      "cell_type": "markdown",
      "source": [
        "Câu 1: Hãy trình bày cú pháp của hàm apply_along_axis() và ý nghĩa của từng tham số của hàm này.\n",
        "\n",
        "numpy. apply_along_axis ( func1d , axis , arr , * args , ** kwargs )\n",
        "\n",
        "- hàm func1d (M,) -> (Nj…) : Hàm này phải chấp nhận mảng 1-D. Nó được áp dụng cho các lát arr 1-D dọc theo trục được chỉ định.\n",
        "- axis : số nguyên trục\n",
        "\n",
        "Trục dọc theo arr được cắt.\n",
        "\n",
        "- arr :ndarray (Ni…, M, Nk…)\n",
        "\n",
        "Đầu vào mảng.\n",
        "\n",
        "- args: bất kỳ\n",
        "\n",
        "Đối số bổ sung cho func1d .\n",
        "\n",
        "- kwargs: bất kỳ"
      ],
      "metadata": {
        "id": "q0ExJtuCBAiQ"
      }
    },
    {
      "cell_type": "markdown",
      "source": [
        "câu 2 : Tạo một ma trận A15x17 có giá trị ngẫu nhiên"
      ],
      "metadata": {
        "id": "IjYKS7ouBULF"
      }
    },
    {
      "cell_type": "code",
      "execution_count": 1,
      "metadata": {
        "colab": {
          "base_uri": "https://localhost:8080/"
        },
        "id": "ugquIiDAAuj-",
        "outputId": "6a71f9d0-c68c-4d77-c1aa-cf02000a9098"
      },
      "outputs": [
        {
          "output_type": "execute_result",
          "data": {
            "text/plain": [
              "array([[9, 4, 7, 9, 4, 8, 2, 6, 8, 4, 1, 4, 3, 5, 9, 1, 5],\n",
              "       [9, 4, 9, 4, 4, 2, 1, 8, 2, 2, 1, 6, 8, 9, 3, 9, 9],\n",
              "       [3, 1, 8, 4, 5, 1, 9, 2, 9, 2, 6, 9, 6, 1, 5, 3, 9],\n",
              "       [7, 1, 6, 1, 9, 4, 8, 8, 1, 6, 3, 9, 5, 3, 6, 1, 2],\n",
              "       [7, 2, 8, 1, 3, 6, 7, 6, 3, 2, 1, 3, 6, 4, 2, 9, 3],\n",
              "       [1, 2, 8, 8, 7, 9, 4, 3, 7, 6, 2, 8, 6, 8, 5, 5, 1],\n",
              "       [9, 9, 5, 3, 2, 6, 2, 8, 9, 3, 9, 4, 2, 3, 3, 4, 2],\n",
              "       [7, 8, 2, 6, 5, 1, 8, 3, 2, 3, 7, 6, 8, 4, 1, 9, 9],\n",
              "       [8, 2, 5, 6, 3, 4, 5, 2, 8, 8, 7, 7, 1, 5, 7, 1, 1],\n",
              "       [3, 5, 8, 4, 2, 7, 6, 5, 3, 8, 7, 5, 9, 1, 2, 2, 6],\n",
              "       [2, 9, 2, 3, 2, 1, 1, 7, 2, 7, 1, 9, 2, 1, 9, 5, 1],\n",
              "       [1, 9, 9, 7, 6, 8, 4, 1, 6, 2, 3, 9, 8, 6, 5, 1, 7],\n",
              "       [4, 2, 3, 5, 2, 2, 4, 4, 5, 1, 8, 2, 9, 5, 7, 6, 4],\n",
              "       [4, 7, 5, 5, 6, 5, 9, 3, 9, 3, 5, 2, 2, 5, 8, 4, 7],\n",
              "       [6, 8, 8, 1, 6, 4, 7, 8, 6, 5, 3, 4, 1, 6, 4, 7, 7]])"
            ]
          },
          "metadata": {},
          "execution_count": 1
        }
      ],
      "source": [
        "import numpy as np\n",
        "a = np.random.randint(1,10,[15,17])\n",
        "a"
      ]
    },
    {
      "cell_type": "markdown",
      "source": [
        "Câu 3: Xây dựng hàm tìm giá trị lớn nhất có tên là \n",
        "tim_gia_tri_lon_nhat(vector_a) có tham số đầu vào là 1 vector a và giá trị trả về là giá trị phần tử lớn nhất của vector này. Áp dụng hàm này theo từng hàng của ma trận A ở Câu 1 và xuất kết quả ra màn hình."
      ],
      "metadata": {
        "id": "ZfqhJc8wBYI5"
      }
    },
    {
      "cell_type": "code",
      "source": [
        "def tim_gia_tri_lon_nhat(a):\n",
        " return np.max(a)\n",
        "np.apply_along_axis(tim_gia_tri_lon_nhat,1,a)"
      ],
      "metadata": {
        "colab": {
          "base_uri": "https://localhost:8080/"
        },
        "id": "1RkQ1gUPBVtD",
        "outputId": "af0b87a4-20ef-4df0-9828-c111d5a4ceb3"
      },
      "execution_count": 3,
      "outputs": [
        {
          "output_type": "execute_result",
          "data": {
            "text/plain": [
              "array([9, 9, 9, 9, 9, 9, 9, 9, 8, 9, 9, 9, 9, 9, 8])"
            ]
          },
          "metadata": {},
          "execution_count": 3
        }
      ]
    },
    {
      "cell_type": "markdown",
      "source": [
        "Câu 4: Xây dựng hàm tìm giá trị nhỏ nhất có tên là\n",
        "tim_gia_tri_nho_nhat(vector_a) có tham số đầu vào là 1 vector a và giá trị trả về là giá trị phần tử nhỏ nhất của vector này. Áp dụng hàm này theo từng cột của ma trận A ở Câu 1 và xuất kết quả ra màn hình."
      ],
      "metadata": {
        "id": "Hf53CNd2BbAV"
      }
    },
    {
      "cell_type": "code",
      "source": [
        "def tim_gia_tri_nho_nhat(a):\n",
        "  return np.min(a)\n",
        "np.apply_along_axis(tim_gia_tri_nho_nhat,0,a)"
      ],
      "metadata": {
        "colab": {
          "base_uri": "https://localhost:8080/"
        },
        "id": "39aIXTgIBbfp",
        "outputId": "c0303765-a07a-4cb8-f080-3dee30811540"
      },
      "execution_count": 2,
      "outputs": [
        {
          "output_type": "execute_result",
          "data": {
            "text/plain": [
              "array([1, 1, 2, 1, 2, 1, 1, 1, 1, 1, 1, 2, 1, 1, 1, 1, 1])"
            ]
          },
          "metadata": {},
          "execution_count": 2
        }
      ]
    },
    {
      "cell_type": "markdown",
      "source": [
        "Câu 5: Xây dựng hàm tìm giá trị lớn nhất có tên là \n",
        "tinh_tong(vector_a) có tham số đầu vào là 1 vector a và giá trị trả về là tổng các phần tử của vector này. Áp dụng hàm này theo từng hàng của ma trận A ở Câu 1 và xuất kết quả ra màn hình."
      ],
      "metadata": {
        "id": "fx3B5RsUBjuO"
      }
    },
    {
      "cell_type": "code",
      "source": [
        "def tinh_tong(a):\n",
        "  return np.sum(a)\n",
        "np.apply_along_axis(tinh_tong,1,a)"
      ],
      "metadata": {
        "colab": {
          "base_uri": "https://localhost:8080/"
        },
        "id": "1y_Oo9ZZBiZ8",
        "outputId": "ef24b679-5c1b-4913-ba7e-a7cdd739135f"
      },
      "execution_count": 4,
      "outputs": [
        {
          "output_type": "execute_result",
          "data": {
            "text/plain": [
              "array([89, 90, 83, 80, 73, 90, 83, 89, 80, 83, 64, 92, 73, 89, 91])"
            ]
          },
          "metadata": {},
          "execution_count": 4
        }
      ]
    },
    {
      "cell_type": "code",
      "source": [
        ""
      ],
      "metadata": {
        "id": "_zzHKbmJBno4"
      },
      "execution_count": null,
      "outputs": []
    }
  ]
}