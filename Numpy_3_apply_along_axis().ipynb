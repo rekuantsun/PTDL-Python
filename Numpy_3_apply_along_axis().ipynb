{
  "nbformat": 4,
  "nbformat_minor": 0,
  "metadata": {
    "colab": {
      "name": "Numpy-3-apply_along_axis().ipynb",
      "provenance": [],
      "authorship_tag": "ABX9TyOAH/d9mGumtKXSfoN0xvcT",
      "include_colab_link": true
    },
    "kernelspec": {
      "name": "python3",
      "display_name": "Python 3"
    },
    "language_info": {
      "name": "python"
    }
  },
  "cells": [
    {
      "cell_type": "markdown",
      "metadata": {
        "id": "view-in-github",
        "colab_type": "text"
      },
      "source": [
        "<a href=\"https://colab.research.google.com/github/rekuantsun/PTDL-Python/blob/main/Numpy_3_apply_along_axis().ipynb\" target=\"_parent\"><img src=\"https://colab.research.google.com/assets/colab-badge.svg\" alt=\"Open In Colab\"/></a>"
      ]
    },
    {
      "cell_type": "markdown",
      "source": [
        "Câu 1: Hãy trình bày cú pháp của hàm apply_along_axis() và ý nghĩa của từng tham số của hàm này.\n",
        "\n",
        "numpy. apply_along_axis ( func1d , axis , arr , * args , ** kwargs )\n"
      ],
      "metadata": {
        "id": "q0ExJtuCBAiQ"
      }
    },
    {
      "cell_type": "markdown",
      "source": [
        "câu 2 : Tạo một ma trận A15x17 có giá trị ngẫu nhiên"
      ],
      "metadata": {
        "id": "IjYKS7ouBULF"
      }
    },
    {
      "cell_type": "code",
      "execution_count": 2,
      "metadata": {
        "colab": {
          "base_uri": "https://localhost:8080/"
        },
        "id": "ugquIiDAAuj-",
        "outputId": "671b25d2-c886-45cd-9035-62d5766d3ef0"
      },
      "outputs": [
        {
          "output_type": "execute_result",
          "data": {
            "text/plain": [
              "array([[7, 9, 4, 6, 3, 9, 5, 4, 4, 9, 9, 6, 5, 7, 9, 3, 5],\n",
              "       [2, 2, 8, 5, 3, 3, 5, 7, 9, 6, 8, 7, 3, 5, 2, 4, 6],\n",
              "       [5, 4, 5, 3, 8, 8, 5, 3, 3, 4, 3, 9, 2, 1, 7, 7, 9],\n",
              "       [4, 1, 3, 9, 1, 4, 7, 7, 8, 9, 8, 9, 5, 6, 1, 9, 3],\n",
              "       [7, 2, 7, 4, 1, 6, 4, 2, 7, 6, 3, 6, 9, 2, 4, 4, 2],\n",
              "       [7, 7, 5, 2, 4, 5, 3, 5, 5, 2, 9, 9, 7, 9, 5, 3, 7],\n",
              "       [6, 2, 7, 2, 1, 7, 2, 9, 8, 2, 7, 8, 2, 1, 6, 4, 8],\n",
              "       [9, 5, 2, 3, 1, 6, 7, 6, 9, 2, 5, 5, 3, 2, 8, 2, 6],\n",
              "       [8, 5, 5, 2, 7, 5, 6, 7, 2, 7, 8, 9, 3, 2, 2, 2, 4],\n",
              "       [2, 6, 8, 3, 2, 8, 8, 7, 4, 9, 2, 7, 9, 1, 4, 4, 4],\n",
              "       [5, 7, 4, 3, 3, 7, 9, 5, 6, 9, 9, 8, 3, 8, 8, 2, 9],\n",
              "       [2, 6, 6, 4, 4, 4, 3, 3, 1, 7, 6, 9, 8, 6, 1, 1, 5],\n",
              "       [2, 1, 4, 8, 1, 6, 3, 9, 7, 8, 4, 5, 6, 6, 5, 9, 1],\n",
              "       [6, 2, 6, 9, 4, 9, 8, 2, 7, 3, 3, 3, 3, 6, 3, 3, 2],\n",
              "       [7, 5, 7, 4, 9, 2, 5, 3, 9, 2, 2, 8, 6, 2, 9, 3, 6]])"
            ]
          },
          "metadata": {},
          "execution_count": 2
        }
      ],
      "source": [
        "import numpy as np\n",
        "a = np.random.randint(1,10,[15,17])\n",
        "a"
      ]
    },
    {
      "cell_type": "markdown",
      "source": [
        "Câu 3: Xây dựng hàm tìm giá trị lớn nhất có tên là \n",
        "tim_gia_tri_lon_nhat(vector_a) có tham số đầu vào là 1 vector a và giá trị trả về là giá trị phần tử lớn nhất của vector này. Áp dụng hàm này theo từng hàng của ma trận A ở Câu 1 và xuất kết quả ra màn hình."
      ],
      "metadata": {
        "id": "ZfqhJc8wBYI5"
      }
    },
    {
      "cell_type": "code",
      "source": [
        "def max_value(a):\n",
        " return np.max(a)\n",
        "np.apply_along_axis(max_value,1,a)"
      ],
      "metadata": {
        "colab": {
          "base_uri": "https://localhost:8080/"
        },
        "id": "1RkQ1gUPBVtD",
        "outputId": "96f2d67d-df84-4249-98a4-b06cb30223dd"
      },
      "execution_count": 7,
      "outputs": [
        {
          "output_type": "execute_result",
          "data": {
            "text/plain": [
              "array([9, 9, 9, 9, 9, 9, 9, 9, 9, 9, 9, 9, 9, 9, 9])"
            ]
          },
          "metadata": {},
          "execution_count": 7
        }
      ]
    },
    {
      "cell_type": "markdown",
      "source": [
        "Câu 4: Xây dựng hàm tìm giá trị nhỏ nhất có tên là\n",
        "tim_gia_tri_nho_nhat(vector_a) có tham số đầu vào là 1 vector a và giá trị trả về là giá trị phần tử nhỏ nhất của vector này. Áp dụng hàm này theo từng cột của ma trận A ở Câu 1 và xuất kết quả ra màn hình."
      ],
      "metadata": {
        "id": "Hf53CNd2BbAV"
      }
    },
    {
      "cell_type": "code",
      "source": [
        "def min_value(a):\n",
        "  return np.min(a)\n",
        "np.apply_along_axis(min_value,0,a)"
      ],
      "metadata": {
        "colab": {
          "base_uri": "https://localhost:8080/"
        },
        "id": "39aIXTgIBbfp",
        "outputId": "d0fc201d-e23a-4a73-bd01-6e000e9e6c55"
      },
      "execution_count": 4,
      "outputs": [
        {
          "output_type": "execute_result",
          "data": {
            "text/plain": [
              "array([2, 1, 2, 2, 1, 2, 2, 2, 1, 2, 2, 3, 2, 1, 1, 1, 1])"
            ]
          },
          "metadata": {},
          "execution_count": 4
        }
      ]
    },
    {
      "cell_type": "markdown",
      "source": [
        "Câu 5: Xây dựng hàm tìm giá trị lớn nhất có tên là \n",
        "tinh_tong(vector_a) có tham số đầu vào là 1 vector a và giá trị trả về là tổng các phần tử của vector này. Áp dụng hàm này theo từng hàng của ma trận A ở Câu 1 và xuất kết quả ra màn hình."
      ],
      "metadata": {
        "id": "fx3B5RsUBjuO"
      }
    },
    {
      "cell_type": "code",
      "source": [
        "def tong(a):\n",
        "  return np.sum(a)\n",
        "np.apply_along_axis(tong,1,a)"
      ],
      "metadata": {
        "colab": {
          "base_uri": "https://localhost:8080/"
        },
        "id": "1y_Oo9ZZBiZ8",
        "outputId": "5f026ae3-583e-4d05-bdb3-7b9352e40857"
      },
      "execution_count": 6,
      "outputs": [
        {
          "output_type": "execute_result",
          "data": {
            "text/plain": [
              "array([104,  85,  86,  94,  76,  94,  82,  81,  84,  88, 105,  76,  85,\n",
              "        79,  89])"
            ]
          },
          "metadata": {},
          "execution_count": 6
        }
      ]
    },
    {
      "cell_type": "code",
      "source": [
        ""
      ],
      "metadata": {
        "id": "_zzHKbmJBno4"
      },
      "execution_count": null,
      "outputs": []
    }
  ]
}