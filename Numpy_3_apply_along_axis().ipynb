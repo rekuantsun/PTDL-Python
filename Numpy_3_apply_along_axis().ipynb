{
  "nbformat": 4,
  "nbformat_minor": 0,
  "metadata": {
    "colab": {
      "name": "Numpy-3-apply_along_axis().ipynb",
      "provenance": [],
      "authorship_tag": "ABX9TyPsaJaluEUBU9G3CnQ0ddzz",
      "include_colab_link": true
    },
    "kernelspec": {
      "name": "python3",
      "display_name": "Python 3"
    },
    "language_info": {
      "name": "python"
    }
  },
  "cells": [
    {
      "cell_type": "markdown",
      "metadata": {
        "id": "view-in-github",
        "colab_type": "text"
      },
      "source": [
        "<a href=\"https://colab.research.google.com/github/rekuantsun/PTDL-Python/blob/main/Numpy_3_apply_along_axis().ipynb\" target=\"_parent\"><img src=\"https://colab.research.google.com/assets/colab-badge.svg\" alt=\"Open In Colab\"/></a>"
      ]
    },
    {
      "cell_type": "markdown",
      "source": [
        "Câu 1: Hãy trình bày cú pháp của hàm apply_along_axis() và ý nghĩa của từng tham số của hàm này.\n",
        "\n",
        "numpy. apply_along_axis ( func1d , axis , arr , * args , ** kwargs )\n"
      ],
      "metadata": {
        "id": "q0ExJtuCBAiQ"
      }
    },
    {
      "cell_type": "markdown",
      "source": [
        "câu 2 : Tạo một ma trận A15x17 có giá trị ngẫu nhiên"
      ],
      "metadata": {
        "id": "IjYKS7ouBULF"
      }
    },
    {
      "cell_type": "code",
      "execution_count": null,
      "metadata": {
        "colab": {
          "base_uri": "https://localhost:8080/"
        },
        "id": "ugquIiDAAuj-",
        "outputId": "70e18432-f778-4eef-eabf-0e8ce657a8eb"
      },
      "outputs": [
        {
          "output_type": "execute_result",
          "data": {
            "text/plain": [
              "array([[5, 5, 3, 7, 5, 7, 8, 8, 8, 6, 5, 4, 7, 9, 2, 4, 9],\n",
              "       [2, 3, 8, 9, 6, 7, 1, 9, 8, 4, 5, 5, 4, 7, 8, 3, 7],\n",
              "       [9, 1, 2, 5, 8, 4, 2, 3, 3, 3, 8, 2, 7, 1, 4, 3, 4],\n",
              "       [4, 1, 4, 8, 6, 9, 8, 7, 7, 5, 1, 1, 8, 9, 3, 9, 6],\n",
              "       [1, 8, 9, 4, 4, 8, 4, 6, 5, 5, 7, 5, 2, 7, 3, 6, 3],\n",
              "       [4, 6, 8, 1, 1, 4, 9, 6, 8, 6, 1, 1, 6, 8, 4, 3, 2],\n",
              "       [8, 4, 8, 9, 9, 9, 3, 7, 6, 4, 8, 6, 5, 7, 9, 9, 9],\n",
              "       [9, 5, 4, 7, 3, 6, 7, 9, 8, 5, 5, 6, 9, 7, 1, 6, 9],\n",
              "       [4, 2, 5, 7, 3, 6, 4, 3, 1, 5, 3, 3, 8, 3, 5, 4, 3],\n",
              "       [1, 7, 7, 4, 9, 5, 6, 4, 8, 5, 7, 7, 7, 4, 4, 2, 4],\n",
              "       [4, 7, 8, 4, 6, 8, 6, 3, 6, 1, 5, 3, 4, 5, 9, 3, 9],\n",
              "       [1, 9, 6, 8, 3, 1, 1, 6, 3, 6, 5, 2, 2, 5, 1, 8, 8],\n",
              "       [2, 6, 1, 6, 9, 3, 4, 7, 1, 3, 2, 6, 8, 7, 3, 9, 8],\n",
              "       [1, 7, 3, 7, 2, 8, 7, 4, 5, 3, 6, 2, 3, 3, 1, 4, 4],\n",
              "       [4, 7, 3, 8, 7, 1, 9, 1, 6, 8, 6, 3, 5, 4, 3, 6, 5]])"
            ]
          },
          "metadata": {},
          "execution_count": 1
        }
      ],
      "source": [
        "import numpy as np\n",
        "a = np.random.randint(1,10,[15,17])\n",
        "a"
      ]
    },
    {
      "cell_type": "markdown",
      "source": [
        "Câu 3: Xây dựng hàm tìm giá trị lớn nhất có tên là \n",
        "tim_gia_tri_lon_nhat(vector_a) có tham số đầu vào là 1 vector a và giá trị trả về là giá trị phần tử lớn nhất của vector này. Áp dụng hàm này theo từng hàng của ma trận A ở Câu 1 và xuất kết quả ra màn hình."
      ],
      "metadata": {
        "id": "ZfqhJc8wBYI5"
      }
    },
    {
      "cell_type": "code",
      "source": [
        "def max_value(a):\n",
        " return np.max(a)\n",
        "np.apply_along_axis(max_value,1,a)"
      ],
      "metadata": {
        "colab": {
          "base_uri": "https://localhost:8080/"
        },
        "id": "1RkQ1gUPBVtD",
        "outputId": "3063184b-399e-44f1-f30b-eb31121f758d"
      },
      "execution_count": null,
      "outputs": [
        {
          "output_type": "execute_result",
          "data": {
            "text/plain": [
              "array([9, 9, 9, 9, 9, 9, 9, 9, 8, 9, 9, 9, 9, 8, 9])"
            ]
          },
          "metadata": {},
          "execution_count": 2
        }
      ]
    },
    {
      "cell_type": "markdown",
      "source": [
        "Câu 4: Xây dựng hàm tìm giá trị nhỏ nhất có tên là\n",
        "tim_gia_tri_nho_nhat(vector_a) có tham số đầu vào là 1 vector a và giá trị trả về là giá trị phần tử nhỏ nhất của vector này. Áp dụng hàm này theo từng cột của ma trận A ở Câu 1 và xuất kết quả ra màn hình."
      ],
      "metadata": {
        "id": "Hf53CNd2BbAV"
      }
    },
    {
      "cell_type": "code",
      "source": [
        "def min_value(a):\n",
        "  return np.min(a)\n",
        "np.apply_along_axis(min_value,0,a)"
      ],
      "metadata": {
        "colab": {
          "base_uri": "https://localhost:8080/"
        },
        "id": "39aIXTgIBbfp",
        "outputId": "a99c3574-c28a-4b48-aef5-25b7102e918a"
      },
      "execution_count": null,
      "outputs": [
        {
          "output_type": "execute_result",
          "data": {
            "text/plain": [
              "array([1, 1, 1, 1, 1, 1, 1, 1, 1, 1, 1, 1, 2, 1, 1, 2, 2])"
            ]
          },
          "metadata": {},
          "execution_count": 3
        }
      ]
    },
    {
      "cell_type": "markdown",
      "source": [
        "Câu 5: Xây dựng hàm tìm giá trị lớn nhất có tên là \n",
        "tinh_tong(vector_a) có tham số đầu vào là 1 vector a và giá trị trả về là tổng các phần tử của vector này. Áp dụng hàm này theo từng hàng của ma trận A ở Câu 1 và xuất kết quả ra màn hình."
      ],
      "metadata": {
        "id": "fx3B5RsUBjuO"
      }
    },
    {
      "cell_type": "code",
      "source": [
        "def tong(a):\n",
        "  return np.sum(a)\n",
        "np.apply_along_axis(tong,1,a)"
      ],
      "metadata": {
        "colab": {
          "base_uri": "https://localhost:8080/"
        },
        "id": "1y_Oo9ZZBiZ8",
        "outputId": "f91744a2-706a-46a0-eadc-938f011df627"
      },
      "execution_count": null,
      "outputs": [
        {
          "output_type": "execute_result",
          "data": {
            "text/plain": [
              "array([102,  96,  69,  96,  87,  78, 120, 106,  69,  91,  91,  75,  85,\n",
              "        70,  86])"
            ]
          },
          "metadata": {},
          "execution_count": 4
        }
      ]
    },
    {
      "cell_type": "markdown",
      "source": [
        "Câu 6: Xây dựng hàm tìm giá trị lớn nhất có tên là tinh_tong_2(vector_a) có tham số đầu vào là 1 vector a và giá trị trả về là tổng các phần tử có chỉ số lẻ (1 – 3 – 5 , .v.v.) của vector này. Áp dụng hàm này theo từng cột của ma trận A ở Câu 1 và xuất kết quả ra màn hình. Tiếp tục áp dụng hàm này theo từng hàng của ma trận A kể trên và xuất kết quả ra màn hình."
      ],
      "metadata": {
        "id": "cvrnTHrOcFuw"
      }
    },
    {
      "cell_type": "code",
      "source": [
        "def tong2(vector_a):\n",
        "  sum  = 0\n",
        "  for i in range(len(vector_a)):\n",
        "    if (i % 2 != 0):\n",
        "      sum  = sum +vector_a[i]\n",
        "  return sum\n",
        "print(\"tổng các phần tử có chỉ số lẻ\")\n",
        "print (np.apply_along_axis(tong2, 1, a))"
      ],
      "metadata": {
        "id": "_zzHKbmJBno4",
        "colab": {
          "base_uri": "https://localhost:8080/"
        },
        "outputId": "de628a02-abef-41be-c47b-1021d311c283"
      },
      "execution_count": null,
      "outputs": [
        {
          "output_type": "stream",
          "name": "stdout",
          "text": [
            "tổng các phần tử có chỉ số lẻ\n",
            "[50 47 22 49 49 35 55 51 33 38 34 45 47 38 38]\n"
          ]
        }
      ]
    }
  ]
}