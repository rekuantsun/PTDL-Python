{
  "cells": [
    {
      "cell_type": "markdown",
      "metadata": {
        "id": "view-in-github",
        "colab_type": "text"
      },
      "source": [
        "<a href=\"https://colab.research.google.com/github/rekuantsun/PTDL-Python/blob/main/bai_tap_sinh_mau_ngau_nhien.ipynb\" target=\"_parent\"><img src=\"https://colab.research.google.com/assets/colab-badge.svg\" alt=\"Open In Colab\"/></a>"
      ]
    },
    {
      "cell_type": "markdown",
      "metadata": {
        "id": "MrepTEp8Uuha"
      },
      "source": [
        "Sử dụng thư viện Numpy\n",
        "\n",
        "1. Sinh mẫu ngẫu nhiên bằng hàm arange trong khoảng [-15, 27] với khoảng cách là 0.7 và in kết quả ra màn hình"
      ]
    },
    {
      "cell_type": "code",
      "execution_count": 9,
      "metadata": {
        "id": "lSu-9YVvUuhb",
        "outputId": "7c5bf785-11ce-404a-9a62-07e24bae9c41",
        "colab": {
          "base_uri": "https://localhost:8080/"
        }
      },
      "outputs": [
        {
          "output_type": "stream",
          "name": "stdout",
          "text": [
            "[-15.  -14.3 -13.6 -12.9 -12.2 -11.5 -10.8 -10.1  -9.4  -8.7  -8.   -7.3\n",
            "  -6.6  -5.9  -5.2  -4.5  -3.8  -3.1  -2.4  -1.7  -1.   -0.3   0.4   1.1\n",
            "   1.8   2.5   3.2   3.9   4.6   5.3   6.    6.7   7.4   8.1   8.8   9.5\n",
            "  10.2  10.9  11.6  12.3  13.   13.7  14.4  15.1  15.8  16.5  17.2  17.9\n",
            "  18.6  19.3  20.   20.7  21.4  22.1  22.8  23.5  24.2  24.9  25.6  26.3\n",
            "  27. ]\n"
          ]
        }
      ],
      "source": [
        "import numpy as np\n",
        "\n",
        "samples = np.arange(-15,27,0.7)\n",
        "\n",
        "print (samples)"
      ]
    },
    {
      "cell_type": "markdown",
      "metadata": {
        "id": "a4dpy1WGUuhb"
      },
      "source": [
        "2. Sinh mẫu ngẫu nhiên theo phân phối chuẩn với mean = 2.7 std = 1.2 và size = 40\n",
        "In kết quả ra màn hình"
      ]
    },
    {
      "cell_type": "code",
      "execution_count": 11,
      "metadata": {
        "id": "YAduhN1rUuhb",
        "outputId": "d1ef8fb4-797c-4df8-82d5-d7db84497174",
        "colab": {
          "base_uri": "https://localhost:8080/"
        }
      },
      "outputs": [
        {
          "output_type": "stream",
          "name": "stdout",
          "text": [
            "[ 2.76450036  2.60208072  2.57552217  2.2404423   0.31812459  2.7476795\n",
            "  2.16174078  4.11921845  1.55139742  2.17566522  1.20028936  0.67277388\n",
            "  5.14708491  2.15984601  1.89490725  3.64676013  2.95779067  0.75379631\n",
            "  0.9246241   2.55077185  1.9885212   5.61721077  1.54818038  4.65815082\n",
            "  3.04018938  0.76416148  3.47334137  2.05490613  3.01032241 -0.41965698\n",
            "  1.66758047  2.82019749  2.99360768  2.91556611  2.79196157  1.43390196\n",
            "  1.60423117  3.02606331  1.32335981  3.63713054]\n"
          ]
        }
      ],
      "source": [
        "samples_1 = np.random.normal(2.7,1.2,40)\n",
        "print(samples_1)"
      ]
    },
    {
      "cell_type": "markdown",
      "metadata": {
        "id": "fJ71J6rRUuhb"
      },
      "source": [
        "3. Sinh mẫu ngẫu nhiên từ vector ['Viet Nam', 'Britain', 'France', 'Russia', 'Singapore'] \n",
        "\n",
        "với kích thước là 17 theo phân phối chuẩn"
      ]
    },
    {
      "cell_type": "code",
      "execution_count": 12,
      "metadata": {
        "id": "tRDqg7x2Uuhc",
        "outputId": "e407738c-d93e-4212-bf30-04400896974e",
        "colab": {
          "base_uri": "https://localhost:8080/"
        }
      },
      "outputs": [
        {
          "output_type": "execute_result",
          "data": {
            "text/plain": [
              "array(['Viet Nam', 'Britain', 'Singapore', 'Singapore', 'France',\n",
              "       'Viet Nam', 'Russia', 'Russia', 'Russia', 'Viet Nam', 'Viet Nam',\n",
              "       'Singapore', 'Russia', 'Singapore', 'Britain', 'Russia', 'Russia'],\n",
              "      dtype='<U9')"
            ]
          },
          "metadata": {},
          "execution_count": 12
        }
      ],
      "source": [
        "np.random.choice(['Viet Nam', 'Britain', 'France', 'Russia', 'Singapore'],size = 17)"
      ]
    },
    {
      "cell_type": "markdown",
      "metadata": {
        "id": "GCpxBDpfUuhc"
      },
      "source": [
        "4. Sinh mẫu ngẫu nhiên ở câu 3 nhưng không theo phân phối chuẩn mà theo 1 vector đặc tả giá trị xác suất do bạn chọn"
      ]
    },
    {
      "cell_type": "code",
      "execution_count": 14,
      "metadata": {
        "id": "_J30TTElUuhc",
        "outputId": "56539645-e434-4ce5-b077-6eecfdd83fd8",
        "colab": {
          "base_uri": "https://localhost:8080/"
        }
      },
      "outputs": [
        {
          "output_type": "execute_result",
          "data": {
            "text/plain": [
              "array(['France', 'Viet Nam', 'Viet Nam', 'Viet Nam', 'Viet Nam',\n",
              "       'Singapore', 'Viet Nam', 'Singapore', 'Russia', 'Viet Nam',\n",
              "       'Viet Nam', 'Britain', 'Viet Nam', 'Britain', 'Russia', 'Viet Nam',\n",
              "       'Viet Nam'], dtype='<U9')"
            ]
          },
          "metadata": {},
          "execution_count": 14
        }
      ],
      "source": [
        "np.random.choice(['Viet Nam', 'Britain', 'France', 'Russia', 'Singapore'],size = 17, p = [0.4,0.1,0.2,0.1,0.2])"
      ]
    },
    {
      "cell_type": "markdown",
      "metadata": {
        "id": "5CqqgYH9Uuhc"
      },
      "source": [
        "Sử dụng thư việc scipy.stats để sinh mẫu ngẫu nhiên\n",
        "\n",
        "1. Sinh mẫu ngẫu nhiên theo phân phối chuẩn với mean = 12.7, std = 2.6 và size = 30. In kết quả ra màn hình"
      ]
    },
    {
      "cell_type": "code",
      "execution_count": 16,
      "metadata": {
        "id": "F3O0Glf4Uuhd",
        "outputId": "6e4b8720-1295-4506-e5e2-a9c843691336",
        "colab": {
          "base_uri": "https://localhost:8080/"
        }
      },
      "outputs": [
        {
          "output_type": "execute_result",
          "data": {
            "text/plain": [
              "array([14.15928358, 10.9375178 , 10.06210108,  9.47660009, 13.09824479,\n",
              "       16.17149015, 16.43381039,  9.35231974, 12.33897728, 13.43234862,\n",
              "       13.35989363, 15.58553987, 14.1156425 , 10.57965339, 11.19868113,\n",
              "        9.63120348, 12.32468762, 17.30797638, 10.84262533, 13.93822627,\n",
              "       12.16443919, 12.1329728 , 10.33678307, 16.00691642, 11.25786541,\n",
              "       14.53922681, 16.08991408, 11.36284645, 14.51173991, 10.87255884])"
            ]
          },
          "metadata": {},
          "execution_count": 16
        }
      ],
      "source": [
        "from scipy import stats\n",
        "stats.norm.rvs(loc = 12.7, scale = 2.6, size = 30)"
      ]
    },
    {
      "cell_type": "markdown",
      "metadata": {
        "id": "eHvcCb32Uuhd"
      },
      "source": [
        "2. Hãy sinh một mẫu ngẫu nhiên theo phân phối Poisson"
      ]
    },
    {
      "cell_type": "code",
      "execution_count": 17,
      "metadata": {
        "id": "2m7KBRMuUuhd",
        "outputId": "d4ffea30-9e67-4849-e4b8-885011c43dc6",
        "colab": {
          "base_uri": "https://localhost:8080/"
        }
      },
      "outputs": [
        {
          "output_type": "stream",
          "name": "stdout",
          "text": [
            "[108 104 100  90  89 110 107 117 101  96  98 103 104 110 116  84  86  77\n",
            " 101  90  96  94  95  97 110  97 111 103 101  74  83  95  94  95 114 114\n",
            " 103 103  94  94 102  99  95  94 102  81 109 102  96  94 105  78  85 114\n",
            "  91  85  99  88 104  92  91 117 102 102 102 102  88 106  98 100  84 102\n",
            "  90  94 107  97 111 109 103 103 108  99  99  89 112  99  86  84  82 102\n",
            " 105  96 110  97  97 111 100  91 128 113]\n"
          ]
        }
      ],
      "source": [
        "np.random.seed(10)\n",
        "a = stats.poisson.rvs(mu = 100, size = 100)\n",
        "print(a)"
      ]
    },
    {
      "cell_type": "code",
      "execution_count": null,
      "metadata": {
        "id": "S7r-FI7lUuhd"
      },
      "outputs": [],
      "source": [
        ""
      ]
    }
  ],
  "metadata": {
    "kernelspec": {
      "display_name": "Python 3",
      "language": "python",
      "name": "python3"
    },
    "language_info": {
      "codemirror_mode": {
        "name": "ipython",
        "version": 3
      },
      "file_extension": ".py",
      "mimetype": "text/x-python",
      "name": "python",
      "nbconvert_exporter": "python",
      "pygments_lexer": "ipython3",
      "version": "3.7.3"
    },
    "colab": {
      "name": "bai-tap-sinh-mau-ngau-nhien.ipynb",
      "provenance": [],
      "include_colab_link": true
    }
  },
  "nbformat": 4,
  "nbformat_minor": 0
}