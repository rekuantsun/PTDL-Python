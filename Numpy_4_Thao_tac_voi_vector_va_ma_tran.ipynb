{
  "nbformat": 4,
  "nbformat_minor": 0,
  "metadata": {
    "colab": {
      "name": "Numpy-4-Thao-tac-voi-vector-va-ma-tran.ipynb",
      "provenance": [],
      "authorship_tag": "ABX9TyNIhVtS8CCmGP6Gxu9UaMqO",
      "include_colab_link": true
    },
    "kernelspec": {
      "name": "python3",
      "display_name": "Python 3"
    },
    "language_info": {
      "name": "python"
    }
  },
  "cells": [
    {
      "cell_type": "markdown",
      "metadata": {
        "id": "view-in-github",
        "colab_type": "text"
      },
      "source": [
        "<a href=\"https://colab.research.google.com/github/rekuantsun/PTDL-Python/blob/main/Numpy_4_Thao_tac_voi_vector_va_ma_tran.ipynb\" target=\"_parent\"><img src=\"https://colab.research.google.com/assets/colab-badge.svg\" alt=\"Open In Colab\"/></a>"
      ]
    },
    {
      "cell_type": "markdown",
      "source": [
        "Bài 1"
      ],
      "metadata": {
        "id": "GXYVXFIKCKUa"
      }
    },
    {
      "cell_type": "code",
      "execution_count": 1,
      "metadata": {
        "colab": {
          "base_uri": "https://localhost:8080/"
        },
        "id": "q8yEwRizB_m7",
        "outputId": "1fa8e515-9f39-47ef-a1e3-1ccc4b26068f"
      },
      "outputs": [
        {
          "output_type": "stream",
          "name": "stdout",
          "text": [
            "[1 2 3 4 5 6 7]\n",
            "so chieu cua vector a:  1\n",
            "so chieu cua vector chuyen vi vector a:  1\n",
            "kich thuoc cua vector a:  (7,)\n",
            "kich thuoc cua vector a chuyen vivector a:  (7,)\n"
          ]
        }
      ],
      "source": [
        "import numpy as np\n",
        "a =np.arange(1,8)\n",
        "print(a)\n",
        "print(\"so chieu cua vector a: \",a.ndim)\n",
        "print(\"so chieu cua vector chuyen vi vector a: \",a.T.ndim)\n",
        "print(\"kich thuoc cua vector a: \",a.shape)\n",
        "print(\"kich thuoc cua vector a chuyen vivector a: \",a.T.shape)"
      ]
    },
    {
      "cell_type": "code",
      "source": [
        "b=np.linspace(0,6,7)\n",
        "print(b)\n",
        "print(\"so chieu cua vector b: \",b.ndim)\n",
        "print(\"so chieu cua vector chuyen vi vector b: \",b.T.ndim)\n",
        "print(\"kich thuoc cua vector b : \",b.shape)\n",
        "print(\"kich thuoc cua vector chuyen vi vector b: \",b.T.shape)"
      ],
      "metadata": {
        "colab": {
          "base_uri": "https://localhost:8080/"
        },
        "id": "WFMOlaJLCNDK",
        "outputId": "c7398ee9-6cac-4612-b4b5-f9165c0f34d5"
      },
      "execution_count": 2,
      "outputs": [
        {
          "output_type": "stream",
          "name": "stdout",
          "text": [
            "[0. 1. 2. 3. 4. 5. 6.]\n",
            "so chieu cua vector b:  1\n",
            "so chieu cua vector chuyen vi vector b:  1\n",
            "kich thuoc cua vector b :  (7,)\n",
            "kich thuoc cua vector chuyen vi vector b:  (7,)\n"
          ]
        }
      ]
    },
    {
      "cell_type": "code",
      "source": [
        "c=np.logspace(1,7,7)\n",
        "print(c)\n",
        "print(\"so chieu cua vector c: \",c.ndim)\n",
        "print(\"so chieu cua vector vector chuyen vi vector c: \",c.T.ndim)\n",
        "print(\"kich thuoc cua vector c: \",c.shape)\n",
        "print(\"kich thuoc cua vector chuyen vi vector c: \",c.T.shape)"
      ],
      "metadata": {
        "colab": {
          "base_uri": "https://localhost:8080/"
        },
        "id": "FXZ6bNe2COyr",
        "outputId": "4b20e0db-f5b6-4aaa-aa79-82be8e1b1441"
      },
      "execution_count": 3,
      "outputs": [
        {
          "output_type": "stream",
          "name": "stdout",
          "text": [
            "[1.e+01 1.e+02 1.e+03 1.e+04 1.e+05 1.e+06 1.e+07]\n",
            "so chieu cua vector c:  1\n",
            "so chieu cua vector vector chuyen vi vector c:  1\n",
            "kich thuoc cua vector c:  (7,)\n",
            "kich thuoc cua vector chuyen vi vector c:  (7,)\n"
          ]
        }
      ]
    },
    {
      "cell_type": "code",
      "source": [
        "d=np.random.rand(7)\n",
        "print(d)\n",
        "print(\"so chieu cua vector d: \",d.ndim)\n",
        "print(\"so chieu cua vector chuyen vi vector d: \",d.T.ndim)\n",
        "print(\"kich thuoc cua vector d: \",d.shape)\n",
        "print(\"kich thuoc cua vector chuyen vi vector d: \",d.T.shape)"
      ],
      "metadata": {
        "colab": {
          "base_uri": "https://localhost:8080/"
        },
        "id": "WZTI53RQCQVh",
        "outputId": "4db39a7e-20c4-4eab-8de6-4c4d21abafeb"
      },
      "execution_count": 4,
      "outputs": [
        {
          "output_type": "stream",
          "name": "stdout",
          "text": [
            "[0.33366994 0.62202478 0.6770331  0.43918713 0.43840911 0.71986926\n",
            " 0.73360781]\n",
            "so chieu cua vector d:  1\n",
            "so chieu cua vector chuyen vi vector d:  1\n",
            "kich thuoc cua vector d:  (7,)\n",
            "kich thuoc cua vector chuyen vi vector d:  (7,)\n"
          ]
        }
      ]
    },
    {
      "cell_type": "markdown",
      "source": [
        "Bài 2"
      ],
      "metadata": {
        "id": "u5fF7dGkCfE-"
      }
    },
    {
      "cell_type": "code",
      "source": [
        "#ham arange()\n",
        "import numpy as np\n",
        "a = np.arange(1,71).reshape(10,7)\n",
        "print(a)\n",
        "print(\"so chieu cua ma tran A: \",a.ndim)\n",
        "print(\"so chieu cua ma tran chuyen vi A: \",a.T.ndim)\n",
        "print(\"so kich thuoc cua ma tran A: \",a.shape)\n",
        "print(\"so kich thuoc cua ma tran chuyen vi A: \",a.T.shape)"
      ],
      "metadata": {
        "colab": {
          "base_uri": "https://localhost:8080/"
        },
        "id": "xR1fOawBCSNq",
        "outputId": "165eeb31-d313-4ef6-a41f-6ae60e2679b9"
      },
      "execution_count": 5,
      "outputs": [
        {
          "output_type": "stream",
          "name": "stdout",
          "text": [
            "[[ 1  2  3  4  5  6  7]\n",
            " [ 8  9 10 11 12 13 14]\n",
            " [15 16 17 18 19 20 21]\n",
            " [22 23 24 25 26 27 28]\n",
            " [29 30 31 32 33 34 35]\n",
            " [36 37 38 39 40 41 42]\n",
            " [43 44 45 46 47 48 49]\n",
            " [50 51 52 53 54 55 56]\n",
            " [57 58 59 60 61 62 63]\n",
            " [64 65 66 67 68 69 70]]\n",
            "so chieu cua ma tran A:  2\n",
            "so chieu cua ma tran chuyen vi A:  2\n",
            "so kich thuoc cua ma tran A:  (10, 7)\n",
            "so kich thuoc cua ma tran chuyen vi A:  (7, 10)\n"
          ]
        }
      ]
    },
    {
      "cell_type": "code",
      "source": [
        "#ham linspace()\n",
        "a = np.linspace(0,70,num=70).reshape(10,7)\n",
        "print(a)\n",
        "print(\"so chieu cua ma tran A: \",a.ndim)\n",
        "print(\"so chieu cua ma tran chuyen vi A: \",a.T.ndim)\n",
        "print(\"so kich thuoc cua ma tran A: \",a.shape)\n",
        "print(\"so kich thuoc cua ma tran chuyen vi A: \",a.T.shape)"
      ],
      "metadata": {
        "colab": {
          "base_uri": "https://localhost:8080/"
        },
        "id": "oDOrraL3CTsH",
        "outputId": "cec46d7d-57fd-49ef-9236-76dc2e43d80d"
      },
      "execution_count": 6,
      "outputs": [
        {
          "output_type": "stream",
          "name": "stdout",
          "text": [
            "[[ 0.          1.01449275  2.02898551  3.04347826  4.05797101  5.07246377\n",
            "   6.08695652]\n",
            " [ 7.10144928  8.11594203  9.13043478 10.14492754 11.15942029 12.17391304\n",
            "  13.1884058 ]\n",
            " [14.20289855 15.2173913  16.23188406 17.24637681 18.26086957 19.27536232\n",
            "  20.28985507]\n",
            " [21.30434783 22.31884058 23.33333333 24.34782609 25.36231884 26.37681159\n",
            "  27.39130435]\n",
            " [28.4057971  29.42028986 30.43478261 31.44927536 32.46376812 33.47826087\n",
            "  34.49275362]\n",
            " [35.50724638 36.52173913 37.53623188 38.55072464 39.56521739 40.57971014\n",
            "  41.5942029 ]\n",
            " [42.60869565 43.62318841 44.63768116 45.65217391 46.66666667 47.68115942\n",
            "  48.69565217]\n",
            " [49.71014493 50.72463768 51.73913043 52.75362319 53.76811594 54.7826087\n",
            "  55.79710145]\n",
            " [56.8115942  57.82608696 58.84057971 59.85507246 60.86956522 61.88405797\n",
            "  62.89855072]\n",
            " [63.91304348 64.92753623 65.94202899 66.95652174 67.97101449 68.98550725\n",
            "  70.        ]]\n",
            "so chieu cua ma tran A:  2\n",
            "so chieu cua ma tran chuyen vi A:  2\n",
            "so kich thuoc cua ma tran A:  (10, 7)\n",
            "so kich thuoc cua ma tran chuyen vi A:  (7, 10)\n"
          ]
        }
      ]
    },
    {
      "cell_type": "code",
      "source": [
        "#hamlogspace()\n",
        "a = np.logspace(0,70,num=70).reshape(10,7)\n",
        "print(a)\n",
        "print(\"so chieu cua ma tran A: \",a.ndim)\n",
        "print(\"so chieu cua ma tran chuyen vi A: \",a.T.ndim)\n",
        "print(\"so kich thuoc cua ma tran A: \",a.shape)\n",
        "print(\"so kich thuoc cua ma tran chuyen vi A: \",a.T.shape)"
      ],
      "metadata": {
        "colab": {
          "base_uri": "https://localhost:8080/"
        },
        "id": "sdY7C0TpCU6c",
        "outputId": "7de02868-220e-4c87-e090-acaec6908ae9"
      },
      "execution_count": 7,
      "outputs": [
        {
          "output_type": "stream",
          "name": "stdout",
          "text": [
            "[[1.00000000e+00 1.03393385e+01 1.06901920e+02 1.10529514e+03\n",
            "  1.14280206e+04 1.18158173e+05 1.22167735e+06]\n",
            " [1.26313356e+07 1.30599655e+08 1.35031404e+09 1.39613539e+10\n",
            "  1.44351164e+11 1.49249555e+12 1.54314166e+13]\n",
            " [1.59550640e+14 1.64964807e+15 1.70562698e+16 1.76350547e+17\n",
            "  1.82334800e+18 1.88522122e+19 1.94919403e+20]\n",
            " [2.01533769e+21 2.08372585e+22 2.15443469e+23 2.22754295e+24\n",
            "  2.30313206e+25 2.38128619e+26 2.46209240e+27]\n",
            " [2.54564067e+28 2.63202406e+29 2.72133877e+30 2.81368427e+31\n",
            "  2.90916341e+32 3.00788252e+33 3.10995155e+34]\n",
            " [3.21548418e+35 3.32459793e+36 3.43741434e+37 3.55405904e+38\n",
            "  3.67466194e+39 3.79935737e+40 3.92828419e+41]\n",
            " [4.06158599e+42 4.19941123e+43 4.34191342e+44 4.48925126e+45\n",
            "  4.64158883e+46 4.79909581e+47 4.96194760e+48]\n",
            " [5.13032558e+49 5.30441728e+50 5.48441658e+51 5.67052394e+52\n",
            "  5.86294665e+53 6.06189899e+54 6.26760256e+55]\n",
            " [6.48028644e+56 6.70018750e+57 6.92755066e+58 7.16262912e+59\n",
            "  7.40568469e+60 7.65698808e+61 7.91681916e+62]\n",
            " [8.18546731e+63 8.46323172e+64 8.75042175e+65 9.04735724e+66\n",
            "  9.35436890e+67 9.67179864e+68 1.00000000e+70]]\n",
            "so chieu cua ma tran A:  2\n",
            "so chieu cua ma tran chuyen vi A:  2\n",
            "so kich thuoc cua ma tran A:  (10, 7)\n",
            "so kich thuoc cua ma tran chuyen vi A:  (7, 10)\n"
          ]
        }
      ]
    },
    {
      "cell_type": "code",
      "source": [
        "#ham random.rand()\n",
        "a = np.random.rand(10,7)\n",
        "print(a)\n",
        "print(\"so chieu cua ma tran A: \",a.ndim)\n",
        "print(\"so chieu cua ma tran chuyen vi A: \",a.T.ndim)\n",
        "print(\"so kich thuoc cua ma tran A: \",a.shape)\n",
        "print(\"so kich thuoc cua ma tran chuyen vi A: \",a.T.shape)"
      ],
      "metadata": {
        "colab": {
          "base_uri": "https://localhost:8080/"
        },
        "id": "7sEYEUn1CWXv",
        "outputId": "6ded0936-bf83-4e4a-bbf3-23c296f2bebf"
      },
      "execution_count": 8,
      "outputs": [
        {
          "output_type": "stream",
          "name": "stdout",
          "text": [
            "[[0.89782132 0.18003771 0.31425101 0.88210996 0.02252659 0.56146826\n",
            "  0.17449176]\n",
            " [0.85895216 0.44817506 0.68206542 0.925624   0.63658118 0.88671392\n",
            "  0.06136695]\n",
            " [0.80179604 0.44221236 0.97349062 0.74988135 0.49501451 0.58714739\n",
            "  0.65815939]\n",
            " [0.47528887 0.05283863 0.22569486 0.04354482 0.39188769 0.13195029\n",
            "  0.61282732]\n",
            " [0.21806095 0.6849011  0.97459312 0.72218908 0.83987645 0.78129324\n",
            "  0.98053262]\n",
            " [0.85405693 0.40485164 0.37936238 0.80041891 0.62578809 0.49750854\n",
            "  0.1818267 ]\n",
            " [0.53519878 0.91523704 0.8326369  0.79504907 0.31825884 0.86599177\n",
            "  0.05272371]\n",
            " [0.51485309 0.26632972 0.04649043 0.13039766 0.8528166  0.08309211\n",
            "  0.28933155]\n",
            " [0.39654553 0.8697451  0.69304694 0.88914697 0.65364465 0.82587116\n",
            "  0.61824713]\n",
            " [0.77876485 0.16819734 0.25426788 0.2270892  0.74645249 0.01040916\n",
            "  0.89260436]]\n",
            "so chieu cua ma tran A:  2\n",
            "so chieu cua ma tran chuyen vi A:  2\n",
            "so kich thuoc cua ma tran A:  (10, 7)\n",
            "so kich thuoc cua ma tran chuyen vi A:  (7, 10)\n"
          ]
        }
      ]
    },
    {
      "cell_type": "markdown",
      "source": [
        "Bài 3"
      ],
      "metadata": {
        "id": "5FVjU0njCawg"
      }
    },
    {
      "cell_type": "code",
      "source": [
        "#chuyen ma tran o cau 2 thanh vector\n",
        "a.flatten()"
      ],
      "metadata": {
        "colab": {
          "base_uri": "https://localhost:8080/"
        },
        "id": "po9Z5Ef4CXx9",
        "outputId": "cb72a1f5-639a-4a04-fbf0-bad88fc04edf"
      },
      "execution_count": 9,
      "outputs": [
        {
          "output_type": "execute_result",
          "data": {
            "text/plain": [
              "array([0.89782132, 0.18003771, 0.31425101, 0.88210996, 0.02252659,\n",
              "       0.56146826, 0.17449176, 0.85895216, 0.44817506, 0.68206542,\n",
              "       0.925624  , 0.63658118, 0.88671392, 0.06136695, 0.80179604,\n",
              "       0.44221236, 0.97349062, 0.74988135, 0.49501451, 0.58714739,\n",
              "       0.65815939, 0.47528887, 0.05283863, 0.22569486, 0.04354482,\n",
              "       0.39188769, 0.13195029, 0.61282732, 0.21806095, 0.6849011 ,\n",
              "       0.97459312, 0.72218908, 0.83987645, 0.78129324, 0.98053262,\n",
              "       0.85405693, 0.40485164, 0.37936238, 0.80041891, 0.62578809,\n",
              "       0.49750854, 0.1818267 , 0.53519878, 0.91523704, 0.8326369 ,\n",
              "       0.79504907, 0.31825884, 0.86599177, 0.05272371, 0.51485309,\n",
              "       0.26632972, 0.04649043, 0.13039766, 0.8528166 , 0.08309211,\n",
              "       0.28933155, 0.39654553, 0.8697451 , 0.69304694, 0.88914697,\n",
              "       0.65364465, 0.82587116, 0.61824713, 0.77876485, 0.16819734,\n",
              "       0.25426788, 0.2270892 , 0.74645249, 0.01040916, 0.89260436])"
            ]
          },
          "metadata": {},
          "execution_count": 9
        }
      ]
    },
    {
      "cell_type": "code",
      "source": [
        "#chuyen vector thanh ma tran\n",
        "a.reshape(10,7)"
      ],
      "metadata": {
        "colab": {
          "base_uri": "https://localhost:8080/"
        },
        "id": "GOcwy8MdCaPn",
        "outputId": "aacda553-60a6-4664-a31f-8de078dcf9df"
      },
      "execution_count": 10,
      "outputs": [
        {
          "output_type": "execute_result",
          "data": {
            "text/plain": [
              "array([[0.89782132, 0.18003771, 0.31425101, 0.88210996, 0.02252659,\n",
              "        0.56146826, 0.17449176],\n",
              "       [0.85895216, 0.44817506, 0.68206542, 0.925624  , 0.63658118,\n",
              "        0.88671392, 0.06136695],\n",
              "       [0.80179604, 0.44221236, 0.97349062, 0.74988135, 0.49501451,\n",
              "        0.58714739, 0.65815939],\n",
              "       [0.47528887, 0.05283863, 0.22569486, 0.04354482, 0.39188769,\n",
              "        0.13195029, 0.61282732],\n",
              "       [0.21806095, 0.6849011 , 0.97459312, 0.72218908, 0.83987645,\n",
              "        0.78129324, 0.98053262],\n",
              "       [0.85405693, 0.40485164, 0.37936238, 0.80041891, 0.62578809,\n",
              "        0.49750854, 0.1818267 ],\n",
              "       [0.53519878, 0.91523704, 0.8326369 , 0.79504907, 0.31825884,\n",
              "        0.86599177, 0.05272371],\n",
              "       [0.51485309, 0.26632972, 0.04649043, 0.13039766, 0.8528166 ,\n",
              "        0.08309211, 0.28933155],\n",
              "       [0.39654553, 0.8697451 , 0.69304694, 0.88914697, 0.65364465,\n",
              "        0.82587116, 0.61824713],\n",
              "       [0.77876485, 0.16819734, 0.25426788, 0.2270892 , 0.74645249,\n",
              "        0.01040916, 0.89260436]])"
            ]
          },
          "metadata": {},
          "execution_count": 10
        }
      ]
    },
    {
      "cell_type": "markdown",
      "source": [
        "Bài 4"
      ],
      "metadata": {
        "id": "_EpiB1zCC7MN"
      }
    },
    {
      "cell_type": "code",
      "source": [
        "import numpy as np\n",
        "a = np.logspace(0,150,num=150).reshape(10,15)\n",
        "print(a)\n",
        "print(\"hang thu 3 cua ma tran a: \", a[2:3])\n",
        "print(\"cot thu 5 cua ma tran a: \", a[:,4:5])"
      ],
      "metadata": {
        "colab": {
          "base_uri": "https://localhost:8080/"
        },
        "id": "2b8R-2eeC4yM",
        "outputId": "c35f637a-069e-4b00-f3ad-df6bbbfa0d47"
      },
      "execution_count": 11,
      "outputs": [
        {
          "output_type": "stream",
          "name": "stdout",
          "text": [
            "[[1.00000000e+000 1.01557362e+001 1.03138977e+002 1.04745224e+003\n",
            "  1.06376485e+004 1.08033152e+005 1.09715619e+006 1.11424288e+007\n",
            "  1.13159567e+008 1.14921870e+009 1.16711619e+010 1.18529241e+011\n",
            "  1.20375170e+012 1.22249846e+013 1.24153719e+014]\n",
            " [1.26087241e+015 1.28050875e+016 1.30045090e+017 1.32070362e+018\n",
            "  1.34127175e+019 1.36216020e+020 1.38337396e+021 1.40491810e+022\n",
            "  1.42679775e+023 1.44901815e+024 1.47158460e+025 1.49450249e+026\n",
            "  1.51777730e+027 1.54141458e+028 1.56541998e+029]\n",
            " [1.58979923e+030 1.61455815e+031 1.63970266e+032 1.66523876e+033\n",
            "  1.69117254e+034 1.71751022e+035 1.74425806e+036 1.77142246e+037\n",
            "  1.79900992e+038 1.82702700e+039 1.85548042e+040 1.88437696e+041\n",
            "  1.91372352e+042 1.94352711e+043 1.97379486e+044]\n",
            " [2.00453398e+045 2.03575182e+046 2.06745584e+047 2.09965360e+048\n",
            "  2.13235280e+049 2.16556124e+050 2.19928686e+051 2.23353771e+052\n",
            "  2.26832196e+053 2.30364794e+054 2.33952406e+055 2.37595891e+056\n",
            "  2.41296118e+057 2.45053971e+058 2.48870348e+059]\n",
            " [2.52746159e+060 2.56682330e+061 2.60679802e+062 2.64739529e+063\n",
            "  2.68862481e+064 2.73049642e+065 2.77302012e+066 2.81620607e+067\n",
            "  2.86006458e+068 2.90460612e+069 2.94984134e+070 2.99578103e+071\n",
            "  3.04243618e+072 3.08981791e+073 3.13793754e+074]\n",
            " [3.18680658e+075 3.23643668e+076 3.28683970e+077 3.33802767e+078\n",
            "  3.39001283e+079 3.44280759e+080 3.49642455e+081 3.55087652e+082\n",
            "  3.60617651e+083 3.66233771e+084 3.71937355e+085 3.77729765e+086\n",
            "  3.83612383e+087 3.89586614e+088 3.95653887e+089]\n",
            " [4.01815648e+090 4.08073370e+091 4.14428548e+092 4.20882699e+093\n",
            "  4.27437364e+094 4.34094109e+095 4.40854524e+096 4.47720223e+097\n",
            "  4.54692846e+098 4.61774057e+099 4.68965549e+100 4.76269038e+101\n",
            "  4.83686269e+102 4.91219013e+103 4.98869069e+104]\n",
            " [5.06638264e+105 5.14528453e+106 5.22541521e+107 5.30679382e+108\n",
            "  5.38943979e+109 5.47337285e+110 5.55861305e+111 5.64518076e+112\n",
            "  5.73309663e+113 5.82238167e+114 5.91305720e+115 6.00514488e+116\n",
            "  6.09866670e+117 6.19364499e+118 6.29010244e+119]\n",
            " [6.38806207e+120 6.48754729e+121 6.58858186e+122 6.69118990e+123\n",
            "  6.79539592e+124 6.90122480e+125 7.00870182e+126 7.11785265e+127\n",
            "  7.22870335e+128 7.34128040e+129 7.45561067e+130 7.57172149e+131\n",
            "  7.68964057e+132 7.80939607e+133 7.93101660e+134]\n",
            " [8.05453121e+135 8.17996938e+136 8.30736107e+137 8.43673672e+138\n",
            "  8.56812721e+139 8.70156393e+140 8.83707874e+141 8.97470401e+142\n",
            "  9.11447260e+143 9.25641789e+144 9.40057378e+145 9.54697470e+146\n",
            "  9.69565562e+147 9.84665203e+148 1.00000000e+150]]\n",
            "hang thu 3 cua ma tran a:  [[1.58979923e+30 1.61455815e+31 1.63970266e+32 1.66523876e+33\n",
            "  1.69117254e+34 1.71751022e+35 1.74425806e+36 1.77142246e+37\n",
            "  1.79900992e+38 1.82702700e+39 1.85548042e+40 1.88437696e+41\n",
            "  1.91372352e+42 1.94352711e+43 1.97379486e+44]]\n",
            "cot thu 5 cua ma tran a:  [[1.06376485e+004]\n",
            " [1.34127175e+019]\n",
            " [1.69117254e+034]\n",
            " [2.13235280e+049]\n",
            " [2.68862481e+064]\n",
            " [3.39001283e+079]\n",
            " [4.27437364e+094]\n",
            " [5.38943979e+109]\n",
            " [6.79539592e+124]\n",
            " [8.56812721e+139]]\n"
          ]
        }
      ]
    },
    {
      "cell_type": "markdown",
      "source": [
        "Bài 5"
      ],
      "metadata": {
        "id": "bEqMs2J-C_Ak"
      }
    },
    {
      "cell_type": "code",
      "source": [
        "import numpy as np\n",
        "\n",
        "#Ham tinh gia tri trung binh: np.mean()\n",
        "x = np.array([1,2,3,4,5])\n",
        "print(\"tinh gia tri trung binh: \",np.mean(x))\n",
        "\n",
        "#Ham tinh gia tri trung vi : np.median()\n",
        "X = np.array([2, 5, 3, 4,1, 7])\n",
        "print(\"tinh gia tri trung vi: \",np.median(X))\n",
        "\n",
        "#Ham tinh gia tri yeu vi : np.nanmedian()\n",
        "y = np.array([2, 5, 3, 4,1, 7,np.nan])\n",
        "print(\"tinh gia tri yeu vi: \",np.nanmedian(y))\n",
        "\n",
        "#Ham tinh phuong sai : np.var()\n",
        "Y = np.array([1,2,4,6,7])\n",
        "print(\"tinh phuong sai: \",np.var(Y))\n",
        "\n",
        "#Ham tinh do lech chuan : np.std()\n",
        "print(\"tinh do lech chuan: \", np.std(Y))"
      ],
      "metadata": {
        "colab": {
          "base_uri": "https://localhost:8080/"
        },
        "id": "JpNw1MczC6p_",
        "outputId": "4da64373-e831-4936-be55-5738f0379a29"
      },
      "execution_count": 12,
      "outputs": [
        {
          "output_type": "stream",
          "name": "stdout",
          "text": [
            "tinh gia tri trung binh:  3.0\n",
            "tinh gia tri trung vi:  3.5\n",
            "tinh gia tri yeu vi:  3.5\n",
            "tinh phuong sai:  5.2\n",
            "tinh do lech chuan:  2.280350850198276\n"
          ]
        }
      ]
    },
    {
      "cell_type": "code",
      "source": [
        "#GT do lech chuan\n",
        "a = np.arange(1,151).reshape(15,10)\n",
        "print(a)\n",
        "print(\"do lech chuan tung hang cua ma tran a: \",np.std(a,axis=1))\n",
        "print(\"do lech chuan tung cot cua ma tran a: \",np.std(a,axis =0))"
      ],
      "metadata": {
        "id": "q1Gf08UrDE19",
        "outputId": "f0ae4acc-8a90-4a7e-d480-c547aac67ba8",
        "colab": {
          "base_uri": "https://localhost:8080/"
        }
      },
      "execution_count": 13,
      "outputs": [
        {
          "output_type": "stream",
          "name": "stdout",
          "text": [
            "[[  1   2   3   4   5   6   7   8   9  10]\n",
            " [ 11  12  13  14  15  16  17  18  19  20]\n",
            " [ 21  22  23  24  25  26  27  28  29  30]\n",
            " [ 31  32  33  34  35  36  37  38  39  40]\n",
            " [ 41  42  43  44  45  46  47  48  49  50]\n",
            " [ 51  52  53  54  55  56  57  58  59  60]\n",
            " [ 61  62  63  64  65  66  67  68  69  70]\n",
            " [ 71  72  73  74  75  76  77  78  79  80]\n",
            " [ 81  82  83  84  85  86  87  88  89  90]\n",
            " [ 91  92  93  94  95  96  97  98  99 100]\n",
            " [101 102 103 104 105 106 107 108 109 110]\n",
            " [111 112 113 114 115 116 117 118 119 120]\n",
            " [121 122 123 124 125 126 127 128 129 130]\n",
            " [131 132 133 134 135 136 137 138 139 140]\n",
            " [141 142 143 144 145 146 147 148 149 150]]\n",
            "do lech chuan tung hang cua ma tran a:  [2.87228132 2.87228132 2.87228132 2.87228132 2.87228132 2.87228132\n",
            " 2.87228132 2.87228132 2.87228132 2.87228132 2.87228132 2.87228132\n",
            " 2.87228132 2.87228132 2.87228132]\n",
            "do lech chuan tung cot cua ma tran a:  [43.20493799 43.20493799 43.20493799 43.20493799 43.20493799 43.20493799\n",
            " 43.20493799 43.20493799 43.20493799 43.20493799]\n"
          ]
        }
      ]
    },
    {
      "cell_type": "code",
      "source": [
        ""
      ],
      "metadata": {
        "id": "-A4Y0R1nDFLS"
      },
      "execution_count": null,
      "outputs": []
    }
  ]
}