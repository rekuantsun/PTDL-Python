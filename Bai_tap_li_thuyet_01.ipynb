{
  "nbformat": 4,
  "nbformat_minor": 0,
  "metadata": {
    "colab": {
      "name": "Bai-tap-li-thuyet-01.ipynb",
      "provenance": [],
      "authorship_tag": "ABX9TyO8V1St1HA9panpRG0piO7z",
      "include_colab_link": true
    },
    "kernelspec": {
      "name": "python3",
      "display_name": "Python 3"
    },
    "language_info": {
      "name": "python"
    }
  },
  "cells": [
    {
      "cell_type": "markdown",
      "metadata": {
        "id": "view-in-github",
        "colab_type": "text"
      },
      "source": [
        "<a href=\"https://colab.research.google.com/github/rekuantsun/PTDL-Python/blob/main/Bai_tap_li_thuyet_01.ipynb\" target=\"_parent\"><img src=\"https://colab.research.google.com/assets/colab-badge.svg\" alt=\"Open In Colab\"/></a>"
      ]
    },
    {
      "cell_type": "markdown",
      "source": [
        "**BÀI TẬP TỰ HỌC VỀ KIỂM ĐỊNH A/B**\n",
        "\n",
        "Sinh viên sử dụng tài liệu tham khảo \"Practical Statistics ...\", Chương 3 để hoàn thành các yêu cầu sau."
      ],
      "metadata": {
        "id": "VRLOWosluRRR"
      }
    },
    {
      "cell_type": "markdown",
      "source": [
        "**Câu 1**: Trả lời các câu hỏi lý thuyết sau:\n",
        "\n",
        "\n",
        "1.   Kiểm định A/B là gì?\n",
        "2.   Thuật ngữ treatment trong ngữ cảnh của thống kê có thể dịch sang tiếng Việt không? nếu có thì là gì?\n",
        "3.   Nêu định nghĩa về treatment\n",
        "4.   Control group là gì? vai trò trong thí nghiệm của kiểm định A/B?\n",
        "5.   Treament group là gì? vai trò trong thí nghiệm của kiểm định A/B?\n",
        "6.   Hãy liệt kê một số kiểm định A/B trong thực tế?\n"
      ],
      "metadata": {
        "id": "cCSu_bQuur9H"
      }
    },
    {
      "cell_type": "markdown",
      "source": [
        "**Câu trả lời:**\n",
        "\n",
        "1. Kiểm định A/B là một thí nghiệm với 2 nhóm được lập nên bởi 2 đối tượng so sánh, sản xuất, thủ tục hoặc tương tự là vượt trội.\n",
        "\n",
        "2. Thuật ngữ treatment trong ngữ cảnh của thống kê có thể dịch sang Tiếng Việt, với nghĩa là \"phương pháp\".\n",
        "\n",
        "3. \"Phương pháp\" là những yếu tố sẽ ảnh hưởng đến sự thuận lợi hay không của các đối tượng kiểm định.\n",
        "\n",
        "4. Control group là  một nhóm gồm các đối tượng trình bày phương pháp tiêu chuẩn (hoặc không tiêu chuẩn).\n",
        "\n",
        "  Vai trò:\n",
        "\n",
        "  Khi bạn có một nhóm kiểm soát, nó phải tuân theo các điều kiện tương tự (ngoại trừ the treament of interest) như nhóm phương pháp. Nếu chỉ đơn giản so sánh với \"cơ bản\" hoặc kinh nghiệm trước đó, thì các yếu tố khác, ngoài phương pháp, có thể khác.\n",
        "\n",
        "5. Treament group là một nhóm gồm các đối tượng để trình bày cụ thể một phương pháp.\n",
        "\n",
        "\n",
        "6. Một số kiểm định A/B trong thực tế:\n",
        "- Thử nghiệm hai phương pháp xử lý đất để xác định xem hạt nào nảy mầm tốt hơn.\n",
        "- Thử nghiệm hai liệu pháp để xác định phương pháp nào ngăn chặn ung thư hiệu quả hơn.\n",
        "- Kiểm tra hai mức giá để xác định giá nào mang lại nhiều lợi nhuận ròng hơn.\n",
        "- Kiểm tra hai tiêu đề web để xác định tiêu đề nào tạo ra nhiều nhấp chuột hơn.\n",
        "- Thử nghiệm hai quảng cáo web để xác định quảng cáo nào tạo ra nhiều chuyển đổi hơn."
      ],
      "metadata": {
        "id": "F1t-oIeDus5H"
      }
    },
    {
      "cell_type": "markdown",
      "source": [
        "**Câu 2**: Tại sao không có kiểm định A/B/C/D?"
      ],
      "metadata": {
        "id": "AKhNlJ11P71I"
      }
    },
    {
      "cell_type": "markdown",
      "source": [
        "- Chi phí thực hiện kiểm định cao.\n",
        "- Đối tượng thử nghiệm khan hiếm.\n",
        "- Tốn nhiều thời gian.\n"
      ],
      "metadata": {
        "id": "jBU_gV6GYGmK"
      }
    },
    {
      "cell_type": "markdown",
      "source": [
        "**Câu 3**: Lý thuyết về kiểm định giả thuyết. Trả lời các câu hỏi sau:\n",
        "\n",
        "\n",
        "1.   Nêu định nghĩa về kiểm định giả thuyết\n",
        "2.   Giả thuyết null là gì? cho ví dụ\n",
        "3.   Giả thuyết thay thế là gì? cho ví dụ\n",
        "4.   Kiểm định 1 chiều (hay 1 đuôi) là gì? cho ví dụ\n",
        "5.   Kiểm định 2 chiều (hay 2 đuôi) là gì?cho ví dụ\n",
        "6.   Nêu điểm khác biệt giữa kiểm định 1 chiều so với kiểm định 2 chiều?\n"
      ],
      "metadata": {
        "id": "GGv2LX7uP9Fg"
      }
    },
    {
      "cell_type": "markdown",
      "source": [
        ""
      ],
      "metadata": {
        "id": "68fxEWlyZj1E"
      }
    },
    {
      "cell_type": "markdown",
      "source": [
        "**Câu 4**: Lý thuyết về lấy mẫu (sampling). \n",
        "\n",
        "\n",
        "1.   Sampling là gì? cho ví dụ\n",
        "2.   Resampling là gì? cho ví dụ?\n",
        "3.   Hãy mô tả kỹ thuật permutation (hoặc quy trình của permutation test)? Xây dựng đoạn code lập trình permutation test\n"
      ],
      "metadata": {
        "id": "SniA2bCOQAa_"
      }
    }
  ]
}