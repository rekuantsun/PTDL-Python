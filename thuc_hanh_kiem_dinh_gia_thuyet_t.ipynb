{
  "nbformat": 4,
  "nbformat_minor": 0,
  "metadata": {
    "colab": {
      "name": "thuc-hanh-kiem-dinh-gia-thuyet-t.ipynb",
      "provenance": [],
      "authorship_tag": "ABX9TyNsXptkfFeeR+IhFXBpXOj1",
      "include_colab_link": true
    },
    "kernelspec": {
      "name": "python3",
      "display_name": "Python 3"
    },
    "language_info": {
      "name": "python"
    }
  },
  "cells": [
    {
      "cell_type": "markdown",
      "metadata": {
        "id": "view-in-github",
        "colab_type": "text"
      },
      "source": [
        "<a href=\"https://colab.research.google.com/github/rekuantsun/PTDL-Python/blob/main/thuc_hanh_kiem_dinh_gia_thuyet_t.ipynb\" target=\"_parent\"><img src=\"https://colab.research.google.com/assets/colab-badge.svg\" alt=\"Open In Colab\"/></a>"
      ]
    },
    {
      "cell_type": "markdown",
      "source": [
        "1. Các thư viện cần để tiến hành kiểm định giả thuyết t"
      ],
      "metadata": {
        "id": "QA2laLuyLwuN"
      }
    },
    {
      "cell_type": "code",
      "execution_count": 1,
      "metadata": {
        "id": "jNKqzCOULlOT",
        "colab": {
          "base_uri": "https://localhost:8080/"
        },
        "outputId": "0417545e-21a5-4463-9d0a-55cddc0c8a0a"
      },
      "outputs": [
        {
          "output_type": "stream",
          "name": "stderr",
          "text": [
            "/usr/local/lib/python3.7/dist-packages/statsmodels/tools/_testing.py:19: FutureWarning: pandas.util.testing is deprecated. Use the functions in the public API at pandas.testing instead.\n",
            "  import pandas.util.testing as tm\n"
          ]
        }
      ],
      "source": [
        "import numpy as np\n",
        "import pandas as pd\n",
        "import random\n",
        "from scipy import stats\n",
        "from statsmodels.stats.weightstats import ztest\n",
        "import statsmodels as sm\n",
        "import warnings\n",
        "import matplotlib.pyplot as plt\n",
        "import seaborn as sns\n",
        "%matplotlib inline"
      ]
    },
    {
      "cell_type": "markdown",
      "source": [
        "2. Thiết lập định dạng hình ảnh"
      ],
      "metadata": {
        "id": "YMU483UVM3vV"
      }
    },
    {
      "cell_type": "code",
      "source": [
        "sns.set(rc={'figure.figsize':(13, 7.5)})\n",
        "sns.set_context('talk')"
      ],
      "metadata": {
        "id": "Ne-GY60UL5HV"
      },
      "execution_count": 2,
      "outputs": []
    },
    {
      "cell_type": "markdown",
      "source": [
        "3. Tắt các thông báo lỗi của spicy"
      ],
      "metadata": {
        "id": "oQkYPWbyM9Wt"
      }
    },
    {
      "cell_type": "code",
      "source": [
        "warnings.filterwarnings('ignore')"
      ],
      "metadata": {
        "id": "xr1YX71sM8mG"
      },
      "execution_count": 3,
      "outputs": []
    },
    {
      "cell_type": "markdown",
      "source": [
        "Quy trình kiểm định:\n",
        "\n",
        "Bước 1: Thực hiện các phép đo, hay thu thập dữ liệu quan sát\n",
        "\n",
        "Bước 2: Phát biểu giả thuyết  H0  và giả thuyết thay thế  Ha \n",
        "\n",
        "Bước 3: Xác định mức  α  (hay khoảng tin cậy)\n",
        "\n",
        "Bước 4: Lấy mẫu và tính toán các đại lượng thống kê của mẫu\n",
        "\n",
        "Bước 5: Thực hiện kiểm định t (t-test)\n",
        "\n",
        "Bước 6: Kết luận dựa vào kết quả kiểm định"
      ],
      "metadata": {
        "id": "o8Y3o9KhmVx3"
      }
    },
    {
      "cell_type": "markdown",
      "source": [
        "**KIỂM ĐỊNH GIẢ THUYẾT T MỘT MẪU**"
      ],
      "metadata": {
        "id": "XbIAKjnBgTmW"
      }
    },
    {
      "cell_type": "markdown",
      "source": [
        "**Kiểm định 1 đuôi**"
      ],
      "metadata": {
        "id": "NGP_YC0kmZPd"
      }
    },
    {
      "cell_type": "markdown",
      "source": [
        "**Bài toán:** Xét độ tuổi của 20 công nhân trong một công xưởng có độ tuổi trung bình là 24 và độ lệch chuẩn của nhóm này là 6. Nhưng qua khảo sát thấy độ tuổi trung bình trong công xưởng là 27. Với sig = .05 liệu độ tuổi trung bình của xưởng nhỏ hơn 27 hay không ?"
      ],
      "metadata": {
        "id": "7QMdRVBag3VZ"
      }
    },
    {
      "cell_type": "markdown",
      "source": [
        "Xây dựng giả thuyết:\n",
        "\n",
        "$$H_{0}: \\mu = 27 $$\n",
        "\n",
        "Giả thuyết thay thế: \n",
        "\n",
        "$$H_{a}: \\mu < 27 $$\n",
        "\n",
        "với:\n",
        "\n",
        "- Hệ số Sig = .05 \n",
        "\n",
        "- Chỉ số t tương ứng hệ số sig ở trên bằng 1.729.\n",
        "\n",
        "Công thức:\n",
        "\n",
        "$$t = \\frac{(\\overline{\\rm x} - \\mu)}{(s / \\sqrt{n})}$$\n",
        "\n",
        "Áp dụng với các giá trị nêu trên:\n",
        "\n",
        "- $\\overline{\\rm x} = 27$\n",
        "- $\\mu = 24$\n",
        "- $s = 6$\n",
        "- $\\alpha = 0.05$\n",
        "- $n =20$\n",
        "\n",
        "Thay giá trị vào công thức ta có:\n",
        "\n",
        "$$t = \\frac{(27 - 24)}{(6 / \\sqrt{20})} \\approx 2.236$$\n",
        "\n",
        "VÌ $t$ > 1.729. Do đó không có bằng chứng để bác bỏ giả thuyết $H_0$  \n"
      ],
      "metadata": {
        "id": "wW4Gfbx5noqf"
      }
    },
    {
      "cell_type": "markdown",
      "source": [
        "**Lập trình bài toán**"
      ],
      "metadata": {
        "id": "_QZ8Ru6OdZce"
      }
    },
    {
      "cell_type": "code",
      "source": [
        "#Tạo một mẫu ngẫu nhiên tuân theo phân phối t\n",
        "samples = np.random.normal(24,6,20)\n",
        "print(samples)"
      ],
      "metadata": {
        "id": "7JsRC9VkNDQU",
        "colab": {
          "base_uri": "https://localhost:8080/"
        },
        "outputId": "350faf4b-baab-45d2-bad2-a709aec78898"
      },
      "execution_count": 4,
      "outputs": [
        {
          "output_type": "stream",
          "name": "stdout",
          "text": [
            "[18.25795711 28.5950355  23.96403962 18.65971573 26.73369693 34.35093903\n",
            " 23.03553289 29.11387522 22.78424336 20.43089273 27.47286507 29.22352369\n",
            " 24.37375138 24.08322654 29.31812054 30.95049301 25.63166425 25.4618957\n",
            " 25.21332658 24.84944529]\n"
          ]
        }
      ]
    },
    {
      "cell_type": "code",
      "source": [
        "#Các thông số\n",
        "null_mean = 27\n",
        "alpha = 0.05"
      ],
      "metadata": {
        "id": "OeKNfbkZd6a2"
      },
      "execution_count": 5,
      "outputs": []
    },
    {
      "cell_type": "code",
      "source": [
        "#Kiểm định t\n",
        "t_value,p_value=stats.ttest_1samp(samples,null_mean)\n",
        "print ('P-value của kiểm định t 1 mẫu 1 đuôi là',p_value/2)\n",
        "if(p_value/2 <  alpha):\n",
        "  print(\"Có bằng chứng để bác bỏ giả thuyết H0\")\n",
        "else:\n",
        "  print(\"Chưa có bằng chứng để bác bỏ giả thuyết H0\")\n"
      ],
      "metadata": {
        "colab": {
          "base_uri": "https://localhost:8080/"
        },
        "id": "Vq7LSzlbec4l",
        "outputId": "11f269f0-cdfd-4eb0-a20e-5662f3d05af7"
      },
      "execution_count": 6,
      "outputs": [
        {
          "output_type": "stream",
          "name": "stdout",
          "text": [
            "P-value của kiểm định t 1 mẫu 1 đuôi là 0.07184883895795255\n",
            "Chưa có bằng chứng để bác bỏ giả thuyết H0\n"
          ]
        }
      ]
    },
    {
      "cell_type": "markdown",
      "source": [
        "**Kiểm định 2 đuôi**"
      ],
      "metadata": {
        "id": "bA58t4xii2or"
      }
    },
    {
      "cell_type": "markdown",
      "source": [
        "**Bài toán:** Xét độ tuổi của 20 công nhân trong một công xưởng có độ tuổi trung bình là 24 và độ lệch chuẩn của nhóm này là 6. Nhưng qua khảo sát thấy độ tuổi trung bình trong công xưởng là 27. Với sig = .05 liệu độ tuổi trung bình của nhóm có khác biệt với xưởng hay không ?\n",
        "\n",
        "Xây dựng giả thuyết:\n",
        "\n",
        "$$H_{0}: \\mu_{A} = 27$$\n",
        "\n",
        "Giả thuyết thay thế:\n",
        "\n",
        "$$H_{a}: \\mu_{A} \\neq 27$$\n",
        "\n",
        "với:\n",
        "\n",
        "- Hệ số Sig = .05 \n",
        "\n",
        "- Chỉ số t tương ứng hệ số sig ở trên bằng 2.093.\n",
        "\n",
        "Công thức:\n",
        "\n",
        "$$t = \\frac{(\\overline{\\rm x} - \\mu)}{(s / \\sqrt{n})}$$\n",
        "\n",
        "Áp dụng với các giá trị nêu trên:\n",
        "\n",
        "- $\\overline{\\rm x} = 27$\n",
        "- $\\mu = 24$\n",
        "- $s = 6$\n",
        "- $\\alpha = 0.05$\n",
        "- $n =20$\n",
        "\n",
        "Thay giá trị vào công thức ta có:\n",
        "\n",
        "$$t = \\frac{(27 - 24)}{(6 / \\sqrt{20})} \\approx 2.236$$\n",
        "\n",
        "VÌ $t$ > 2.093. Do đó không có bằng chứng để bác bỏ giả thuyết $H_0$  \n",
        "\n"
      ],
      "metadata": {
        "id": "22-wllLRw9d0"
      }
    },
    {
      "cell_type": "code",
      "source": [
        "#Tạo một mẫu ngẫu nhiên tuân theo phân phối t\n",
        "samples = np.random.normal(24,6,20)\n",
        "print(samples)"
      ],
      "metadata": {
        "colab": {
          "base_uri": "https://localhost:8080/"
        },
        "id": "J8-s5V-YqsxG",
        "outputId": "982ad0f4-1930-4b0d-bafa-6fc1143ceef6"
      },
      "execution_count": 11,
      "outputs": [
        {
          "output_type": "stream",
          "name": "stdout",
          "text": [
            "[27.94068667 13.20852251 32.52312279 13.55218464 37.32409268 29.69343784\n",
            " 21.58869308 12.88158008 38.06289674 31.35347348 28.85654367 26.76874841\n",
            " 29.458268   19.75769518 19.97041345 16.34398164 32.27153279 32.78197433\n",
            " 24.97216073 34.7881783 ]\n"
          ]
        }
      ]
    },
    {
      "cell_type": "code",
      "source": [
        "#Các thông số\n",
        "null_mean = 27\n",
        "alpha = 0.05"
      ],
      "metadata": {
        "id": "LsVyBEy-qp5s"
      },
      "execution_count": 12,
      "outputs": []
    },
    {
      "cell_type": "code",
      "source": [
        "#Kiểm định t\n",
        "t_value,p_value=stats.ttest_1samp(samples,null_mean)\n",
        "print ('P-value của kiểm định t 1 mẫu 2 đuôi là',p_value)\n",
        "if(p_value <  alpha):\n",
        "  print(\"Có bằng chứng để bác bỏ giả thuyết H0\")\n",
        "else:\n",
        "  print(\"Chưa có bằng chứng để bác bỏ giả thuyết H0\")"
      ],
      "metadata": {
        "id": "05ktKz2rkHVg",
        "colab": {
          "base_uri": "https://localhost:8080/"
        },
        "outputId": "b5e2e934-bc01-47ed-de79-afc1b835f3b4"
      },
      "execution_count": 17,
      "outputs": [
        {
          "output_type": "stream",
          "name": "stdout",
          "text": [
            "P-value của kiểm định t 1 mẫu 2 đuôi là 0.6628272742607808\n",
            "0.6628272742607808\n",
            "Chưa có bằng chứng để bác bỏ giả thuyết H0\n"
          ]
        }
      ]
    },
    {
      "cell_type": "markdown",
      "source": [
        "**KIỂM ĐỊNH GIẢ THUYẾT T 2 MẪU**"
      ],
      "metadata": {
        "id": "Bj4F6jcssWak"
      }
    },
    {
      "cell_type": "markdown",
      "source": [
        "**Bài toán:** So sánh chiều cao trung bình của 2 nhóm cây A và B. Biết, chiều cao trung bình của 20 cây nhóm A là 170 cm và độ lệch chuẩn mẫu là 5cm, chiều cao trung bình của 20 cây nhóm B là 165 và độ lệch chuẩn mẫu là 6cm. Với sig = .05.\n",
        "\n",
        "Xây dựng giả thuyết:\n",
        "\\begin{align}\n",
        "        H_0: μ_A = μ_B\n",
        "    \\end{align}\n",
        "\n",
        "Giả thuyết thay thế:\n",
        "\\begin{align}\n",
        "        H_a: μ_A \\ne μ_B\n",
        "    \\end{align}\n",
        "\n",
        "α = 0.05\n",
        "\n",
        "Chỉ số t với bậc tự do 19 (20-1) tương ứng với α/2 = 0.025 là 2.093 (Tra bảng phân phối t)\n",
        "\n",
        "Công thức:\n",
        "$$t = \\frac{(\\overline{\\rm X}_1 - \\overline{\\rm X}_2)}{\\sqrt{\\frac{S_1^2}{n_1} + \\frac{S_2^2}{n_2}}}$$\n",
        "\n",
        "Với:\n",
        "- $\\overline{\\rm X}_1$: trung bình mẫu ban đầu (170)\n",
        "- $\\overline{\\rm X}_2$: trung bình của mẫu cần so sánh (165)\n",
        "- $S_1$: độ lệch chuẩn hiệu chỉnh mẫu ban đầu (5)\n",
        "- $S_2$: độ lệch chuẩn hiệu chỉnh mẫu cần so sánh (6)\n",
        "- $n_1$: cỡ mẫu của mẫu ban đầu (20)\n",
        "- $n_2$: cỡ mẫu của mẫu cần so sánh (20)\n",
        "\n",
        "Thay giá trị vào công thức ta có:\n",
        "\n",
        "$$t = \\frac{(170 - 165)}{\\sqrt{\\frac{5^2}{20} + \\frac{6^2}{20}}} \\approx 2.862$$\n",
        "\n",
        "\n",
        "VÌ $|t_{qs}|$ > 2.093. Do đó có bằng chứng để bác bỏ giả thuyết $H_0$ "
      ],
      "metadata": {
        "id": "_DsI3UGktmIt"
      }
    },
    {
      "cell_type": "code",
      "source": [
        "# Sinh các mẫu:\n",
        "sample_A = np.random.normal(loc = 170, scale = 5, size = 20)\n",
        "sample_B = np.random.normal(loc = 165, scale = 6, size = 20)"
      ],
      "metadata": {
        "id": "IpvKJ4uKpvuB"
      },
      "execution_count": 18,
      "outputs": []
    },
    {
      "cell_type": "code",
      "source": [
        "# Xác định mức ý nghĩa:\n",
        "sig = 0.05"
      ],
      "metadata": {
        "id": "c0Ztx3Zqv6G9"
      },
      "execution_count": 19,
      "outputs": []
    },
    {
      "cell_type": "code",
      "source": [
        "# Tiến hành kiểm định t:\n",
        "t_statistic, p_value = stats.ttest_ind(sample_A, sample_B)\n",
        "print('p-value:',p_value)\n",
        "if p_value < sig:\n",
        "    print(\"Có bằng chứng để bác bỏ giả thuyết H0\")\n",
        "else:\n",
        "    print(\"Chưa có bằng chứng để bác bỏ giả thuyết H0\")"
      ],
      "metadata": {
        "colab": {
          "base_uri": "https://localhost:8080/"
        },
        "id": "HJs9vn9Sv70E",
        "outputId": "99752d05-cb12-4365-96d4-83025fd49198"
      },
      "execution_count": 20,
      "outputs": [
        {
          "output_type": "stream",
          "name": "stdout",
          "text": [
            "p-value: 0.0417638962492436\n",
            "Có bằng chứng để bác bỏ giả thuyết H0\n"
          ]
        }
      ]
    },
    {
      "cell_type": "code",
      "source": [
        ""
      ],
      "metadata": {
        "id": "BOu4x_NxwBWz"
      },
      "execution_count": null,
      "outputs": []
    }
  ]
}