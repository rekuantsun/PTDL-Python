{
  "nbformat": 4,
  "nbformat_minor": 0,
  "metadata": {
    "colab": {
      "name": "thuc-hanh-f-test.ipynb",
      "provenance": [],
      "authorship_tag": "ABX9TyOMk2sOW0M1Y/keSSjEtWv6",
      "include_colab_link": true
    },
    "kernelspec": {
      "name": "python3",
      "display_name": "Python 3"
    },
    "language_info": {
      "name": "python"
    }
  },
  "cells": [
    {
      "cell_type": "markdown",
      "metadata": {
        "id": "view-in-github",
        "colab_type": "text"
      },
      "source": [
        "<a href=\"https://colab.research.google.com/github/rekuantsun/PTDL-Python/blob/main/thuc_hanh_f_test.ipynb\" target=\"_parent\"><img src=\"https://colab.research.google.com/assets/colab-badge.svg\" alt=\"Open In Colab\"/></a>"
      ]
    },
    {
      "cell_type": "markdown",
      "source": [
        "KIỂM ĐỊNH F\n",
        "\n",
        "Thay vì xây dựng giả thuyết với giá trị trung bình, người ta có thể xây dựng giả thuyết với phương sai (variance $\\sigma^{2}$). Trong trường hợp này, chúng ta sử dụng kiểm định F. Tóm tắt về kiểm định F như sau:\n",
        "\n",
        "Kiểm định một đuôi:\n",
        "\n",
        "$$H_{0}: \\sigma^{2} = \\sigma_{0}^{2} $$\n",
        "\n",
        "$$H_{a}: \\sigma^{2} < \\sigma_{0}^{2} (H_{a}: \\sigma^{2} > \\sigma_{0}^{2})$$ \n",
        "\n",
        "Giá trị thống kê kiểm định:\n",
        "\n",
        "$$ \\chi^{2} = \\frac{(n-1)s^{2}}{\\sigma_{0}^{2}}$$\n",
        "\n",
        "Vùng bác bỏ: $\\chi^{2} < \\chi_{(1 - \\alpha)}^{2}$  hoặc $\\chi^{2} > \\chi_{(1 - \\alpha)}^{2}$  khi $H_{a}: \\sigma^{2} > \\sigma_{0}^{2}$\n",
        "\n",
        "Ghi chú: \n",
        "\n",
        "- $\\chi^{2}$ - chi-square\n",
        "- (n - 1) mức tự do\n",
        "\n"
      ],
      "metadata": {
        "id": "fnSL_Jhp8R7B"
      }
    },
    {
      "cell_type": "markdown",
      "source": [
        "Kiểm định 2 đuôi:\n",
        "\n",
        "$$H_{0}: \\sigma^{2} = \\sigma_{0}^{2}$$\n",
        "$$H_{a}:\\sigma^{2} \\neq \\sigma_{0}^{2} $$\n",
        "\n",
        "Giá trị thống kê kiểm định:\n",
        "\n",
        "$$ \\chi^{2} = \\frac{(n-1)s^{2}}{\\sigma_{0}^{2}}$$\n",
        "\n",
        "Vùng bác bỏ: $\\chi^{2} < \\chi_{(1 - \\alpha/2)}^{2}$  hoặc $\\chi^{2} > \\chi_{(\\alpha/2)}^{2}$  \n",
        "Ghi chú: \n",
        "\n",
        "- $\\chi^{2}$ - chi-square\n",
        "- (n - 1) mức tự do"
      ],
      "metadata": {
        "id": "gmzz_SOA8XTB"
      }
    },
    {
      "cell_type": "markdown",
      "source": [
        "THỰC HÀNH KIỂM ĐỊNH F\n",
        "\n",
        "Bước 1: Sinh ngẫu nhiên số liệu\n",
        "\n",
        "Bước 2: Xây dựng giả thuyết \n",
        "\n",
        "Bước 3: Kiểm định Bartlett "
      ],
      "metadata": {
        "id": "3Zch_UEQ8cUX"
      }
    },
    {
      "cell_type": "code",
      "execution_count": 39,
      "metadata": {
        "id": "8QczLc_G8Lgt"
      },
      "outputs": [],
      "source": [
        "import numpy as np\n",
        "import pandas as pd\n",
        "import random\n",
        "from scipy import stats\n",
        "from statsmodels.stats.weightstats import ztest\n",
        "import warnings\n",
        "import matplotlib.pyplot as plt\n",
        "import seaborn as sns\n",
        "%matplotlib inline"
      ]
    },
    {
      "cell_type": "code",
      "source": [
        "#Sinh ngẫu nhiên 1000 mẫu tuân theo phân phối chuẩn có trung bình mẫu là 7.5 và độ lệch chuẩn là 0.25\n",
        "mean_1 = 7.5\n",
        "std_1 = 0.25\n",
        "N_1 = 1000\n",
        "samples_1 = np.random.normal(mean_1, std_1, N_1)"
      ],
      "metadata": {
        "id": "FTJF4MLJ8geX"
      },
      "execution_count": 40,
      "outputs": []
    },
    {
      "cell_type": "code",
      "source": [
        "#In ra 10 phần tử đầu tiên\n",
        "print(samples_1[:10])"
      ],
      "metadata": {
        "colab": {
          "base_uri": "https://localhost:8080/"
        },
        "id": "6TlYCNtu8g03",
        "outputId": "a963a198-eb31-40b1-93fe-c913218ec95a"
      },
      "execution_count": 41,
      "outputs": [
        {
          "output_type": "stream",
          "name": "stdout",
          "text": [
            "[7.68188421 7.24928752 7.61729177 7.60137257 7.09444891 7.90282713\n",
            " 7.41763987 7.36598942 7.59458662 7.77116104]\n"
          ]
        }
      ]
    },
    {
      "cell_type": "code",
      "source": [
        "\n",
        "#Sinh ngẫu nhiên 900 mẫu tuân theo phân phối chuẩn có trung bình mẫu là 7 và độ lệch chuẩn là 0.2\n",
        "mean_2= 7\n",
        "std_2 = 0.2\n",
        "N_2 = 900\n",
        "samples_2 = np.random.normal(mean_2, std_2, N_2)"
      ],
      "metadata": {
        "id": "2FeA2hSc8iXn"
      },
      "execution_count": 42,
      "outputs": []
    },
    {
      "cell_type": "code",
      "source": [
        "#In ra 10 phần tử đầu tiên\n",
        "print(samples_2[:10])"
      ],
      "metadata": {
        "colab": {
          "base_uri": "https://localhost:8080/"
        },
        "id": "khYIzDEB8kEa",
        "outputId": "50d683ab-6017-49b1-a63f-bd743d3e741b"
      },
      "execution_count": 43,
      "outputs": [
        {
          "output_type": "stream",
          "name": "stdout",
          "text": [
            "[6.73175407 6.96844904 7.05532856 6.80520379 6.82881026 6.9410915\n",
            " 7.10167425 6.93835813 6.95221149 7.18404333]\n"
          ]
        }
      ]
    },
    {
      "cell_type": "markdown",
      "source": [
        "Xây dựng giả thuyết:\n",
        "$$H_{0}: \\sigma_{1}^{2} = \\sigma_{2}^{2}$$\n",
        "$$H_{a}: \\sigma_{1}^{2} \\neq \\sigma_{2}^{2}$$"
      ],
      "metadata": {
        "id": "k_Iwgi948qWr"
      }
    },
    {
      "cell_type": "code",
      "source": [
        "#Kiểm định Bartlett\n",
        "stat_value, p_value = stats.bartlett(samples_1, samples_2)\n",
        "print(\"Stat value: \", stat_value, \"; p-value: \", p_value)"
      ],
      "metadata": {
        "colab": {
          "base_uri": "https://localhost:8080/"
        },
        "id": "A6sues3-8l-0",
        "outputId": "b182ca16-a8bd-4ce1-fcd0-d18e13beef9b"
      },
      "execution_count": 44,
      "outputs": [
        {
          "output_type": "stream",
          "name": "stdout",
          "text": [
            "Stat value:  42.88249524238839 ; p-value:  5.812846407174402e-11\n"
          ]
        }
      ]
    },
    {
      "cell_type": "code",
      "source": [
        "alpha = 0.05\n",
        "if(p_value <  alpha):\n",
        "  print(\"Có bằng chứng để bác bỏ giả thuyết H0\")\n",
        "else:\n",
        "  print(\"Chưa có bằng chứng để bác bỏ giả thuyết H0\")"
      ],
      "metadata": {
        "colab": {
          "base_uri": "https://localhost:8080/"
        },
        "id": "-2pVv_F-8nxL",
        "outputId": "63064ce5-4a48-4dfb-aea7-db9dde028a31"
      },
      "execution_count": 45,
      "outputs": [
        {
          "output_type": "stream",
          "name": "stdout",
          "text": [
            "Có bằng chứng để bác bỏ giả thuyết H0\n"
          ]
        }
      ]
    },
    {
      "cell_type": "markdown",
      "source": [
        "BÀI TẬP\n",
        "\n",
        "Bạn hãy thử viết code tiến hành kiểm định F 1 đuôi?\n",
        "\n",
        "Gợi ý: Thử tìm kiếm ví dụ về kiểm dịnh F 1 đuôi trong ngôn ngữ lập trình Python & R để nhận thấy sự khác biệt."
      ],
      "metadata": {
        "id": "g-qqP6lT8xRe"
      }
    },
    {
      "cell_type": "code",
      "source": [
        "#sinh ngẫu nhiên 100 phần tử có trung bình mẫu 24.6 và độ lệch chuẩn là 4.2\n",
        "samples_1= np.random.normal(24.6,4.2,100)\n",
        "print(samples_1[:10])"
      ],
      "metadata": {
        "id": "Cho4QbRr8vnV",
        "colab": {
          "base_uri": "https://localhost:8080/"
        },
        "outputId": "1731fc92-b889-4cfd-84eb-5d029dbe8e2f"
      },
      "execution_count": 46,
      "outputs": [
        {
          "output_type": "stream",
          "name": "stdout",
          "text": [
            "[30.63558194 21.59283304 18.77397345 24.47519446 15.90237981 26.00764614\n",
            " 29.75799879 23.8087667  23.75973687 21.34973514]\n"
          ]
        }
      ]
    },
    {
      "cell_type": "code",
      "source": [
        "#sinh ngẫu nhiên 100 phần tử có trung bình mẫu 25.5 và độ lệch chuẩn là 5.1\n",
        "samples_2= np.random.normal(25.5,5.1,100)\n",
        "print(samples_2[:10])"
      ],
      "metadata": {
        "colab": {
          "base_uri": "https://localhost:8080/"
        },
        "id": "KTXCwOcNHGn-",
        "outputId": "66044baf-ca55-4097-8d7f-b5e824bbf806"
      },
      "execution_count": 47,
      "outputs": [
        {
          "output_type": "stream",
          "name": "stdout",
          "text": [
            "[23.10831516 25.90727368 25.85077849 23.51475212 31.71333766 24.75680085\n",
            " 27.95472538 33.09820971 22.68755072 23.40537852]\n"
          ]
        }
      ]
    },
    {
      "cell_type": "markdown",
      "source": [
        "Xây dựng giả thuyết:\n",
        "$$H_{0}: \\sigma_{1}^{2} = \\sigma_{2}^{2}$$\n",
        "$$H_{a}: \\sigma_{1}^{2} < \\sigma_{2}^{2}$$"
      ],
      "metadata": {
        "id": "P0SblwYTP-it"
      }
    },
    {
      "cell_type": "code",
      "source": [
        "def f_test(x, y,alt=\"two-sided\"):\n",
        "    df1 = len(x) - 1\n",
        "    df2 = len(y) - 1\n",
        "    f = x.var() / y.var()\n",
        "    if alt == \"greater\":\n",
        "        p = 1.0 - stats.f.cdf(f, df1, df2)\n",
        "    elif alt == \"less\":\n",
        "        p = stats.f.cdf(f, df1, df2)\n",
        "    else:\n",
        "        p = 2.0*(1.0 - stats.f.cdf(f, df1, df2))\n",
        "    return f, p"
      ],
      "metadata": {
        "id": "FLaxwLEQHpog"
      },
      "execution_count": 52,
      "outputs": []
    },
    {
      "cell_type": "code",
      "source": [
        "# Thông số\n",
        "f, p = f_test (samples_1,samples_2)\n",
        "alpha = 0.05\n",
        "print(\"f: \",f,\"\\n\",\"p: \",p,\"\\n\")"
      ],
      "metadata": {
        "colab": {
          "base_uri": "https://localhost:8080/"
        },
        "id": "CrFxpNe0I3av",
        "outputId": "f72ffa1a-006f-4f8f-e454-ea442862155e"
      },
      "execution_count": 53,
      "outputs": [
        {
          "output_type": "stream",
          "name": "stdout",
          "text": [
            "f:  1.038898190516868 \n",
            " p:  0.8498085937894431 \n",
            "\n"
          ]
        }
      ]
    },
    {
      "cell_type": "code",
      "source": [
        "if(p_value <  alpha):\n",
        "  print(\"Có bằng chứng để bác bỏ giả thuyết H0\")\n",
        "else:\n",
        "  print(\"Chưa có bằng chứng để bác bỏ giả thuyết H0\")"
      ],
      "metadata": {
        "colab": {
          "base_uri": "https://localhost:8080/"
        },
        "id": "1NCXlXAfI-rQ",
        "outputId": "517c79aa-bff3-4a64-f582-0f8b16d8073d"
      },
      "execution_count": 54,
      "outputs": [
        {
          "output_type": "stream",
          "name": "stdout",
          "text": [
            "Có bằng chứng để bác bỏ giả thuyết H0\n"
          ]
        }
      ]
    }
  ]
}