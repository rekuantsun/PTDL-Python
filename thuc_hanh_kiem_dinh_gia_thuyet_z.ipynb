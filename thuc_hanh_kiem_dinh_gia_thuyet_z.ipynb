{
  "nbformat": 4,
  "nbformat_minor": 0,
  "metadata": {
    "colab": {
      "name": "thuc-hanh-kiem-dinh-gia-thuyet-z.ipynb",
      "provenance": [],
      "authorship_tag": "ABX9TyPGX7emCGAEmj2gxWyBAJ1Q",
      "include_colab_link": true
    },
    "kernelspec": {
      "name": "python3",
      "display_name": "Python 3"
    },
    "language_info": {
      "name": "python"
    }
  },
  "cells": [
    {
      "cell_type": "markdown",
      "metadata": {
        "id": "view-in-github",
        "colab_type": "text"
      },
      "source": [
        "<a href=\"https://colab.research.google.com/github/rekuantsun/PTDL-Python/blob/main/thuc_hanh_kiem_dinh_gia_thuyet_z.ipynb\" target=\"_parent\"><img src=\"https://colab.research.google.com/assets/colab-badge.svg\" alt=\"Open In Colab\"/></a>"
      ]
    },
    {
      "cell_type": "markdown",
      "source": [
        "1. Các thư viện cần để tiến hành kiểm định giả thuyết z"
      ],
      "metadata": {
        "id": "QA2laLuyLwuN"
      }
    },
    {
      "cell_type": "code",
      "execution_count": 1,
      "metadata": {
        "colab": {
          "base_uri": "https://localhost:8080/"
        },
        "id": "jNKqzCOULlOT",
        "outputId": "cea3324f-a86a-4752-9105-48adefffc8cf"
      },
      "outputs": [
        {
          "output_type": "stream",
          "name": "stderr",
          "text": [
            "/usr/local/lib/python3.7/dist-packages/statsmodels/tools/_testing.py:19: FutureWarning: pandas.util.testing is deprecated. Use the functions in the public API at pandas.testing instead.\n",
            "  import pandas.util.testing as tm\n"
          ]
        }
      ],
      "source": [
        "import numpy as np\n",
        "import pandas as pd\n",
        "import random\n",
        "from scipy import stats\n",
        "from statsmodels.stats.weightstats import ztest\n",
        "import warnings\n",
        "import matplotlib.pyplot as plt\n",
        "import seaborn as sns\n",
        "%matplotlib inline"
      ]
    },
    {
      "cell_type": "markdown",
      "source": [
        "2. Thiết lập định dạng hình ảnh"
      ],
      "metadata": {
        "id": "YMU483UVM3vV"
      }
    },
    {
      "cell_type": "code",
      "source": [
        "sns.set(rc={'figure.figsize':(13, 7.5)})\n",
        "sns.set_context('talk')"
      ],
      "metadata": {
        "id": "Ne-GY60UL5HV"
      },
      "execution_count": 2,
      "outputs": []
    },
    {
      "cell_type": "markdown",
      "source": [
        "3. Tắt các thông báo lỗi của spicy"
      ],
      "metadata": {
        "id": "oQkYPWbyM9Wt"
      }
    },
    {
      "cell_type": "code",
      "source": [
        "warnings.filterwarnings('ignore')"
      ],
      "metadata": {
        "id": "xr1YX71sM8mG"
      },
      "execution_count": 3,
      "outputs": []
    },
    {
      "cell_type": "markdown",
      "source": [
        "**KIỂM ĐỊNH GIẢ THUYẾT MỘT ĐUÔI**"
      ],
      "metadata": {
        "id": "XbIAKjnBgTmW"
      }
    },
    {
      "cell_type": "markdown",
      "source": [
        "**Bài toán:** Một cuộc thi chạy marathon được tổ chức và tốc độ trung bình của các vận động viên là 36 km/h và độ lệch chuẩn là 5 km/h. Trong một nhóm có 45 vận động viên chạy, sau khi kiểm tra biết tốc độ trung bình của nhóm này là 38 km/h. Liệu với độ tin cậy là 95% (hay hệ số sig - significance level) - 5%) có thể nhận định nhóm 45 người này chạy nhanh hơn vận động viên khác không ?"
      ],
      "metadata": {
        "id": "7QMdRVBag3VZ"
      }
    },
    {
      "cell_type": "markdown",
      "source": [
        "Xây dựng giả thuyết:\n",
        "\n",
        "$$H_{0}: \\mu = 36$$\n",
        "\n",
        "Giả thuyết thay thế: \n",
        "\n",
        "$$H_{a}: \\mu > 36 $$\n",
        "\n",
        "với:\n",
        "\n",
        "- Hệ số sig = 0.05\n",
        "- Chỉ số z tương ứng với hệ số sig ở trên là 1.645\n",
        "\n",
        "Công thức:\n",
        "$$Z = \\frac{(\\overline{\\rm X} - \\mu)}{(\\sigma / \\sqrt{n})}$$\n",
        "\n",
        "Áp dụng với các giá trị nêu trên:\n",
        "\n",
        "- $\\overline{\\rm X} = 38$\n",
        "- $\\mu = 36$\n",
        "- $\\sigma = 5$\n",
        "- $\\alpha = 0.05$\n",
        "- $n =45$\n",
        "\n",
        "$$Z = \\frac{(38 - 36)}{(5 / \\sqrt{45})} = 2.68 $$\n",
        "\n",
        "Giá trị z = 2.68 > 1.645 nên có bằng chứng để bác bỏ giả thuyết $H_{0}$"
      ],
      "metadata": {
        "id": "wW4Gfbx5noqf"
      }
    },
    {
      "cell_type": "markdown",
      "source": [
        "**Lập trình bài toán**"
      ],
      "metadata": {
        "id": "_QZ8Ru6OdZce"
      }
    },
    {
      "cell_type": "code",
      "source": [
        "#Sinh một mẫu ngẫu nhiên 30 phần tử có trung bình mẫu là 48, độ lệch chuẩn là 3\n",
        "samples = np.random.normal(38,5,45)\n",
        "print(samples[:10])"
      ],
      "metadata": {
        "id": "7JsRC9VkNDQU",
        "colab": {
          "base_uri": "https://localhost:8080/"
        },
        "outputId": "d875f2d9-0e86-4133-fef9-1c8d221bbd39"
      },
      "execution_count": 16,
      "outputs": [
        {
          "output_type": "stream",
          "name": "stdout",
          "text": [
            "[50.63483743 33.21485868 38.70334225 35.08337901 30.20349457 33.40708074\n",
            " 36.90008844 41.35940668 31.23680919 43.94482289]\n"
          ]
        }
      ]
    },
    {
      "cell_type": "code",
      "source": [
        "#Các thông số\n",
        "null_mean = 36\n",
        "alpha = 0.05"
      ],
      "metadata": {
        "id": "OeKNfbkZd6a2"
      },
      "execution_count": 14,
      "outputs": []
    },
    {
      "cell_type": "code",
      "source": [
        "#Kiểm định z\n",
        "ztest_Score, p_value= ztest(samples, value = null_mean, alternative='larger')\n",
        "if(p_value <  alpha):\n",
        "  print(\"Có bằng chứng để bác bỏ giả thuyết H0\")\n",
        "else:\n",
        "  print(\"Chưa có bằng chứng để bác bỏ giả thuyết H0\")"
      ],
      "metadata": {
        "colab": {
          "base_uri": "https://localhost:8080/"
        },
        "id": "Vq7LSzlbec4l",
        "outputId": "588d2d04-83bf-44e5-eb58-697284c8ae68"
      },
      "execution_count": 15,
      "outputs": [
        {
          "output_type": "stream",
          "name": "stdout",
          "text": [
            "Có bằng chứng để bác bỏ giả thuyết H0\n"
          ]
        }
      ]
    },
    {
      "cell_type": "markdown",
      "source": [
        "**KIỂM ĐỊNH GIẢ THUYẾT 2 ĐUÔI**"
      ],
      "metadata": {
        "id": "bA58t4xii2or"
      }
    },
    {
      "cell_type": "markdown",
      "source": [
        "**Bài toán:**\n",
        "\n",
        "Trong chung cư A lấy ra 100 người có độ tuổi trung bình là 28 và độ lệch chuẩn là 10.\n",
        "\n",
        "Trong chung cư B lấy ra 70 người có độ tuổi trung bình là 36 và độ lệch chuẩn là 8.\n",
        "\n",
        "Liệu có thể nhận định độ tuổi trung bình của chung cư A và B khác nhau không?\n",
        "\n",
        "Xây dựng giả thuyết:\n",
        "\n",
        "$$H_{0}: \\mu_{A} = \\mu_{B}$$\n",
        "\n",
        "Giả thuyết thay thế:\n",
        "\n",
        "$$H_{a}: \\mu_{A} \\neq \\mu_{B}$$\n"
      ],
      "metadata": {
        "id": "22-wllLRw9d0"
      }
    },
    {
      "cell_type": "code",
      "source": [
        "# Lấy ngẫu nhiên 100 người trong chung cư A với độ tuổi trung bình là 28 và độ lệch chuẩn là 10.\n",
        "samples_a = np.random.normal(28,10,100)\n",
        "print(samples_a[:10])"
      ],
      "metadata": {
        "colab": {
          "base_uri": "https://localhost:8080/"
        },
        "id": "tqss8Tanehht",
        "outputId": "16e8779b-72db-41ae-d670-21ed6e17c97d"
      },
      "execution_count": 17,
      "outputs": [
        {
          "output_type": "stream",
          "name": "stdout",
          "text": [
            "[20.70339902 19.54670244 44.29567665 22.59355538 23.90936249 18.88253746\n",
            " 15.68878868 37.84301264 19.11216857 23.41345546]\n"
          ]
        }
      ]
    },
    {
      "cell_type": "code",
      "source": [
        "# Lấy ngẫy nhiên 70 người trong chung cư B với độ tuổi trung bình là 36 và độ lệch chuẩn là 8.\n",
        "samples_b = np.random.normal(36,8,70)\n",
        "print(samples_b[:10])"
      ],
      "metadata": {
        "colab": {
          "base_uri": "https://localhost:8080/"
        },
        "id": "v_gFS2ZDykKe",
        "outputId": "83b695fb-fcc0-4290-df33-3c0b5819e8e9"
      },
      "execution_count": 18,
      "outputs": [
        {
          "output_type": "stream",
          "name": "stdout",
          "text": [
            "[36.97264769 39.61303863 42.00403074 30.45225029 23.40106606 27.92475513\n",
            " 34.64351325 34.76030091 59.8276781  47.66291978]\n"
          ]
        }
      ]
    },
    {
      "cell_type": "code",
      "source": [
        "#Kiểm định giả thuyết \n",
        "alpha = 0.05\n",
        "ztest_score, p_value = ztest(x1 = samples_a, x2 = samples_b, value = 70 - 100, alternative = 'two-sided')\n",
        "print('z = ', ztest_score, '; p = ', p_value)\n",
        "if(p_value <  alpha):\n",
        "  print(\"Có bằng chứng để bác bỏ giả thuyết H0\")\n",
        "else:\n",
        "  print(\"Chưa có bằng chứng để bác bỏ giả thuyết H0\")"
      ],
      "metadata": {
        "colab": {
          "base_uri": "https://localhost:8080/"
        },
        "id": "sUbSofwoy3ea",
        "outputId": "fc71bded-a4f8-4ad5-f5d7-8b57d9fd41a6"
      },
      "execution_count": 21,
      "outputs": [
        {
          "output_type": "stream",
          "name": "stdout",
          "text": [
            "z =  13.39974786775562 ; p =  6.066890655312354e-41\n",
            "Có bằng chứng để bác bỏ giả thuyết H0\n"
          ]
        }
      ]
    }
  ]
}