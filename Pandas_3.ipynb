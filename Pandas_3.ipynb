{
  "nbformat": 4,
  "nbformat_minor": 0,
  "metadata": {
    "colab": {
      "name": "Pandas-3",
      "provenance": [],
      "authorship_tag": "ABX9TyN5RFuEPZKh3XVYiQ+qopex",
      "include_colab_link": true
    },
    "kernelspec": {
      "name": "python3",
      "display_name": "Python 3"
    },
    "language_info": {
      "name": "python"
    }
  },
  "cells": [
    {
      "cell_type": "markdown",
      "metadata": {
        "id": "view-in-github",
        "colab_type": "text"
      },
      "source": [
        "<a href=\"https://colab.research.google.com/github/rekuantsun/PTDL-Python/blob/main/Pandas_3.ipynb\" target=\"_parent\"><img src=\"https://colab.research.google.com/assets/colab-badge.svg\" alt=\"Open In Colab\"/></a>"
      ]
    },
    {
      "cell_type": "markdown",
      "source": [
        "![image.png](data:image/png;base64,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)\n"
      ],
      "metadata": {
        "id": "enR89eMowTt8"
      }
    },
    {
      "cell_type": "code",
      "execution_count": 1,
      "metadata": {
        "colab": {
          "base_uri": "https://localhost:8080/"
        },
        "id": "UpA6DKFOr6bs",
        "outputId": "73560061-8dd7-4083-e366-b8c74ed7eac7"
      },
      "outputs": [
        {
          "output_type": "stream",
          "name": "stdout",
          "text": [
            "Mounted at /content/gdrive\n"
          ]
        }
      ],
      "source": [
        "from google.colab import drive \n",
        "drive.mount('/content/gdrive')"
      ]
    },
    {
      "cell_type": "markdown",
      "source": [
        "![image.png](data:image/png;base64,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)"
      ],
      "metadata": {
        "id": "QTxNjrd9wbb8"
      }
    },
    {
      "cell_type": "code",
      "source": [
        "import numpy as np\n",
        "import matplotlib.pyplot as plt\n",
        "import pandas as pd \n",
        "df=pd.read_csv('/content/gdrive/MyDrive/1000SalesRecords.csv')\n",
        "df"
      ],
      "metadata": {
        "colab": {
          "base_uri": "https://localhost:8080/",
          "height": 835
        },
        "id": "CClVx74CsKQ3",
        "outputId": "7cb84aa9-69a2-4122-de9d-db02993f4e8d"
      },
      "execution_count": 2,
      "outputs": [
        {
          "output_type": "execute_result",
          "data": {
            "text/plain": [
              "                           Region               Country   Item Type  \\\n",
              "0    Middle East and North Africa                 Libya   Cosmetics   \n",
              "1                   North America                Canada  Vegetables   \n",
              "2    Middle East and North Africa                 Libya   Baby Food   \n",
              "3                            Asia                 Japan      Cereal   \n",
              "4              Sub-Saharan Africa                  Chad      Fruits   \n",
              "..                            ...                   ...         ...   \n",
              "995  Middle East and North Africa            Azerbaijan      Snacks   \n",
              "996                        Europe               Georgia   Baby Food   \n",
              "997  Middle East and North Africa  United Arab Emirates  Vegetables   \n",
              "998                        Europe               Finland   Household   \n",
              "999                        Europe              Portugal      Cereal   \n",
              "\n",
              "    Sales Channel Order Priority  Order Date   Order ID   Ship Date  \\\n",
              "0         Offline              M  10/18/2014  686800706  10/31/2014   \n",
              "1          Online              M   11/7/2011  185941302   12/8/2011   \n",
              "2         Offline              C  10/31/2016  246222341   12/9/2016   \n",
              "3         Offline              C   4/10/2010  161442649   5/12/2010   \n",
              "4         Offline              H   8/16/2011  645713555   8/31/2011   \n",
              "..            ...            ...         ...        ...         ...   \n",
              "995       Offline              C   4/18/2010  534085166   4/25/2010   \n",
              "996       Offline              H    8/1/2011  590768182    9/7/2011   \n",
              "997        Online              C   5/12/2011  524363124   6/28/2011   \n",
              "998       Offline              L   1/25/2016  289606320   2/14/2016   \n",
              "999       Offline              C   4/10/2014  811546599    5/8/2014   \n",
              "\n",
              "     Units Sold  Unit Price  Unit Cost  Total Revenue  Total Cost  \\\n",
              "0          8446      437.20     263.33     3692591.20  2224085.18   \n",
              "1          3018      154.06      90.93      464953.08   274426.74   \n",
              "2          1517      255.28     159.42      387259.76   241840.14   \n",
              "3          3322      205.70     117.11      683335.40   389039.42   \n",
              "4          9845        9.33       6.92       91853.85    68127.40   \n",
              "..          ...         ...        ...            ...         ...   \n",
              "995        6524      152.58      97.44      995431.92   635698.56   \n",
              "996         288      255.28     159.42       73520.64    45912.96   \n",
              "997        9556      154.06      90.93     1472197.36   868927.08   \n",
              "998        9801      668.27     502.54     6549714.27  4925394.54   \n",
              "999        3528      205.70     117.11      725709.60   413164.08   \n",
              "\n",
              "     Total Profit  \n",
              "0      1468506.02  \n",
              "1       190526.34  \n",
              "2       145419.62  \n",
              "3       294295.98  \n",
              "4        23726.45  \n",
              "..            ...  \n",
              "995     359733.36  \n",
              "996      27607.68  \n",
              "997     603270.28  \n",
              "998    1624319.73  \n",
              "999     312545.52  \n",
              "\n",
              "[1000 rows x 14 columns]"
            ],
            "text/html": [
              "\n",
              "  <div id=\"df-7aa87b74-496c-4001-956c-abdc570d98b4\">\n",
              "    <div class=\"colab-df-container\">\n",
              "      <div>\n",
              "<style scoped>\n",
              "    .dataframe tbody tr th:only-of-type {\n",
              "        vertical-align: middle;\n",
              "    }\n",
              "\n",
              "    .dataframe tbody tr th {\n",
              "        vertical-align: top;\n",
              "    }\n",
              "\n",
              "    .dataframe thead th {\n",
              "        text-align: right;\n",
              "    }\n",
              "</style>\n",
              "<table border=\"1\" class=\"dataframe\">\n",
              "  <thead>\n",
              "    <tr style=\"text-align: right;\">\n",
              "      <th></th>\n",
              "      <th>Region</th>\n",
              "      <th>Country</th>\n",
              "      <th>Item Type</th>\n",
              "      <th>Sales Channel</th>\n",
              "      <th>Order Priority</th>\n",
              "      <th>Order Date</th>\n",
              "      <th>Order ID</th>\n",
              "      <th>Ship Date</th>\n",
              "      <th>Units Sold</th>\n",
              "      <th>Unit Price</th>\n",
              "      <th>Unit Cost</th>\n",
              "      <th>Total Revenue</th>\n",
              "      <th>Total Cost</th>\n",
              "      <th>Total Profit</th>\n",
              "    </tr>\n",
              "  </thead>\n",
              "  <tbody>\n",
              "    <tr>\n",
              "      <th>0</th>\n",
              "      <td>Middle East and North Africa</td>\n",
              "      <td>Libya</td>\n",
              "      <td>Cosmetics</td>\n",
              "      <td>Offline</td>\n",
              "      <td>M</td>\n",
              "      <td>10/18/2014</td>\n",
              "      <td>686800706</td>\n",
              "      <td>10/31/2014</td>\n",
              "      <td>8446</td>\n",
              "      <td>437.20</td>\n",
              "      <td>263.33</td>\n",
              "      <td>3692591.20</td>\n",
              "      <td>2224085.18</td>\n",
              "      <td>1468506.02</td>\n",
              "    </tr>\n",
              "    <tr>\n",
              "      <th>1</th>\n",
              "      <td>North America</td>\n",
              "      <td>Canada</td>\n",
              "      <td>Vegetables</td>\n",
              "      <td>Online</td>\n",
              "      <td>M</td>\n",
              "      <td>11/7/2011</td>\n",
              "      <td>185941302</td>\n",
              "      <td>12/8/2011</td>\n",
              "      <td>3018</td>\n",
              "      <td>154.06</td>\n",
              "      <td>90.93</td>\n",
              "      <td>464953.08</td>\n",
              "      <td>274426.74</td>\n",
              "      <td>190526.34</td>\n",
              "    </tr>\n",
              "    <tr>\n",
              "      <th>2</th>\n",
              "      <td>Middle East and North Africa</td>\n",
              "      <td>Libya</td>\n",
              "      <td>Baby Food</td>\n",
              "      <td>Offline</td>\n",
              "      <td>C</td>\n",
              "      <td>10/31/2016</td>\n",
              "      <td>246222341</td>\n",
              "      <td>12/9/2016</td>\n",
              "      <td>1517</td>\n",
              "      <td>255.28</td>\n",
              "      <td>159.42</td>\n",
              "      <td>387259.76</td>\n",
              "      <td>241840.14</td>\n",
              "      <td>145419.62</td>\n",
              "    </tr>\n",
              "    <tr>\n",
              "      <th>3</th>\n",
              "      <td>Asia</td>\n",
              "      <td>Japan</td>\n",
              "      <td>Cereal</td>\n",
              "      <td>Offline</td>\n",
              "      <td>C</td>\n",
              "      <td>4/10/2010</td>\n",
              "      <td>161442649</td>\n",
              "      <td>5/12/2010</td>\n",
              "      <td>3322</td>\n",
              "      <td>205.70</td>\n",
              "      <td>117.11</td>\n",
              "      <td>683335.40</td>\n",
              "      <td>389039.42</td>\n",
              "      <td>294295.98</td>\n",
              "    </tr>\n",
              "    <tr>\n",
              "      <th>4</th>\n",
              "      <td>Sub-Saharan Africa</td>\n",
              "      <td>Chad</td>\n",
              "      <td>Fruits</td>\n",
              "      <td>Offline</td>\n",
              "      <td>H</td>\n",
              "      <td>8/16/2011</td>\n",
              "      <td>645713555</td>\n",
              "      <td>8/31/2011</td>\n",
              "      <td>9845</td>\n",
              "      <td>9.33</td>\n",
              "      <td>6.92</td>\n",
              "      <td>91853.85</td>\n",
              "      <td>68127.40</td>\n",
              "      <td>23726.45</td>\n",
              "    </tr>\n",
              "    <tr>\n",
              "      <th>...</th>\n",
              "      <td>...</td>\n",
              "      <td>...</td>\n",
              "      <td>...</td>\n",
              "      <td>...</td>\n",
              "      <td>...</td>\n",
              "      <td>...</td>\n",
              "      <td>...</td>\n",
              "      <td>...</td>\n",
              "      <td>...</td>\n",
              "      <td>...</td>\n",
              "      <td>...</td>\n",
              "      <td>...</td>\n",
              "      <td>...</td>\n",
              "      <td>...</td>\n",
              "    </tr>\n",
              "    <tr>\n",
              "      <th>995</th>\n",
              "      <td>Middle East and North Africa</td>\n",
              "      <td>Azerbaijan</td>\n",
              "      <td>Snacks</td>\n",
              "      <td>Offline</td>\n",
              "      <td>C</td>\n",
              "      <td>4/18/2010</td>\n",
              "      <td>534085166</td>\n",
              "      <td>4/25/2010</td>\n",
              "      <td>6524</td>\n",
              "      <td>152.58</td>\n",
              "      <td>97.44</td>\n",
              "      <td>995431.92</td>\n",
              "      <td>635698.56</td>\n",
              "      <td>359733.36</td>\n",
              "    </tr>\n",
              "    <tr>\n",
              "      <th>996</th>\n",
              "      <td>Europe</td>\n",
              "      <td>Georgia</td>\n",
              "      <td>Baby Food</td>\n",
              "      <td>Offline</td>\n",
              "      <td>H</td>\n",
              "      <td>8/1/2011</td>\n",
              "      <td>590768182</td>\n",
              "      <td>9/7/2011</td>\n",
              "      <td>288</td>\n",
              "      <td>255.28</td>\n",
              "      <td>159.42</td>\n",
              "      <td>73520.64</td>\n",
              "      <td>45912.96</td>\n",
              "      <td>27607.68</td>\n",
              "    </tr>\n",
              "    <tr>\n",
              "      <th>997</th>\n",
              "      <td>Middle East and North Africa</td>\n",
              "      <td>United Arab Emirates</td>\n",
              "      <td>Vegetables</td>\n",
              "      <td>Online</td>\n",
              "      <td>C</td>\n",
              "      <td>5/12/2011</td>\n",
              "      <td>524363124</td>\n",
              "      <td>6/28/2011</td>\n",
              "      <td>9556</td>\n",
              "      <td>154.06</td>\n",
              "      <td>90.93</td>\n",
              "      <td>1472197.36</td>\n",
              "      <td>868927.08</td>\n",
              "      <td>603270.28</td>\n",
              "    </tr>\n",
              "    <tr>\n",
              "      <th>998</th>\n",
              "      <td>Europe</td>\n",
              "      <td>Finland</td>\n",
              "      <td>Household</td>\n",
              "      <td>Offline</td>\n",
              "      <td>L</td>\n",
              "      <td>1/25/2016</td>\n",
              "      <td>289606320</td>\n",
              "      <td>2/14/2016</td>\n",
              "      <td>9801</td>\n",
              "      <td>668.27</td>\n",
              "      <td>502.54</td>\n",
              "      <td>6549714.27</td>\n",
              "      <td>4925394.54</td>\n",
              "      <td>1624319.73</td>\n",
              "    </tr>\n",
              "    <tr>\n",
              "      <th>999</th>\n",
              "      <td>Europe</td>\n",
              "      <td>Portugal</td>\n",
              "      <td>Cereal</td>\n",
              "      <td>Offline</td>\n",
              "      <td>C</td>\n",
              "      <td>4/10/2014</td>\n",
              "      <td>811546599</td>\n",
              "      <td>5/8/2014</td>\n",
              "      <td>3528</td>\n",
              "      <td>205.70</td>\n",
              "      <td>117.11</td>\n",
              "      <td>725709.60</td>\n",
              "      <td>413164.08</td>\n",
              "      <td>312545.52</td>\n",
              "    </tr>\n",
              "  </tbody>\n",
              "</table>\n",
              "<p>1000 rows × 14 columns</p>\n",
              "</div>\n",
              "      <button class=\"colab-df-convert\" onclick=\"convertToInteractive('df-7aa87b74-496c-4001-956c-abdc570d98b4')\"\n",
              "              title=\"Convert this dataframe to an interactive table.\"\n",
              "              style=\"display:none;\">\n",
              "        \n",
              "  <svg xmlns=\"http://www.w3.org/2000/svg\" height=\"24px\"viewBox=\"0 0 24 24\"\n",
              "       width=\"24px\">\n",
              "    <path d=\"M0 0h24v24H0V0z\" fill=\"none\"/>\n",
              "    <path d=\"M18.56 5.44l.94 2.06.94-2.06 2.06-.94-2.06-.94-.94-2.06-.94 2.06-2.06.94zm-11 1L8.5 8.5l.94-2.06 2.06-.94-2.06-.94L8.5 2.5l-.94 2.06-2.06.94zm10 10l.94 2.06.94-2.06 2.06-.94-2.06-.94-.94-2.06-.94 2.06-2.06.94z\"/><path d=\"M17.41 7.96l-1.37-1.37c-.4-.4-.92-.59-1.43-.59-.52 0-1.04.2-1.43.59L10.3 9.45l-7.72 7.72c-.78.78-.78 2.05 0 2.83L4 21.41c.39.39.9.59 1.41.59.51 0 1.02-.2 1.41-.59l7.78-7.78 2.81-2.81c.8-.78.8-2.07 0-2.86zM5.41 20L4 18.59l7.72-7.72 1.47 1.35L5.41 20z\"/>\n",
              "  </svg>\n",
              "      </button>\n",
              "      \n",
              "  <style>\n",
              "    .colab-df-container {\n",
              "      display:flex;\n",
              "      flex-wrap:wrap;\n",
              "      gap: 12px;\n",
              "    }\n",
              "\n",
              "    .colab-df-convert {\n",
              "      background-color: #E8F0FE;\n",
              "      border: none;\n",
              "      border-radius: 50%;\n",
              "      cursor: pointer;\n",
              "      display: none;\n",
              "      fill: #1967D2;\n",
              "      height: 32px;\n",
              "      padding: 0 0 0 0;\n",
              "      width: 32px;\n",
              "    }\n",
              "\n",
              "    .colab-df-convert:hover {\n",
              "      background-color: #E2EBFA;\n",
              "      box-shadow: 0px 1px 2px rgba(60, 64, 67, 0.3), 0px 1px 3px 1px rgba(60, 64, 67, 0.15);\n",
              "      fill: #174EA6;\n",
              "    }\n",
              "\n",
              "    [theme=dark] .colab-df-convert {\n",
              "      background-color: #3B4455;\n",
              "      fill: #D2E3FC;\n",
              "    }\n",
              "\n",
              "    [theme=dark] .colab-df-convert:hover {\n",
              "      background-color: #434B5C;\n",
              "      box-shadow: 0px 1px 3px 1px rgba(0, 0, 0, 0.15);\n",
              "      filter: drop-shadow(0px 1px 2px rgba(0, 0, 0, 0.3));\n",
              "      fill: #FFFFFF;\n",
              "    }\n",
              "  </style>\n",
              "\n",
              "      <script>\n",
              "        const buttonEl =\n",
              "          document.querySelector('#df-7aa87b74-496c-4001-956c-abdc570d98b4 button.colab-df-convert');\n",
              "        buttonEl.style.display =\n",
              "          google.colab.kernel.accessAllowed ? 'block' : 'none';\n",
              "\n",
              "        async function convertToInteractive(key) {\n",
              "          const element = document.querySelector('#df-7aa87b74-496c-4001-956c-abdc570d98b4');\n",
              "          const dataTable =\n",
              "            await google.colab.kernel.invokeFunction('convertToInteractive',\n",
              "                                                     [key], {});\n",
              "          if (!dataTable) return;\n",
              "\n",
              "          const docLinkHtml = 'Like what you see? Visit the ' +\n",
              "            '<a target=\"_blank\" href=https://colab.research.google.com/notebooks/data_table.ipynb>data table notebook</a>'\n",
              "            + ' to learn more about interactive tables.';\n",
              "          element.innerHTML = '';\n",
              "          dataTable['output_type'] = 'display_data';\n",
              "          await google.colab.output.renderOutput(dataTable, element);\n",
              "          const docLink = document.createElement('div');\n",
              "          docLink.innerHTML = docLinkHtml;\n",
              "          element.appendChild(docLink);\n",
              "        }\n",
              "      </script>\n",
              "    </div>\n",
              "  </div>\n",
              "  "
            ]
          },
          "metadata": {},
          "execution_count": 2
        }
      ]
    },
    {
      "cell_type": "markdown",
      "source": [
        "![image.png](data:image/png;base64,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)"
      ],
      "metadata": {
        "id": "nZaOZO9zxeZ8"
      }
    },
    {
      "cell_type": "markdown",
      "source": [
        "- The head() function is used to get the first n rows."
      ],
      "metadata": {
        "id": "okxU0VO3yXpK"
      }
    },
    {
      "cell_type": "code",
      "source": [
        "df.head(10)"
      ],
      "metadata": {
        "colab": {
          "base_uri": "https://localhost:8080/",
          "height": 722
        },
        "id": "VnKEdFT3w0_V",
        "outputId": "b7b62d3e-3c6f-4129-b015-1ae758d205b3"
      },
      "execution_count": 8,
      "outputs": [
        {
          "output_type": "execute_result",
          "data": {
            "text/plain": [
              "                              Region     Country   Item Type Sales Channel  \\\n",
              "0       Middle East and North Africa       Libya   Cosmetics       Offline   \n",
              "1                      North America      Canada  Vegetables        Online   \n",
              "2       Middle East and North Africa       Libya   Baby Food       Offline   \n",
              "3                               Asia       Japan      Cereal       Offline   \n",
              "4                 Sub-Saharan Africa        Chad      Fruits       Offline   \n",
              "5                             Europe     Armenia      Cereal        Online   \n",
              "6                 Sub-Saharan Africa     Eritrea      Cereal        Online   \n",
              "7                             Europe  Montenegro     Clothes       Offline   \n",
              "8  Central America and the Caribbean     Jamaica  Vegetables        Online   \n",
              "9              Australia and Oceania        Fiji  Vegetables       Offline   \n",
              "\n",
              "  Order Priority  Order Date   Order ID   Ship Date  Units Sold  Unit Price  \\\n",
              "0              M  10/18/2014  686800706  10/31/2014        8446      437.20   \n",
              "1              M   11/7/2011  185941302   12/8/2011        3018      154.06   \n",
              "2              C  10/31/2016  246222341   12/9/2016        1517      255.28   \n",
              "3              C   4/10/2010  161442649   5/12/2010        3322      205.70   \n",
              "4              H   8/16/2011  645713555   8/31/2011        9845        9.33   \n",
              "5              H  11/24/2014  683458888  12/28/2014        9528      205.70   \n",
              "6              H    3/4/2015  679414975   4/17/2015        2844      205.70   \n",
              "7              M   5/17/2012  208630645   6/28/2012        7299      109.28   \n",
              "8              H   1/29/2015  266467225    3/7/2015        2428      154.06   \n",
              "9              H  12/24/2013  118598544   1/19/2014        4800      154.06   \n",
              "\n",
              "   Unit Cost  Total Revenue  Total Cost  Total Profit  \n",
              "0     263.33     3692591.20  2224085.18    1468506.02  \n",
              "1      90.93      464953.08   274426.74     190526.34  \n",
              "2     159.42      387259.76   241840.14     145419.62  \n",
              "3     117.11      683335.40   389039.42     294295.98  \n",
              "4       6.92       91853.85    68127.40      23726.45  \n",
              "5     117.11     1959909.60  1115824.08     844085.52  \n",
              "6     117.11      585010.80   333060.84     251949.96  \n",
              "7      35.84      797634.72   261596.16     536038.56  \n",
              "8      90.93      374057.68   220778.04     153279.64  \n",
              "9      90.93      739488.00   436464.00     303024.00  "
            ],
            "text/html": [
              "\n",
              "  <div id=\"df-d78f37d8-f70d-44e9-bfe0-416ceeafc570\">\n",
              "    <div class=\"colab-df-container\">\n",
              "      <div>\n",
              "<style scoped>\n",
              "    .dataframe tbody tr th:only-of-type {\n",
              "        vertical-align: middle;\n",
              "    }\n",
              "\n",
              "    .dataframe tbody tr th {\n",
              "        vertical-align: top;\n",
              "    }\n",
              "\n",
              "    .dataframe thead th {\n",
              "        text-align: right;\n",
              "    }\n",
              "</style>\n",
              "<table border=\"1\" class=\"dataframe\">\n",
              "  <thead>\n",
              "    <tr style=\"text-align: right;\">\n",
              "      <th></th>\n",
              "      <th>Region</th>\n",
              "      <th>Country</th>\n",
              "      <th>Item Type</th>\n",
              "      <th>Sales Channel</th>\n",
              "      <th>Order Priority</th>\n",
              "      <th>Order Date</th>\n",
              "      <th>Order ID</th>\n",
              "      <th>Ship Date</th>\n",
              "      <th>Units Sold</th>\n",
              "      <th>Unit Price</th>\n",
              "      <th>Unit Cost</th>\n",
              "      <th>Total Revenue</th>\n",
              "      <th>Total Cost</th>\n",
              "      <th>Total Profit</th>\n",
              "    </tr>\n",
              "  </thead>\n",
              "  <tbody>\n",
              "    <tr>\n",
              "      <th>0</th>\n",
              "      <td>Middle East and North Africa</td>\n",
              "      <td>Libya</td>\n",
              "      <td>Cosmetics</td>\n",
              "      <td>Offline</td>\n",
              "      <td>M</td>\n",
              "      <td>10/18/2014</td>\n",
              "      <td>686800706</td>\n",
              "      <td>10/31/2014</td>\n",
              "      <td>8446</td>\n",
              "      <td>437.20</td>\n",
              "      <td>263.33</td>\n",
              "      <td>3692591.20</td>\n",
              "      <td>2224085.18</td>\n",
              "      <td>1468506.02</td>\n",
              "    </tr>\n",
              "    <tr>\n",
              "      <th>1</th>\n",
              "      <td>North America</td>\n",
              "      <td>Canada</td>\n",
              "      <td>Vegetables</td>\n",
              "      <td>Online</td>\n",
              "      <td>M</td>\n",
              "      <td>11/7/2011</td>\n",
              "      <td>185941302</td>\n",
              "      <td>12/8/2011</td>\n",
              "      <td>3018</td>\n",
              "      <td>154.06</td>\n",
              "      <td>90.93</td>\n",
              "      <td>464953.08</td>\n",
              "      <td>274426.74</td>\n",
              "      <td>190526.34</td>\n",
              "    </tr>\n",
              "    <tr>\n",
              "      <th>2</th>\n",
              "      <td>Middle East and North Africa</td>\n",
              "      <td>Libya</td>\n",
              "      <td>Baby Food</td>\n",
              "      <td>Offline</td>\n",
              "      <td>C</td>\n",
              "      <td>10/31/2016</td>\n",
              "      <td>246222341</td>\n",
              "      <td>12/9/2016</td>\n",
              "      <td>1517</td>\n",
              "      <td>255.28</td>\n",
              "      <td>159.42</td>\n",
              "      <td>387259.76</td>\n",
              "      <td>241840.14</td>\n",
              "      <td>145419.62</td>\n",
              "    </tr>\n",
              "    <tr>\n",
              "      <th>3</th>\n",
              "      <td>Asia</td>\n",
              "      <td>Japan</td>\n",
              "      <td>Cereal</td>\n",
              "      <td>Offline</td>\n",
              "      <td>C</td>\n",
              "      <td>4/10/2010</td>\n",
              "      <td>161442649</td>\n",
              "      <td>5/12/2010</td>\n",
              "      <td>3322</td>\n",
              "      <td>205.70</td>\n",
              "      <td>117.11</td>\n",
              "      <td>683335.40</td>\n",
              "      <td>389039.42</td>\n",
              "      <td>294295.98</td>\n",
              "    </tr>\n",
              "    <tr>\n",
              "      <th>4</th>\n",
              "      <td>Sub-Saharan Africa</td>\n",
              "      <td>Chad</td>\n",
              "      <td>Fruits</td>\n",
              "      <td>Offline</td>\n",
              "      <td>H</td>\n",
              "      <td>8/16/2011</td>\n",
              "      <td>645713555</td>\n",
              "      <td>8/31/2011</td>\n",
              "      <td>9845</td>\n",
              "      <td>9.33</td>\n",
              "      <td>6.92</td>\n",
              "      <td>91853.85</td>\n",
              "      <td>68127.40</td>\n",
              "      <td>23726.45</td>\n",
              "    </tr>\n",
              "    <tr>\n",
              "      <th>5</th>\n",
              "      <td>Europe</td>\n",
              "      <td>Armenia</td>\n",
              "      <td>Cereal</td>\n",
              "      <td>Online</td>\n",
              "      <td>H</td>\n",
              "      <td>11/24/2014</td>\n",
              "      <td>683458888</td>\n",
              "      <td>12/28/2014</td>\n",
              "      <td>9528</td>\n",
              "      <td>205.70</td>\n",
              "      <td>117.11</td>\n",
              "      <td>1959909.60</td>\n",
              "      <td>1115824.08</td>\n",
              "      <td>844085.52</td>\n",
              "    </tr>\n",
              "    <tr>\n",
              "      <th>6</th>\n",
              "      <td>Sub-Saharan Africa</td>\n",
              "      <td>Eritrea</td>\n",
              "      <td>Cereal</td>\n",
              "      <td>Online</td>\n",
              "      <td>H</td>\n",
              "      <td>3/4/2015</td>\n",
              "      <td>679414975</td>\n",
              "      <td>4/17/2015</td>\n",
              "      <td>2844</td>\n",
              "      <td>205.70</td>\n",
              "      <td>117.11</td>\n",
              "      <td>585010.80</td>\n",
              "      <td>333060.84</td>\n",
              "      <td>251949.96</td>\n",
              "    </tr>\n",
              "    <tr>\n",
              "      <th>7</th>\n",
              "      <td>Europe</td>\n",
              "      <td>Montenegro</td>\n",
              "      <td>Clothes</td>\n",
              "      <td>Offline</td>\n",
              "      <td>M</td>\n",
              "      <td>5/17/2012</td>\n",
              "      <td>208630645</td>\n",
              "      <td>6/28/2012</td>\n",
              "      <td>7299</td>\n",
              "      <td>109.28</td>\n",
              "      <td>35.84</td>\n",
              "      <td>797634.72</td>\n",
              "      <td>261596.16</td>\n",
              "      <td>536038.56</td>\n",
              "    </tr>\n",
              "    <tr>\n",
              "      <th>8</th>\n",
              "      <td>Central America and the Caribbean</td>\n",
              "      <td>Jamaica</td>\n",
              "      <td>Vegetables</td>\n",
              "      <td>Online</td>\n",
              "      <td>H</td>\n",
              "      <td>1/29/2015</td>\n",
              "      <td>266467225</td>\n",
              "      <td>3/7/2015</td>\n",
              "      <td>2428</td>\n",
              "      <td>154.06</td>\n",
              "      <td>90.93</td>\n",
              "      <td>374057.68</td>\n",
              "      <td>220778.04</td>\n",
              "      <td>153279.64</td>\n",
              "    </tr>\n",
              "    <tr>\n",
              "      <th>9</th>\n",
              "      <td>Australia and Oceania</td>\n",
              "      <td>Fiji</td>\n",
              "      <td>Vegetables</td>\n",
              "      <td>Offline</td>\n",
              "      <td>H</td>\n",
              "      <td>12/24/2013</td>\n",
              "      <td>118598544</td>\n",
              "      <td>1/19/2014</td>\n",
              "      <td>4800</td>\n",
              "      <td>154.06</td>\n",
              "      <td>90.93</td>\n",
              "      <td>739488.00</td>\n",
              "      <td>436464.00</td>\n",
              "      <td>303024.00</td>\n",
              "    </tr>\n",
              "  </tbody>\n",
              "</table>\n",
              "</div>\n",
              "      <button class=\"colab-df-convert\" onclick=\"convertToInteractive('df-d78f37d8-f70d-44e9-bfe0-416ceeafc570')\"\n",
              "              title=\"Convert this dataframe to an interactive table.\"\n",
              "              style=\"display:none;\">\n",
              "        \n",
              "  <svg xmlns=\"http://www.w3.org/2000/svg\" height=\"24px\"viewBox=\"0 0 24 24\"\n",
              "       width=\"24px\">\n",
              "    <path d=\"M0 0h24v24H0V0z\" fill=\"none\"/>\n",
              "    <path d=\"M18.56 5.44l.94 2.06.94-2.06 2.06-.94-2.06-.94-.94-2.06-.94 2.06-2.06.94zm-11 1L8.5 8.5l.94-2.06 2.06-.94-2.06-.94L8.5 2.5l-.94 2.06-2.06.94zm10 10l.94 2.06.94-2.06 2.06-.94-2.06-.94-.94-2.06-.94 2.06-2.06.94z\"/><path d=\"M17.41 7.96l-1.37-1.37c-.4-.4-.92-.59-1.43-.59-.52 0-1.04.2-1.43.59L10.3 9.45l-7.72 7.72c-.78.78-.78 2.05 0 2.83L4 21.41c.39.39.9.59 1.41.59.51 0 1.02-.2 1.41-.59l7.78-7.78 2.81-2.81c.8-.78.8-2.07 0-2.86zM5.41 20L4 18.59l7.72-7.72 1.47 1.35L5.41 20z\"/>\n",
              "  </svg>\n",
              "      </button>\n",
              "      \n",
              "  <style>\n",
              "    .colab-df-container {\n",
              "      display:flex;\n",
              "      flex-wrap:wrap;\n",
              "      gap: 12px;\n",
              "    }\n",
              "\n",
              "    .colab-df-convert {\n",
              "      background-color: #E8F0FE;\n",
              "      border: none;\n",
              "      border-radius: 50%;\n",
              "      cursor: pointer;\n",
              "      display: none;\n",
              "      fill: #1967D2;\n",
              "      height: 32px;\n",
              "      padding: 0 0 0 0;\n",
              "      width: 32px;\n",
              "    }\n",
              "\n",
              "    .colab-df-convert:hover {\n",
              "      background-color: #E2EBFA;\n",
              "      box-shadow: 0px 1px 2px rgba(60, 64, 67, 0.3), 0px 1px 3px 1px rgba(60, 64, 67, 0.15);\n",
              "      fill: #174EA6;\n",
              "    }\n",
              "\n",
              "    [theme=dark] .colab-df-convert {\n",
              "      background-color: #3B4455;\n",
              "      fill: #D2E3FC;\n",
              "    }\n",
              "\n",
              "    [theme=dark] .colab-df-convert:hover {\n",
              "      background-color: #434B5C;\n",
              "      box-shadow: 0px 1px 3px 1px rgba(0, 0, 0, 0.15);\n",
              "      filter: drop-shadow(0px 1px 2px rgba(0, 0, 0, 0.3));\n",
              "      fill: #FFFFFF;\n",
              "    }\n",
              "  </style>\n",
              "\n",
              "      <script>\n",
              "        const buttonEl =\n",
              "          document.querySelector('#df-d78f37d8-f70d-44e9-bfe0-416ceeafc570 button.colab-df-convert');\n",
              "        buttonEl.style.display =\n",
              "          google.colab.kernel.accessAllowed ? 'block' : 'none';\n",
              "\n",
              "        async function convertToInteractive(key) {\n",
              "          const element = document.querySelector('#df-d78f37d8-f70d-44e9-bfe0-416ceeafc570');\n",
              "          const dataTable =\n",
              "            await google.colab.kernel.invokeFunction('convertToInteractive',\n",
              "                                                     [key], {});\n",
              "          if (!dataTable) return;\n",
              "\n",
              "          const docLinkHtml = 'Like what you see? Visit the ' +\n",
              "            '<a target=\"_blank\" href=https://colab.research.google.com/notebooks/data_table.ipynb>data table notebook</a>'\n",
              "            + ' to learn more about interactive tables.';\n",
              "          element.innerHTML = '';\n",
              "          dataTable['output_type'] = 'display_data';\n",
              "          await google.colab.output.renderOutput(dataTable, element);\n",
              "          const docLink = document.createElement('div');\n",
              "          docLink.innerHTML = docLinkHtml;\n",
              "          element.appendChild(docLink);\n",
              "        }\n",
              "      </script>\n",
              "    </div>\n",
              "  </div>\n",
              "  "
            ]
          },
          "metadata": {},
          "execution_count": 8
        }
      ]
    },
    {
      "cell_type": "markdown",
      "source": [
        "- The shape funtion is used to return a tuple representing the dimensionality of the DataFrame."
      ],
      "metadata": {
        "id": "ie9bgtexyadp"
      }
    },
    {
      "cell_type": "code",
      "source": [
        "df.shape"
      ],
      "metadata": {
        "colab": {
          "base_uri": "https://localhost:8080/"
        },
        "id": "pcjmZUFtycOz",
        "outputId": "da2105d7-3938-4db2-8612-4d8b12130a09"
      },
      "execution_count": 9,
      "outputs": [
        {
          "output_type": "execute_result",
          "data": {
            "text/plain": [
              "(1000, 14)"
            ]
          },
          "metadata": {},
          "execution_count": 9
        }
      ]
    },
    {
      "cell_type": "markdown",
      "source": [
        "- Chuyển cấu trúc Index của các columns về dạng list bằng hàm ép kiểu list().\n",
        "- Hiển thị danh sách columns."
      ],
      "metadata": {
        "id": "fpn2xMRU23lU"
      }
    },
    {
      "cell_type": "code",
      "source": [
        "lc = list(df.columns)\n",
        "lc"
      ],
      "metadata": {
        "colab": {
          "base_uri": "https://localhost:8080/"
        },
        "id": "Eo5Z0J6zzdu6",
        "outputId": "a7e192cb-96cf-475f-9e6d-91e9f5857d5f"
      },
      "execution_count": 10,
      "outputs": [
        {
          "output_type": "execute_result",
          "data": {
            "text/plain": [
              "['Region',\n",
              " 'Country',\n",
              " 'Item Type',\n",
              " 'Sales Channel',\n",
              " 'Order Priority',\n",
              " 'Order Date',\n",
              " 'Order ID',\n",
              " 'Ship Date',\n",
              " 'Units Sold',\n",
              " 'Unit Price',\n",
              " 'Unit Cost',\n",
              " 'Total Revenue',\n",
              " 'Total Cost',\n",
              " 'Total Profit']"
            ]
          },
          "metadata": {},
          "execution_count": 10
        }
      ]
    },
    {
      "cell_type": "markdown",
      "source": [
        "![image.png](data:image/png;base64,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)"
      ],
      "metadata": {
        "id": "fIB-hEwI2noF"
      }
    },
    {
      "cell_type": "markdown",
      "source": [
        "- Trích rút cột dữ liệu (định tính) - Country"
      ],
      "metadata": {
        "id": "n70rJ97o8r08"
      }
    },
    {
      "cell_type": "code",
      "source": [
        "x = df[\"Country\"]\n",
        "x.head(5)"
      ],
      "metadata": {
        "colab": {
          "base_uri": "https://localhost:8080/"
        },
        "id": "ykWK-4xs1p09",
        "outputId": "f77e08f5-de0e-4d88-e0b7-3594ce1dddc0"
      },
      "execution_count": 11,
      "outputs": [
        {
          "output_type": "execute_result",
          "data": {
            "text/plain": [
              "0     Libya\n",
              "1    Canada\n",
              "2     Libya\n",
              "3     Japan\n",
              "4      Chad\n",
              "Name: Country, dtype: object"
            ]
          },
          "metadata": {},
          "execution_count": 11
        }
      ]
    },
    {
      "cell_type": "markdown",
      "source": [
        "- Trích rút cột dữ liệu (định lượng) - Total Cost"
      ],
      "metadata": {
        "id": "Kiv01JR68xT8"
      }
    },
    {
      "cell_type": "code",
      "source": [
        "y = df[\"Total Cost\"]\n",
        "y.head(5)"
      ],
      "metadata": {
        "id": "pD-64i5I83qz",
        "colab": {
          "base_uri": "https://localhost:8080/"
        },
        "outputId": "7417337e-5f73-471f-f1a4-7edc5bbe076f"
      },
      "execution_count": 12,
      "outputs": [
        {
          "output_type": "execute_result",
          "data": {
            "text/plain": [
              "0    2224085.18\n",
              "1     274426.74\n",
              "2     241840.14\n",
              "3     389039.42\n",
              "4      68127.40\n",
              "Name: Total Cost, dtype: float64"
            ]
          },
          "metadata": {},
          "execution_count": 12
        }
      ]
    },
    {
      "cell_type": "markdown",
      "source": [
        "![image.png](data:image/png;base64,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)"
      ],
      "metadata": {
        "id": "Cld5gZ1SO29Z"
      }
    },
    {
      "cell_type": "markdown",
      "source": [
        "a. Các chỉ số thống kê"
      ],
      "metadata": {
        "id": "dftnjCeCTN7G"
      }
    },
    {
      "cell_type": "markdown",
      "source": [
        "(1) Số lớn nhất - max"
      ],
      "metadata": {
        "id": "BtY0mF1SPa-6"
      }
    },
    {
      "cell_type": "code",
      "source": [
        "print('Chỉ số lớn nhất: \\n')\n",
        "df.max()"
      ],
      "metadata": {
        "colab": {
          "base_uri": "https://localhost:8080/"
        },
        "id": "HceCAfn6O2LO",
        "outputId": "550e8e19-acab-4908-a9be-ffc396a234e2"
      },
      "execution_count": 18,
      "outputs": [
        {
          "output_type": "stream",
          "name": "stdout",
          "text": [
            "Chỉ số lớn nhất: \n",
            "\n"
          ]
        },
        {
          "output_type": "execute_result",
          "data": {
            "text/plain": [
              "Region            Sub-Saharan Africa\n",
              "Country                     Zimbabwe\n",
              "Item Type                 Vegetables\n",
              "Sales Channel                 Online\n",
              "Order Priority                     M\n",
              "Order Date                  9/8/2015\n",
              "Order ID                   995529830\n",
              "Ship Date                   9/9/2016\n",
              "Units Sold                      9998\n",
              "Unit Price                    668.27\n",
              "Unit Cost                     524.96\n",
              "Total Revenue             6617209.54\n",
              "Total Cost                 5204978.4\n",
              "Total Profit              1726181.36\n",
              "dtype: object"
            ]
          },
          "metadata": {},
          "execution_count": 18
        }
      ]
    },
    {
      "cell_type": "markdown",
      "source": [
        "(2) Số nhỏ nhất - min"
      ],
      "metadata": {
        "id": "ypz0K1nOQgaa"
      }
    },
    {
      "cell_type": "code",
      "source": [
        "print('Chỉ số nhỏ nhất: \\n')\n",
        "df.min()"
      ],
      "metadata": {
        "colab": {
          "base_uri": "https://localhost:8080/"
        },
        "id": "A6OUPYqAP_LD",
        "outputId": "b62ae5a8-3c5f-4c5d-d9d5-2d2b0aa8fc67"
      },
      "execution_count": 17,
      "outputs": [
        {
          "output_type": "stream",
          "name": "stdout",
          "text": [
            "Chỉ số nhỏ nhất: \n",
            "\n"
          ]
        },
        {
          "output_type": "execute_result",
          "data": {
            "text/plain": [
              "Region                   Asia\n",
              "Country           Afghanistan\n",
              "Item Type           Baby Food\n",
              "Sales Channel         Offline\n",
              "Order Priority              C\n",
              "Order Date           1/1/2010\n",
              "Order ID            102928006\n",
              "Ship Date            1/1/2013\n",
              "Units Sold                 13\n",
              "Unit Price               9.33\n",
              "Unit Cost                6.92\n",
              "Total Revenue         2043.25\n",
              "Total Cost            1416.75\n",
              "Total Profit           532.61\n",
              "dtype: object"
            ]
          },
          "metadata": {},
          "execution_count": 17
        }
      ]
    },
    {
      "cell_type": "markdown",
      "source": [
        "(3) Giá trị trung bình - mean"
      ],
      "metadata": {
        "id": "vF9hdSXfRGwJ"
      }
    },
    {
      "cell_type": "code",
      "source": [
        "print('Giá trị trung bình: \\n',np.mean(df))"
      ],
      "metadata": {
        "colab": {
          "base_uri": "https://localhost:8080/"
        },
        "id": "k9Fx6sXXQL3i",
        "outputId": "7a86e954-05a7-4ef4-febf-a4d555a5a0ee"
      },
      "execution_count": 19,
      "outputs": [
        {
          "output_type": "stream",
          "name": "stdout",
          "text": [
            "Giá trị trung bình: \n",
            " Order ID         5.496813e+08\n",
            "Units Sold       5.053988e+03\n",
            "Unit Price       2.621068e+02\n",
            "Unit Cost        1.849651e+02\n",
            "Total Revenue    1.327322e+06\n",
            "Total Cost       9.361192e+05\n",
            "Total Profit     3.912026e+05\n",
            "dtype: float64\n"
          ]
        },
        {
          "output_type": "stream",
          "name": "stderr",
          "text": [
            "/usr/local/lib/python3.7/dist-packages/numpy/core/fromnumeric.py:3438: FutureWarning: Dropping of nuisance columns in DataFrame reductions (with 'numeric_only=None') is deprecated; in a future version this will raise TypeError.  Select only valid columns before calling the reduction.\n",
            "  return mean(axis=axis, dtype=dtype, out=out, **kwargs)\n"
          ]
        }
      ]
    },
    {
      "cell_type": "markdown",
      "source": [
        "(4) Giá trị trung vị - median"
      ],
      "metadata": {
        "id": "pgW9Kf4wRMu_"
      }
    },
    {
      "cell_type": "code",
      "source": [
        "print('Giá trị trung vị: \\n',df.median())"
      ],
      "metadata": {
        "colab": {
          "base_uri": "https://localhost:8080/"
        },
        "id": "DnZK5Ly0Qreb",
        "outputId": "6d852ea3-3315-4f4d-db57-713f3922c119"
      },
      "execution_count": 21,
      "outputs": [
        {
          "output_type": "stream",
          "name": "stdout",
          "text": [
            "Giá trị trung vị: \n",
            " Order ID         5.566097e+08\n",
            "Units Sold       5.184000e+03\n",
            "Unit Price       1.540600e+02\n",
            "Unit Cost        9.744000e+01\n",
            "Total Revenue    7.549392e+05\n",
            "Total Cost       4.647261e+05\n",
            "Total Profit     2.772260e+05\n",
            "dtype: float64\n"
          ]
        },
        {
          "output_type": "stream",
          "name": "stderr",
          "text": [
            "/usr/local/lib/python3.7/dist-packages/ipykernel_launcher.py:1: FutureWarning: Dropping of nuisance columns in DataFrame reductions (with 'numeric_only=None') is deprecated; in a future version this will raise TypeError.  Select only valid columns before calling the reduction.\n",
            "  \"\"\"Entry point for launching an IPython kernel.\n"
          ]
        }
      ]
    },
    {
      "cell_type": "markdown",
      "source": [
        "(5) Phương sai - variance"
      ],
      "metadata": {
        "id": "9UqasqmVR4dn"
      }
    },
    {
      "cell_type": "code",
      "source": [
        "print('Phương sai: \\n')\n",
        "df.var()"
      ],
      "metadata": {
        "colab": {
          "base_uri": "https://localhost:8080/"
        },
        "id": "ltRYisuZR_-X",
        "outputId": "acda665f-cf45-4937-90c0-03c56c160e84"
      },
      "execution_count": 23,
      "outputs": [
        {
          "output_type": "stream",
          "name": "stdout",
          "text": [
            "Phương sai: \n",
            "\n"
          ]
        },
        {
          "output_type": "stream",
          "name": "stderr",
          "text": [
            "/usr/local/lib/python3.7/dist-packages/ipykernel_launcher.py:2: FutureWarning: Dropping of nuisance columns in DataFrame reductions (with 'numeric_only=None') is deprecated; in a future version this will raise TypeError.  Select only valid columns before calling the reduction.\n",
            "  \n"
          ]
        },
        {
          "output_type": "execute_result",
          "data": {
            "text/plain": [
              "Order ID         6.611756e+16\n",
              "Units Sold       8.417979e+06\n",
              "Unit Price       4.666510e+04\n",
              "Unit Cost        3.072634e+04\n",
              "Total Revenue    2.209726e+12\n",
              "Total Cost       1.351571e+12\n",
              "Total Profit     1.471798e+11\n",
              "dtype: float64"
            ]
          },
          "metadata": {},
          "execution_count": 23
        }
      ]
    },
    {
      "cell_type": "markdown",
      "source": [
        "(6) Độ lệch chuẩn - standard deviation"
      ],
      "metadata": {
        "id": "AcEZygXGRbtH"
      }
    },
    {
      "cell_type": "code",
      "source": [
        "print('Độ lệch chuẩn: \\n')\n",
        "df.std()"
      ],
      "metadata": {
        "colab": {
          "base_uri": "https://localhost:8080/"
        },
        "id": "m97liYeDQ3La",
        "outputId": "65ebdc65-9c70-436e-d1c9-d3877252f57e"
      },
      "execution_count": 22,
      "outputs": [
        {
          "output_type": "stream",
          "name": "stdout",
          "text": [
            "Độ lệch chuẩn: \n",
            "\n"
          ]
        },
        {
          "output_type": "stream",
          "name": "stderr",
          "text": [
            "/usr/local/lib/python3.7/dist-packages/ipykernel_launcher.py:2: FutureWarning: Dropping of nuisance columns in DataFrame reductions (with 'numeric_only=None') is deprecated; in a future version this will raise TypeError.  Select only valid columns before calling the reduction.\n",
            "  \n"
          ]
        },
        {
          "output_type": "execute_result",
          "data": {
            "text/plain": [
              "Order ID         2.571334e+08\n",
              "Units Sold       2.901375e+03\n",
              "Unit Price       2.160211e+02\n",
              "Unit Cost        1.752893e+02\n",
              "Total Revenue    1.486515e+06\n",
              "Total Cost       1.162571e+06\n",
              "Total Profit     3.836402e+05\n",
              "dtype: float64"
            ]
          },
          "metadata": {},
          "execution_count": 22
        }
      ]
    },
    {
      "cell_type": "markdown",
      "source": [
        "(7) Q1 và Q3"
      ],
      "metadata": {
        "id": "oUtrL04GTDRw"
      }
    },
    {
      "cell_type": "code",
      "source": [
        "print(\"Q1 và Q3: \", df.quantile([.1, .5]))"
      ],
      "metadata": {
        "colab": {
          "base_uri": "https://localhost:8080/"
        },
        "id": "zkNdusnORBYH",
        "outputId": "633b4d9a-8f75-4c67-f801-a96bfe0a04b0"
      },
      "execution_count": 25,
      "outputs": [
        {
          "output_type": "stream",
          "name": "stdout",
          "text": [
            "Q1 và Q3:          Order ID  Units Sold  Unit Price  Unit Cost  Total Revenue  \\\n",
            "0.1  194180275.7      1039.9       47.45      31.79      70962.007   \n",
            "0.5  556609713.5      5184.0      154.06      97.44     754939.180   \n",
            "\n",
            "     Total Cost  Total Profit  \n",
            "0.1   46972.350     20718.666  \n",
            "0.5  464726.065    277225.980  \n"
          ]
        }
      ]
    },
    {
      "cell_type": "markdown",
      "source": [
        "b. Biểu đồ boxplot "
      ],
      "metadata": {
        "id": "0KmBalvMTSKF"
      }
    },
    {
      "cell_type": "code",
      "source": [
        "print(\"So do boxplot: \\n\", df.boxplot)"
      ],
      "metadata": {
        "colab": {
          "base_uri": "https://localhost:8080/"
        },
        "id": "Mcrz-ezAS5FV",
        "outputId": "400d48bd-4dbe-4e87-ead0-350d8821f0d9"
      },
      "execution_count": 26,
      "outputs": [
        {
          "output_type": "stream",
          "name": "stdout",
          "text": [
            "So do boxplot: \n",
            " <bound method boxplot_frame of                            Region               Country   Item Type  \\\n",
            "0    Middle East and North Africa                 Libya   Cosmetics   \n",
            "1                   North America                Canada  Vegetables   \n",
            "2    Middle East and North Africa                 Libya   Baby Food   \n",
            "3                            Asia                 Japan      Cereal   \n",
            "4              Sub-Saharan Africa                  Chad      Fruits   \n",
            "..                            ...                   ...         ...   \n",
            "995  Middle East and North Africa            Azerbaijan      Snacks   \n",
            "996                        Europe               Georgia   Baby Food   \n",
            "997  Middle East and North Africa  United Arab Emirates  Vegetables   \n",
            "998                        Europe               Finland   Household   \n",
            "999                        Europe              Portugal      Cereal   \n",
            "\n",
            "    Sales Channel Order Priority  Order Date   Order ID   Ship Date  \\\n",
            "0         Offline              M  10/18/2014  686800706  10/31/2014   \n",
            "1          Online              M   11/7/2011  185941302   12/8/2011   \n",
            "2         Offline              C  10/31/2016  246222341   12/9/2016   \n",
            "3         Offline              C   4/10/2010  161442649   5/12/2010   \n",
            "4         Offline              H   8/16/2011  645713555   8/31/2011   \n",
            "..            ...            ...         ...        ...         ...   \n",
            "995       Offline              C   4/18/2010  534085166   4/25/2010   \n",
            "996       Offline              H    8/1/2011  590768182    9/7/2011   \n",
            "997        Online              C   5/12/2011  524363124   6/28/2011   \n",
            "998       Offline              L   1/25/2016  289606320   2/14/2016   \n",
            "999       Offline              C   4/10/2014  811546599    5/8/2014   \n",
            "\n",
            "     Units Sold  Unit Price  Unit Cost  Total Revenue  Total Cost  \\\n",
            "0          8446      437.20     263.33     3692591.20  2224085.18   \n",
            "1          3018      154.06      90.93      464953.08   274426.74   \n",
            "2          1517      255.28     159.42      387259.76   241840.14   \n",
            "3          3322      205.70     117.11      683335.40   389039.42   \n",
            "4          9845        9.33       6.92       91853.85    68127.40   \n",
            "..          ...         ...        ...            ...         ...   \n",
            "995        6524      152.58      97.44      995431.92   635698.56   \n",
            "996         288      255.28     159.42       73520.64    45912.96   \n",
            "997        9556      154.06      90.93     1472197.36   868927.08   \n",
            "998        9801      668.27     502.54     6549714.27  4925394.54   \n",
            "999        3528      205.70     117.11      725709.60   413164.08   \n",
            "\n",
            "     Total Profit  \n",
            "0      1468506.02  \n",
            "1       190526.34  \n",
            "2       145419.62  \n",
            "3       294295.98  \n",
            "4        23726.45  \n",
            "..            ...  \n",
            "995     359733.36  \n",
            "996      27607.68  \n",
            "997     603270.28  \n",
            "998    1624319.73  \n",
            "999     312545.52  \n",
            "\n",
            "[1000 rows x 14 columns]>\n"
          ]
        }
      ]
    },
    {
      "cell_type": "markdown",
      "source": [
        "c. Biểu đồ histogram (với bins = 100)"
      ],
      "metadata": {
        "id": "SY_umMchUCfo"
      }
    },
    {
      "cell_type": "code",
      "source": [
        "print(\"HISTORYAM: \", df.hist(bins=100))"
      ],
      "metadata": {
        "colab": {
          "base_uri": "https://localhost:8080/",
          "height": 450
        },
        "id": "V9K34PdLTYJw",
        "outputId": "e0c19a97-7e4a-48f5-d2d1-3d8679766e1d"
      },
      "execution_count": 28,
      "outputs": [
        {
          "output_type": "stream",
          "name": "stdout",
          "text": [
            "HISTORYAM:  [[<matplotlib.axes._subplots.AxesSubplot object at 0x7fd42ddde7d0>\n",
            "  <matplotlib.axes._subplots.AxesSubplot object at 0x7fd42dd370d0>\n",
            "  <matplotlib.axes._subplots.AxesSubplot object at 0x7fd42dce5d90>]\n",
            " [<matplotlib.axes._subplots.AxesSubplot object at 0x7fd42dca83d0>\n",
            "  <matplotlib.axes._subplots.AxesSubplot object at 0x7fd42dcdea10>\n",
            "  <matplotlib.axes._subplots.AxesSubplot object at 0x7fd42dc94fd0>]\n",
            " [<matplotlib.axes._subplots.AxesSubplot object at 0x7fd42dc576d0>\n",
            "  <matplotlib.axes._subplots.AxesSubplot object at 0x7fd42dc0dc10>\n",
            "  <matplotlib.axes._subplots.AxesSubplot object at 0x7fd42dc0dc50>]]\n"
          ]
        },
        {
          "output_type": "display_data",
          "data": {
            "text/plain": [
              "<Figure size 432x288 with 9 Axes>"
            ],
            "image/png": "[encoded data removed]"
          },
          "metadata": {
            "needs_background": "light"
          }
        }
      ]
    }
  ]
}